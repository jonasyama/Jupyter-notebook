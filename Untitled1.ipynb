{
 "cells": [
  {
   "cell_type": "code",
   "execution_count": 1,
   "id": "07be45c6-c29a-4cd9-8b66-4aa6fb906059",
   "metadata": {},
   "outputs": [],
   "source": [
    "import numpy as np \n",
    "import matplotlib.pyplot as plt\n",
    "import sympy as smp\n",
    "import fourierdouble as fd"
   ]
  },
  {
   "cell_type": "code",
   "execution_count": 369,
   "id": "d10e8150-e4db-480c-a5d8-0d682e98a115",
   "metadata": {},
   "outputs": [],
   "source": [
    "x,t,c1,c2,c3, c4,e,n,y1,n1=smp.symbols('x t c_1 c_2 c_3 c_4 e n y_1 n_1')\n",
    "y = smp.Function('y')(x)\n"
   ]
  },
  {
   "cell_type": "code",
   "execution_count": 3,
   "id": "751f805b-712c-415a-b48d-568ae6412bba",
   "metadata": {},
   "outputs": [
    {
     "data": {
      "text/latex": [
       "$\\displaystyle 1 - x$"
      ],
      "text/plain": [
       "1 - x"
      ]
     },
     "execution_count": 3,
     "metadata": {},
     "output_type": "execute_result"
    }
   ],
   "source": [
    "n1=1-x\n",
    "n1"
   ]
  },
  {
   "cell_type": "code",
   "execution_count": 4,
   "id": "ab57b492-1f2e-4842-a037-c995baee3ad0",
   "metadata": {},
   "outputs": [
    {
     "data": {
      "text/latex": [
       "$\\displaystyle 1 - x^{2}$"
      ],
      "text/plain": [
       "1 - x**2"
      ]
     },
     "execution_count": 4,
     "metadata": {},
     "output_type": "execute_result"
    }
   ],
   "source": [
    "n2=1-x**2\n",
    "n2"
   ]
  },
  {
   "cell_type": "code",
   "execution_count": 5,
   "id": "ded0e639-2fca-41a2-b6ed-24cb319b4932",
   "metadata": {},
   "outputs": [
    {
     "data": {
      "text/latex": [
       "$\\displaystyle x^{2} - 2 x + 1$"
      ],
      "text/plain": [
       "x**2 - 2*x + 1"
      ]
     },
     "execution_count": 5,
     "metadata": {},
     "output_type": "execute_result"
    }
   ],
   "source": [
    "n3=x**2-2*x+1\n",
    "n3\n"
   ]
  },
  {
   "cell_type": "code",
   "execution_count": 6,
   "id": "3d983345-a413-4385-8228-21f6415488b6",
   "metadata": {},
   "outputs": [
    {
     "data": {
      "text/latex": [
       "$\\displaystyle c_{1} \\cdot \\left(1 - x\\right) + c_{2} \\cdot \\left(1 - x^{2}\\right) + x^{2} - 2 x + 1$"
      ],
      "text/plain": [
       "c_1*(1 - x) + c_2*(1 - x**2) + x**2 - 2*x + 1"
      ]
     },
     "execution_count": 6,
     "metadata": {},
     "output_type": "execute_result"
    }
   ],
   "source": [
    "u1=c1*n1+c2*n2+n3\n",
    "u1"
   ]
  },
  {
   "cell_type": "code",
   "execution_count": 7,
   "id": "9dd65a04-fb56-4ec0-9234-0b177c2206a9",
   "metadata": {},
   "outputs": [
    {
     "data": {
      "text/latex": [
       "$\\displaystyle c_{1} \\cdot \\left(1 - x\\right) + c_{2} \\cdot \\left(1 - x^{2}\\right) - 2 c_{2} + x^{2} - 2 x + 2$"
      ],
      "text/plain": [
       "c_1*(1 - x) + c_2*(1 - x**2) - 2*c_2 + x**2 - 2*x + 2"
      ]
     },
     "execution_count": 7,
     "metadata": {},
     "output_type": "execute_result"
    }
   ],
   "source": [
    "R=smp.diff(smp.diff(u1,x),x)+u1-1\n",
    "\n",
    "R"
   ]
  },
  {
   "cell_type": "code",
   "execution_count": 8,
   "id": "ebd07043-162d-4615-b160-10a7f6275cdc",
   "metadata": {},
   "outputs": [
    {
     "data": {
      "text/latex": [
       "$\\displaystyle \\frac{c_{1}}{2} - \\frac{4 c_{2}}{3} + \\frac{4}{3}$"
      ],
      "text/plain": [
       "c_1/2 - 4*c_2/3 + 4/3"
      ]
     },
     "execution_count": 8,
     "metadata": {},
     "output_type": "execute_result"
    }
   ],
   "source": [
    "eq1=smp.integrate(R,(x,0,1))\n",
    "eq1"
   ]
  },
  {
   "cell_type": "code",
   "execution_count": 9,
   "id": "bbe01467-9cfc-4b57-a30c-9c6ab377848b",
   "metadata": {},
   "outputs": [
    {
     "data": {
      "text/latex": [
       "$\\displaystyle \\frac{c_{1}}{6} - \\frac{3 c_{2}}{4} + \\frac{7}{12}$"
      ],
      "text/plain": [
       "c_1/6 - 3*c_2/4 + 7/12"
      ]
     },
     "execution_count": 9,
     "metadata": {},
     "output_type": "execute_result"
    }
   ],
   "source": [
    "eq2=smp.integrate(x*R,(x,0,1))\n",
    "eq2"
   ]
  },
  {
   "cell_type": "code",
   "execution_count": 10,
   "id": "db453733-300c-4107-9311-b54e2f802946",
   "metadata": {},
   "outputs": [
    {
     "data": {
      "text/plain": [
       "{c_1: -16/11, c_2: 5/11}"
      ]
     },
     "execution_count": 10,
     "metadata": {},
     "output_type": "execute_result"
    }
   ],
   "source": [
    "sol=smp.solve([eq1,eq2],[c1,c2])\n",
    "sol"
   ]
  },
  {
   "cell_type": "code",
   "execution_count": 11,
   "id": "9511e426-0350-4411-ac54-0d8346495228",
   "metadata": {},
   "outputs": [],
   "source": [
    "C1=sol[c1]\n",
    "C2=sol[c2]"
   ]
  },
  {
   "cell_type": "code",
   "execution_count": 12,
   "id": "71b719ea-b761-4661-9d6c-792ccda4251e",
   "metadata": {},
   "outputs": [
    {
     "data": {
      "text/latex": [
       "$\\displaystyle \\frac{6 x^{2}}{11} - \\frac{6 x}{11} + \\frac{12}{11}$"
      ],
      "text/plain": [
       "6*x**2/11 - 6*x/11 + 12/11"
      ]
     },
     "execution_count": 12,
     "metadata": {},
     "output_type": "execute_result"
    }
   ],
   "source": [
    "u=C1*n1+C2*n2+n3\n",
    "R=smp.diff(smp.diff(u,x),x)+u\n",
    "R"
   ]
  },
  {
   "cell_type": "markdown",
   "id": "f81a0204-c6f6-4728-ad32-009b0220e70c",
   "metadata": {},
   "source": [
    "### 2"
   ]
  },
  {
   "cell_type": "code",
   "execution_count": 13,
   "id": "2ecb33db-75c3-46cc-b7a7-39c86c604dc5",
   "metadata": {},
   "outputs": [
    {
     "data": {
      "text/latex": [
       "$\\displaystyle c_{1} x^{3} + c_{2} x^{2} + c_{3} x + c_{4}$"
      ],
      "text/plain": [
       "c_1*x**3 + c_2*x**2 + c_3*x + c_4"
      ]
     },
     "execution_count": 13,
     "metadata": {},
     "output_type": "execute_result"
    }
   ],
   "source": [
    "u2=c1*x**3+c2*x**2+c3*x+c4\n",
    "u2"
   ]
  },
  {
   "cell_type": "code",
   "execution_count": 14,
   "id": "dca40af7-9f08-4538-8cb5-7366ac1d8be7",
   "metadata": {},
   "outputs": [],
   "source": [
    "c4=1"
   ]
  },
  {
   "cell_type": "code",
   "execution_count": 15,
   "id": "aefc15ed-7b1c-465c-ac17-87cc5ea4d155",
   "metadata": {},
   "outputs": [
    {
     "data": {
      "text/latex": [
       "$\\displaystyle 3 c_{1} + 2 c_{2} + c_{3}$"
      ],
      "text/plain": [
       "3*c_1 + 2*c_2 + c_3"
      ]
     },
     "execution_count": 15,
     "metadata": {},
     "output_type": "execute_result"
    }
   ],
   "source": [
    "du2dx=smp.diff(u2,x)\n",
    "du2dx.subs(x,1)"
   ]
  },
  {
   "cell_type": "code",
   "execution_count": 16,
   "id": "116fe555-dd28-4e8c-929a-32542900bb29",
   "metadata": {},
   "outputs": [
    {
     "data": {
      "text/latex": [
       "$\\displaystyle x^{3} - 2 x^{2} + x + 1$"
      ],
      "text/plain": [
       "x**3 - 2*x**2 + x + 1"
      ]
     },
     "execution_count": 16,
     "metadata": {},
     "output_type": "execute_result"
    }
   ],
   "source": [
    "x**3-2*x**2+x+1"
   ]
  },
  {
   "cell_type": "code",
   "execution_count": 67,
   "id": "8b7c74f9-3742-4e1d-979b-f5652a26198c",
   "metadata": {
    "tags": []
   },
   "outputs": [
    {
     "data": {
      "text/latex": [
       "$\\displaystyle c_{1}$"
      ],
      "text/plain": [
       "c_1"
      ]
     },
     "execution_count": 67,
     "metadata": {},
     "output_type": "execute_result"
    }
   ],
   "source": [
    "u2=c1*(-2*x**3+x**2+4*x+1)\n",
    "u2.subs(x,0)"
   ]
  },
  {
   "cell_type": "code",
   "execution_count": 68,
   "id": "40990125-88ee-4cb9-8113-c1abf4c14eef",
   "metadata": {},
   "outputs": [
    {
     "data": {
      "text/latex": [
       "$\\displaystyle 0$"
      ],
      "text/plain": [
       "0"
      ]
     },
     "execution_count": 68,
     "metadata": {},
     "output_type": "execute_result"
    }
   ],
   "source": [
    "dudx=smp.diff(u2,x)\n",
    "dudx.subs(x,1)"
   ]
  },
  {
   "cell_type": "code",
   "execution_count": 69,
   "id": "c3128411-6325-44f2-9fb5-ae0eecc2a7e8",
   "metadata": {},
   "outputs": [
    {
     "data": {
      "text/latex": [
       "$\\displaystyle 0$"
      ],
      "text/plain": [
       "0"
      ]
     },
     "execution_count": 69,
     "metadata": {},
     "output_type": "execute_result"
    }
   ],
   "source": [
    "u3=c2*(x**3-x**2-x+1)\n",
    "du3dx=smp.diff(u3,x)\n",
    "du3dx.subs(x,1)"
   ]
  },
  {
   "cell_type": "code",
   "execution_count": 70,
   "id": "1bd85307-0e6e-4cad-baa7-f5f37e8893d6",
   "metadata": {},
   "outputs": [
    {
     "data": {
      "text/latex": [
       "$\\displaystyle c_{2}$"
      ],
      "text/plain": [
       "c_2"
      ]
     },
     "execution_count": 70,
     "metadata": {},
     "output_type": "execute_result"
    }
   ],
   "source": [
    "u3.subs(x,0)"
   ]
  },
  {
   "cell_type": "code",
   "execution_count": 71,
   "id": "0f503fec-54f9-46dd-9b5f-b832ac572050",
   "metadata": {},
   "outputs": [
    {
     "data": {
      "text/latex": [
       "$\\displaystyle c_{1} \\left(- 2 x^{3} + x^{2} + 4 x + 1\\right) + c_{2} \\left(x^{3} - x^{2} - x + 1\\right)$"
      ],
      "text/plain": [
       "c_1*(-2*x**3 + x**2 + 4*x + 1) + c_2*(x**3 - x**2 - x + 1)"
      ]
     },
     "execution_count": 71,
     "metadata": {},
     "output_type": "execute_result"
    }
   ],
   "source": [
    "U=u3+u2\n",
    "U"
   ]
  },
  {
   "cell_type": "code",
   "execution_count": 72,
   "id": "bb8439a9-e4df-4bc7-8204-380427630a03",
   "metadata": {},
   "outputs": [
    {
     "data": {
      "text/latex": [
       "$\\displaystyle c_{1} \\left(- 6 x^{2} + 2 x + 4\\right) + c_{1} \\left(- 2 x^{3} + x^{2} + 4 x + 1\\right) + c_{2} \\cdot \\left(3 x^{2} - 2 x - 1\\right) + c_{2} \\left(x^{3} - x^{2} - x + 1\\right) + x \\left(c_{1} \\cdot \\left(2 - 12 x\\right) + c_{2} \\cdot \\left(6 x - 2\\right)\\right)$"
      ],
      "text/plain": [
       "c_1*(-6*x**2 + 2*x + 4) + c_1*(-2*x**3 + x**2 + 4*x + 1) + c_2*(3*x**2 - 2*x - 1) + c_2*(x**3 - x**2 - x + 1) + x*(c_1*(2 - 12*x) + c_2*(6*x - 2))"
      ]
     },
     "execution_count": 72,
     "metadata": {},
     "output_type": "execute_result"
    }
   ],
   "source": [
    "R2=smp.diff(x*smp.diff(U,x),x)+U\n",
    "R2"
   ]
  },
  {
   "cell_type": "code",
   "execution_count": 73,
   "id": "a483b0bc-b265-4cba-9791-e0d396c29ecb",
   "metadata": {},
   "outputs": [
    {
     "data": {
      "text/latex": [
       "$\\displaystyle \\frac{17 c_{1}}{6} + \\frac{5 c_{2}}{12}$"
      ],
      "text/plain": [
       "17*c_1/6 + 5*c_2/12"
      ]
     },
     "execution_count": 73,
     "metadata": {},
     "output_type": "execute_result"
    }
   ],
   "source": [
    "eq1=smp.integrate(R2,(x,0,1))\n",
    "eq1"
   ]
  },
  {
   "cell_type": "code",
   "execution_count": 74,
   "id": "6446818c-4a5f-4c24-8e01-2afa51a17d3f",
   "metadata": {},
   "outputs": [
    {
     "data": {
      "text/latex": [
       "$\\displaystyle \\frac{31 c_{1}}{60} + \\frac{8 c_{2}}{15}$"
      ],
      "text/plain": [
       "31*c_1/60 + 8*c_2/15"
      ]
     },
     "execution_count": 74,
     "metadata": {},
     "output_type": "execute_result"
    }
   ],
   "source": [
    "eq2=smp.integrate(x*R2,(x,0,1))\n",
    "eq2"
   ]
  },
  {
   "cell_type": "code",
   "execution_count": 75,
   "id": "3dc9d324-ff42-4876-8a80-235bb41df7e4",
   "metadata": {},
   "outputs": [
    {
     "data": {
      "text/plain": [
       "{c_1: 0, c_2: 0}"
      ]
     },
     "execution_count": 75,
     "metadata": {},
     "output_type": "execute_result"
    }
   ],
   "source": [
    "smp.solve([eq1,eq2],[c1,c2])"
   ]
  },
  {
   "cell_type": "code",
   "execution_count": 76,
   "id": "1f3be6c2-8a6f-48c8-82de-ff7c04fee452",
   "metadata": {},
   "outputs": [
    {
     "data": {
      "text/latex": [
       "$\\displaystyle - 14 x^{3} + 9 x^{2} + 24 x + 1$"
      ],
      "text/plain": [
       "-14*x**3 + 9*x**2 + 24*x + 1"
      ]
     },
     "execution_count": 76,
     "metadata": {},
     "output_type": "execute_result"
    }
   ],
   "source": [
    "uf=U.subs([(c1,5),(c2,-4)])\n",
    "uf"
   ]
  },
  {
   "cell_type": "code",
   "execution_count": 77,
   "id": "0a38477d-da9d-495f-bb34-8df8989da4d2",
   "metadata": {
    "tags": []
   },
   "outputs": [
    {
     "data": {
      "image/png": "[encoded data removed]",
      "text/plain": [
       "<Figure size 432x288 with 1 Axes>"
      ]
     },
     "metadata": {
      "needs_background": "light"
     },
     "output_type": "display_data"
    },
    {
     "data": {
      "text/plain": [
       "<sympy.plotting.plot.Plot at 0x1f748d99850>"
      ]
     },
     "execution_count": 77,
     "metadata": {},
     "output_type": "execute_result"
    }
   ],
   "source": [
    "smp.plot(uf,(x,0,1))"
   ]
  },
  {
   "attachments": {
    "98b09885-29b9-467d-8279-9778622f9ebc.png": {
     "image/png": "[encoded data removed]"
    }
   },
   "cell_type": "markdown",
   "id": "d9fcd06d-0616-427d-b8bc-c3e4a4a7c477",
   "metadata": {},
   "source": [
    "![image.png](attachment:98b09885-29b9-467d-8279-9778622f9ebc.png)\n"
   ]
  },
  {
   "cell_type": "code",
   "execution_count": 195,
   "id": "5bfbeee9-2157-432c-8d67-35262d10088c",
   "metadata": {},
   "outputs": [],
   "source": [
    "y1=x*(x-1)\n",
    "y2=x**2*(x-1)\n",
    "y3=x**3*(x-1)"
   ]
  },
  {
   "cell_type": "code",
   "execution_count": 196,
   "id": "d56345a6-cf8e-47ca-a7ef-db8f6f999d2c",
   "metadata": {},
   "outputs": [
    {
     "data": {
      "text/latex": [
       "$\\displaystyle c_{1} x \\left(x - 1\\right) + 2 c_{1} + c_{2} x^{2} \\left(x - 1\\right) + 4 c_{2} x + 2 c_{2} \\left(x - 1\\right) + x^{3} \\left(x - 1\\right) + 6 x^{2} + 6 x \\left(x - 1\\right) - 2 x$"
      ],
      "text/plain": [
       "c_1*x*(x - 1) + 2*c_1 + c_2*x**2*(x - 1) + 4*c_2*x + 2*c_2*(x - 1) + x**3*(x - 1) + 6*x**2 + 6*x*(x - 1) - 2*x"
      ]
     },
     "execution_count": 196,
     "metadata": {},
     "output_type": "execute_result"
    }
   ],
   "source": [
    "u=c1*y1+c2*y2+y3\n",
    "R=smp.diff(smp.diff(u,x),x)+u-2*x\n",
    "R"
   ]
  },
  {
   "cell_type": "code",
   "execution_count": 197,
   "id": "35c71ec2-e133-4e38-bab4-1cf0720f8517",
   "metadata": {},
   "outputs": [
    {
     "data": {
      "text/latex": [
       "$\\displaystyle \\frac{11 c_{1}}{6} + \\frac{11 c_{2}}{12} - \\frac{1}{20}$"
      ],
      "text/plain": [
       "11*c_1/6 + 11*c_2/12 - 1/20"
      ]
     },
     "execution_count": 197,
     "metadata": {},
     "output_type": "execute_result"
    }
   ],
   "source": [
    "eq1=smp.integrate(R,(x,0,1))\n",
    "eq1"
   ]
  },
  {
   "cell_type": "code",
   "execution_count": 198,
   "id": "045dea6a-dc23-4c10-a75d-a6a8f189ce1b",
   "metadata": {},
   "outputs": [
    {
     "data": {
      "text/latex": [
       "$\\displaystyle \\frac{11 c_{1}}{12} + \\frac{19 c_{2}}{20} + \\frac{3}{10}$"
      ],
      "text/plain": [
       "11*c_1/12 + 19*c_2/20 + 3/10"
      ]
     },
     "execution_count": 198,
     "metadata": {},
     "output_type": "execute_result"
    }
   ],
   "source": [
    "eq2=smp.integrate(x*R,(x,0,1))\n",
    "eq2"
   ]
  },
  {
   "cell_type": "code",
   "execution_count": 199,
   "id": "6848fb9d-7d45-4bd4-8f56-1b6421305337",
   "metadata": {},
   "outputs": [],
   "source": [
    "sol=smp.solve([eq1,eq2],[c1,c2])"
   ]
  },
  {
   "cell_type": "code",
   "execution_count": 200,
   "id": "06995273-adbd-4892-8768-fa1e3582647d",
   "metadata": {},
   "outputs": [],
   "source": [
    "U=sol[c1]*y1+sol[c2]*y2+y3"
   ]
  },
  {
   "cell_type": "code",
   "execution_count": 201,
   "id": "ac562083-64a3-4c38-bca0-07e83963106f",
   "metadata": {},
   "outputs": [
    {
     "data": {
      "text/latex": [
       "$\\displaystyle x^{3} \\left(x - 1\\right) - \\frac{39 x^{2} \\left(x - 1\\right)}{59} + \\frac{1161 x \\left(x - 1\\right)}{3245}$"
      ],
      "text/plain": [
       "x**3*(x - 1) - 39*x**2*(x - 1)/59 + 1161*x*(x - 1)/3245"
      ]
     },
     "execution_count": 201,
     "metadata": {},
     "output_type": "execute_result"
    }
   ],
   "source": [
    "U"
   ]
  },
  {
   "cell_type": "code",
   "execution_count": 202,
   "id": "ff9fb089-88f6-4142-98cc-85099cc2e436",
   "metadata": {},
   "outputs": [
    {
     "data": {
      "image/png": "[encoded data removed]",
      "text/plain": [
       "<Figure size 432x288 with 1 Axes>"
      ]
     },
     "metadata": {
      "needs_background": "light"
     },
     "output_type": "display_data"
    },
    {
     "data": {
      "text/plain": [
       "<sympy.plotting.plot.Plot at 0x1f74b1acc40>"
      ]
     },
     "execution_count": 202,
     "metadata": {},
     "output_type": "execute_result"
    }
   ],
   "source": [
    "smp.plot(U)"
   ]
  },
  {
   "cell_type": "code",
   "execution_count": 203,
   "id": "d01a6e01-f864-4e01-8dbc-4af439ae5c67",
   "metadata": {},
   "outputs": [],
   "source": [
    "###colocação"
   ]
  },
  {
   "cell_type": "code",
   "execution_count": 204,
   "id": "c0ca9da8-2631-47ad-bfff-1ace93cbfa6f",
   "metadata": {},
   "outputs": [],
   "source": [
    "eq1=R.subs(x,1/3)"
   ]
  },
  {
   "cell_type": "code",
   "execution_count": 205,
   "id": "29173e6b-aea0-4c3d-b1a7-ecb6ab794a24",
   "metadata": {},
   "outputs": [
    {
     "data": {
      "text/latex": [
       "$\\displaystyle 1.77777777777778 c_{1} + 1.85185185185185 c_{2} - 0.0987654320987656$"
      ],
      "text/plain": [
       "1.77777777777778*c_1 + 1.85185185185185*c_2 - 0.0987654320987656"
      ]
     },
     "execution_count": 205,
     "metadata": {},
     "output_type": "execute_result"
    }
   ],
   "source": [
    "eq2=R.subs(x,2/3)\n",
    "eq2"
   ]
  },
  {
   "cell_type": "code",
   "execution_count": 206,
   "id": "08bd8c2f-447d-49b4-b03a-ca6b7aec4ea1",
   "metadata": {},
   "outputs": [],
   "source": [
    "sol=smp.solve([eq1,eq2],[c1,c2])\n",
    "C1=sol[c1]\n",
    "C2=sol[c2]"
   ]
  },
  {
   "cell_type": "code",
   "execution_count": 207,
   "id": "d8d93337-ecc8-4f74-a51b-11422b513efa",
   "metadata": {},
   "outputs": [],
   "source": [
    "Uc=C1*y1+C2*y2+y3"
   ]
  },
  {
   "cell_type": "code",
   "execution_count": 208,
   "id": "00878b33-0208-466c-ae76-ae250afe131b",
   "metadata": {},
   "outputs": [
    {
     "data": {
      "image/png": "[encoded data removed]",
      "text/plain": [
       "<Figure size 432x288 with 1 Axes>"
      ]
     },
     "metadata": {
      "needs_background": "light"
     },
     "output_type": "display_data"
    },
    {
     "data": {
      "text/plain": [
       "<sympy.plotting.plot.Plot at 0x1f74b0a8f70>"
      ]
     },
     "execution_count": 208,
     "metadata": {},
     "output_type": "execute_result"
    }
   ],
   "source": [
    "smp.plot(Uc,U)"
   ]
  },
  {
   "cell_type": "code",
   "execution_count": 209,
   "id": "43c15054-4f9e-4141-ad79-2bcf022f56ef",
   "metadata": {},
   "outputs": [],
   "source": [
    "#least squared\n"
   ]
  },
  {
   "cell_type": "code",
   "execution_count": 210,
   "id": "0a25bc6d-d719-4c07-bc4f-895d336251be",
   "metadata": {},
   "outputs": [
    {
     "data": {
      "text/latex": [
       "$\\displaystyle x \\left(x - 1\\right) + 2$"
      ],
      "text/plain": [
       "x*(x - 1) + 2"
      ]
     },
     "execution_count": 210,
     "metadata": {},
     "output_type": "execute_result"
    }
   ],
   "source": [
    "w1=smp.diff(R,c1)\n",
    "w1"
   ]
  },
  {
   "cell_type": "code",
   "execution_count": 211,
   "id": "393d26f3-f990-4ccc-9796-aed2f681d7e6",
   "metadata": {},
   "outputs": [
    {
     "data": {
      "text/latex": [
       "$\\displaystyle x^{2} \\left(x - 1\\right) + 6 x - 2$"
      ],
      "text/plain": [
       "x**2*(x - 1) + 6*x - 2"
      ]
     },
     "execution_count": 211,
     "metadata": {},
     "output_type": "execute_result"
    }
   ],
   "source": [
    "w2=smp.diff(R,c2)\n",
    "w2"
   ]
  },
  {
   "cell_type": "code",
   "execution_count": 212,
   "id": "c35f8cbe-0fc5-47af-ae0e-70d47da9e3b6",
   "metadata": {},
   "outputs": [],
   "source": [
    "eq1=smp.integrate(w1*R,(x,0,1))\n",
    "eq2=smp.integrate(w2*R,(x,0,1))"
   ]
  },
  {
   "cell_type": "code",
   "execution_count": 213,
   "id": "83629b60-2c1f-4ff1-b1e1-90806ecae803",
   "metadata": {},
   "outputs": [],
   "source": [
    "sol=smp.solve([eq1,eq2],[c1,c2])\n",
    "C1=sol[c1]\n",
    "C2=sol[c2]"
   ]
  },
  {
   "cell_type": "code",
   "execution_count": 214,
   "id": "e4bef9e6-749a-46aa-a94f-6c95e6451770",
   "metadata": {},
   "outputs": [],
   "source": [
    "Uq=C1*y1+C2*y2+y3"
   ]
  },
  {
   "cell_type": "code",
   "execution_count": 215,
   "id": "da57cedf-c1db-4dd5-a225-e82ae1b9444e",
   "metadata": {},
   "outputs": [
    {
     "data": {
      "image/png": "[encoded data removed]",
      "text/plain": [
       "<Figure size 432x288 with 1 Axes>"
      ]
     },
     "metadata": {
      "needs_background": "light"
     },
     "output_type": "display_data"
    },
    {
     "data": {
      "text/plain": [
       "<sympy.plotting.plot.Plot at 0x1f7481ff760>"
      ]
     },
     "execution_count": 215,
     "metadata": {},
     "output_type": "execute_result"
    }
   ],
   "source": [
    "smp.plot(Uc,U,Uq,(x,0,1))"
   ]
  },
  {
   "cell_type": "code",
   "execution_count": 216,
   "id": "4ceae6f5-a992-4f0c-8400-25bd4292619b",
   "metadata": {},
   "outputs": [],
   "source": [
    "#galerkin"
   ]
  },
  {
   "cell_type": "code",
   "execution_count": 218,
   "id": "7d3eca2d-336c-4866-816c-6f5e6b9fba24",
   "metadata": {},
   "outputs": [],
   "source": [
    "w1=y1\n",
    "w2=y2"
   ]
  },
  {
   "cell_type": "code",
   "execution_count": 219,
   "id": "4e343de9-fb24-4348-b577-a21c73799194",
   "metadata": {},
   "outputs": [],
   "source": [
    "eq1=smp.integrate(w1*R,(x,0,1))\n",
    "eq2=smp.integrate(w2*R,(x,0,1))"
   ]
  },
  {
   "cell_type": "code",
   "execution_count": 220,
   "id": "10182e96-a0a0-47d8-9eb9-cf6acfb8f0ea",
   "metadata": {},
   "outputs": [],
   "source": [
    "sol=smp.solve([eq1,eq2],[c1,c2])\n",
    "C1=sol[c1]\n",
    "C2=sol[c2]"
   ]
  },
  {
   "cell_type": "code",
   "execution_count": 221,
   "id": "758a40d8-fffc-4774-8d0d-631eb1119d38",
   "metadata": {},
   "outputs": [],
   "source": [
    "Ug=C1*y1+C2*y2+y3"
   ]
  },
  {
   "cell_type": "code",
   "execution_count": 222,
   "id": "1b1e49a9-1dfd-4f0d-a931-10fefd1cf440",
   "metadata": {},
   "outputs": [
    {
     "data": {
      "image/png": "[encoded data removed]",
      "text/plain": [
       "<Figure size 432x288 with 1 Axes>"
      ]
     },
     "metadata": {
      "needs_background": "light"
     },
     "output_type": "display_data"
    },
    {
     "data": {
      "text/plain": [
       "<sympy.plotting.plot.Plot at 0x1f74b1d24f0>"
      ]
     },
     "execution_count": 222,
     "metadata": {},
     "output_type": "execute_result"
    }
   ],
   "source": [
    "smp.plot(Uc,U,Uq,Ug,(x,0,1))"
   ]
  },
  {
   "attachments": {
    "af23b73f-5a0f-48fd-b8e1-87b662fb08e4.png": {
     "image/png": "[encoded data removed]"
    }
   },
   "cell_type": "markdown",
   "id": "00c81f75-9583-4b79-b482-b444d94c90f0",
   "metadata": {},
   "source": [
    "### 3)\n",
    "![image.png](attachment:af23b73f-5a0f-48fd-b8e1-87b662fb08e4.png)\n"
   ]
  },
  {
   "cell_type": "code",
   "execution_count": 351,
   "id": "abbef5d8-6d6b-49ab-b6ca-bfdbd6999822",
   "metadata": {},
   "outputs": [],
   "source": [
    "y1=(1-x)**1\n",
    "y2=(1-x)**2\n",
    "y3=smp.cos(smp.pi*x/2)"
   ]
  },
  {
   "cell_type": "code",
   "execution_count": 352,
   "id": "f4f8c16e-ca21-4879-b833-7dd6bca624b1",
   "metadata": {},
   "outputs": [],
   "source": [
    "u1=c1*y1+c2*y2+y3"
   ]
  },
  {
   "cell_type": "code",
   "execution_count": 353,
   "id": "c3a3158e-51fc-4fa6-97b6-fc04ccf93c92",
   "metadata": {},
   "outputs": [],
   "source": [
    "R=smp.diff(smp.diff(u1,x),x)-smp.diff(u1,x)-2*x"
   ]
  },
  {
   "cell_type": "code",
   "execution_count": 354,
   "id": "d5301e0a-1e6e-4e33-b3a2-495be9ea6a49",
   "metadata": {},
   "outputs": [
    {
     "data": {
      "text/latex": [
       "$\\displaystyle c_{1} - c_{2} \\cdot \\left(2 x - 2\\right) + 2 c_{2} - 2 x + \\frac{\\pi \\sin{\\left(\\frac{\\pi x}{2} \\right)}}{2} - \\frac{\\pi^{2} \\cos{\\left(\\frac{\\pi x}{2} \\right)}}{4}$"
      ],
      "text/plain": [
       "c_1 - c_2*(2*x - 2) + 2*c_2 - 2*x + pi*sin(pi*x/2)/2 - pi**2*cos(pi*x/2)/4"
      ]
     },
     "execution_count": 354,
     "metadata": {},
     "output_type": "execute_result"
    }
   ],
   "source": [
    "R"
   ]
  },
  {
   "cell_type": "code",
   "execution_count": 355,
   "id": "04e79b02-697e-4a1d-be91-d2d6df613662",
   "metadata": {},
   "outputs": [],
   "source": [
    "w1=y1\n",
    "w2=y2"
   ]
  },
  {
   "cell_type": "code",
   "execution_count": 356,
   "id": "93e46858-795a-4e99-a1b1-bbfa1965df2b",
   "metadata": {},
   "outputs": [],
   "source": [
    "eq1=smp.integrate(w1*R,(x,0,1))\n",
    "eq2=smp.integrate(w2*R,(x,0,1))"
   ]
  },
  {
   "cell_type": "code",
   "execution_count": 357,
   "id": "98c8781a-8414-474a-91c4-f9eb5ae3341d",
   "metadata": {},
   "outputs": [
    {
     "data": {
      "text/plain": [
       "{c_1: (-56*pi**2 - 480 + 324*pi)/pi**2, c_2: (-96*pi + 144 + 17*pi**2)/pi**2}"
      ]
     },
     "execution_count": 357,
     "metadata": {},
     "output_type": "execute_result"
    }
   ],
   "source": [
    "sol=smp.solve([eq1,eq2],[c1,c2])\n",
    "C1=sol[c1]\n",
    "C2=sol[c2]\n",
    "sol"
   ]
  },
  {
   "cell_type": "code",
   "execution_count": 358,
   "id": "b75702ed-0bba-419a-9010-16780f653f53",
   "metadata": {},
   "outputs": [
    {
     "data": {
      "text/latex": [
       "$\\displaystyle \\frac{\\left(1 - x\\right)^{2} \\left(- 96 \\pi + 144 + 17 \\pi^{2}\\right)}{\\pi^{2}} + \\frac{\\left(1 - x\\right) \\left(- 56 \\pi^{2} - 480 + 324 \\pi\\right)}{\\pi^{2}} + \\cos{\\left(\\frac{\\pi x}{2} \\right)}$"
      ],
      "text/plain": [
       "(1 - x)**2*(-96*pi + 144 + 17*pi**2)/pi**2 + (1 - x)*(-56*pi**2 - 480 + 324*pi)/pi**2 + cos(pi*x/2)"
      ]
     },
     "execution_count": 358,
     "metadata": {},
     "output_type": "execute_result"
    }
   ],
   "source": [
    "Ug=C1*y1+C2*y2+y3\n",
    "Ug"
   ]
  },
  {
   "cell_type": "code",
   "execution_count": 359,
   "id": "9b2d826b-1f39-4a92-b37b-4366f4cf4073",
   "metadata": {},
   "outputs": [
    {
     "data": {
      "image/png": "[encoded data removed]",
      "text/plain": [
       "<Figure size 432x288 with 1 Axes>"
      ]
     },
     "metadata": {
      "needs_background": "light"
     },
     "output_type": "display_data"
    },
    {
     "data": {
      "text/plain": [
       "<sympy.plotting.plot.Plot at 0x1f74cbb8820>"
      ]
     },
     "execution_count": 359,
     "metadata": {},
     "output_type": "execute_result"
    }
   ],
   "source": [
    "smp.plot(Ug,(x,0,1))"
   ]
  },
  {
   "cell_type": "code",
   "execution_count": 377,
   "id": "749eee15-6692-4aa3-af54-df6695303141",
   "metadata": {},
   "outputs": [
    {
     "data": {
      "text/latex": [
       "$\\displaystyle \\sqrt{\\frac{\\left(e n_{1} + y_{1}\\right)^{2} + 1}{e n + y{\\left(x \\right)}}}$"
      ],
      "text/plain": [
       "sqrt(((e*n_1 + y_1)**2 + 1)/(e*n + y(x)))"
      ]
     },
     "execution_count": 377,
     "metadata": {},
     "output_type": "execute_result"
    }
   ],
   "source": [
    "i=(smp.sqrt((1+(y1+e*n1)**2)/(y+e*n)))\n",
    "i\n"
   ]
  },
  {
   "cell_type": "code",
   "execution_count": 378,
   "id": "cc85010c-f313-4214-a967-02ac75e3ef26",
   "metadata": {},
   "outputs": [
    {
     "data": {
      "text/latex": [
       "$\\displaystyle - \\frac{\\sqrt{\\frac{y_{1}^{2} + 1}{y{\\left(x \\right)}}} \\left(n y_{1}^{2} + n - 2 n_{1} y_{1} y{\\left(x \\right)}\\right)}{2 \\left(y_{1}^{2} + 1\\right) y{\\left(x \\right)}}$"
      ],
      "text/plain": [
       "-sqrt((y_1**2 + 1)/y(x))*(n*y_1**2 + n - 2*n_1*y_1*y(x))/(2*(y_1**2 + 1)*y(x))"
      ]
     },
     "execution_count": 378,
     "metadata": {},
     "output_type": "execute_result"
    }
   ],
   "source": [
    "I=smp.diff(i,e)\n",
    "I=I.subs(e,0)\n",
    "I.factor()"
   ]
  },
  {
   "attachments": {
    "dadc4c11-3117-4c81-823e-4572cd9f4cf3.png": {
     "image/png": "[encoded data removed]"
    }
   },
   "cell_type": "markdown",
   "id": "ff3085f3-6677-41cc-9182-9f43d24389b3",
   "metadata": {},
   "source": [
    "### dois elementos\n",
    "![image.png](attachment:dadc4c11-3117-4c81-823e-4572cd9f4cf3.png)"
   ]
  },
  {
   "cell_type": "code",
   "execution_count": 476,
   "id": "1820bcb8-cc20-4d4c-ae70-95687c1bf46f",
   "metadata": {},
   "outputs": [],
   "source": [
    "x1,x2,x3,u1,u2,u3,x,u,l=smp.symbols('x_1 x_2 x_3 u_1 u_2 u_3 x,u l')"
   ]
  },
  {
   "cell_type": "code",
   "execution_count": 382,
   "id": "0448b9b0-736e-4cf3-972a-9b4135a1a826",
   "metadata": {},
   "outputs": [
    {
     "data": {
      "text/latex": [
       "$\\displaystyle \\frac{- x + x_{2}}{- x_{1} + x_{2}}$"
      ],
      "text/plain": [
       "(-x + x_2)/(-x_1 + x_2)"
      ]
     },
     "execution_count": 382,
     "metadata": {},
     "output_type": "execute_result"
    }
   ],
   "source": [
    "N1=(x2-x)/(x2-x1)\n",
    "N1"
   ]
  },
  {
   "cell_type": "code",
   "execution_count": 394,
   "id": "9f17cfcc-1f0b-4ef5-84b9-4b8c327f2a6b",
   "metadata": {},
   "outputs": [
    {
     "data": {
      "text/latex": [
       "$\\displaystyle \\frac{x - x_{1}}{- x_{1} + x_{2}}$"
      ],
      "text/plain": [
       "(x - x_1)/(-x_1 + x_2)"
      ]
     },
     "execution_count": 394,
     "metadata": {},
     "output_type": "execute_result"
    }
   ],
   "source": [
    "N2=(x-x1)/(x2-x1)\n",
    "N2"
   ]
  },
  {
   "attachments": {
    "513659c1-7812-4adc-8364-47ab6e5291bf.png": {
     "image/png": "[encoded data removed]"
    }
   },
   "cell_type": "markdown",
   "id": "9f6178da-ddf6-420b-9bbc-c790841e94c0",
   "metadata": {},
   "source": [
    "![image.png](attachment:513659c1-7812-4adc-8364-47ab6e5291bf.png)"
   ]
  },
  {
   "cell_type": "code",
   "execution_count": 395,
   "id": "10c4cff6-d79a-4b95-b406-7c090730a981",
   "metadata": {},
   "outputs": [
    {
     "data": {
      "text/latex": [
       "$\\displaystyle \\frac{1}{x_{1} - x_{2}}$"
      ],
      "text/plain": [
       "1/(x_1 - x_2)"
      ]
     },
     "execution_count": 395,
     "metadata": {},
     "output_type": "execute_result"
    }
   ],
   "source": [
    "eq1=smp.diff(N1,x)\n",
    "eq1.factor()"
   ]
  },
  {
   "cell_type": "code",
   "execution_count": 396,
   "id": "468bd578-e430-49bc-bd16-be32563a06ce",
   "metadata": {},
   "outputs": [
    {
     "data": {
      "text/latex": [
       "$\\displaystyle - \\frac{1}{x_{1} - x_{2}}$"
      ],
      "text/plain": [
       "-1/(x_1 - x_2)"
      ]
     },
     "execution_count": 396,
     "metadata": {},
     "output_type": "execute_result"
    }
   ],
   "source": [
    "eq2=smp.diff(N2,x)\n",
    "eq2.factor()"
   ]
  },
  {
   "cell_type": "code",
   "execution_count": 400,
   "id": "a687052e-4eef-4147-87a1-3e2f8d24e1f9",
   "metadata": {},
   "outputs": [
    {
     "data": {
      "text/latex": [
       "$\\displaystyle \\left[\\begin{matrix}- \\frac{1}{- x_{1} + x_{2}}\\\\\\frac{1}{- x_{1} + x_{2}}\\end{matrix}\\right]$"
      ],
      "text/plain": [
       "Matrix([\n",
       "[-1/(-x_1 + x_2)],\n",
       "[ 1/(-x_1 + x_2)]])"
      ]
     },
     "execution_count": 400,
     "metadata": {},
     "output_type": "execute_result"
    }
   ],
   "source": [
    "dndx=smp.Matrix([eq1,eq2])\n",
    "dndx"
   ]
  },
  {
   "cell_type": "code",
   "execution_count": 420,
   "id": "6993d9fd-369b-4bad-8eff-56b4dd5247f3",
   "metadata": {},
   "outputs": [
    {
     "data": {
      "text/plain": [
       "(2, 1)"
      ]
     },
     "execution_count": 420,
     "metadata": {},
     "output_type": "execute_result"
    }
   ],
   "source": [
    "dndx.shape"
   ]
  },
  {
   "cell_type": "code",
   "execution_count": 429,
   "id": "6f6f4e8e-f140-4e6e-8f52-f20e4b84b058",
   "metadata": {},
   "outputs": [
    {
     "data": {
      "text/latex": [
       "$\\displaystyle \\left[\\begin{matrix}\\frac{1}{\\left(- x_{1} + x_{2}\\right)^{2}} & - \\frac{1}{\\left(- x_{1} + x_{2}\\right)^{2}}\\\\- \\frac{1}{\\left(- x_{1} + x_{2}\\right)^{2}} & \\frac{1}{\\left(- x_{1} + x_{2}\\right)^{2}}\\end{matrix}\\right]$"
      ],
      "text/plain": [
       "Matrix([\n",
       "[(-x_1 + x_2)**(-2), -1/(-x_1 + x_2)**2],\n",
       "[-1/(-x_1 + x_2)**2, (-x_1 + x_2)**(-2)]])"
      ]
     },
     "execution_count": 445,
     "metadata": {},
     "output_type": "execute_result"
    }
   ],
   "source": [
    "A=dndx*dndx.T\n",
    "A"
   ]
  },
  {
   "cell_type": "code",
   "execution_count": 427,
   "id": "7afa4f13-8c08-43c4-96a3-b7b72a97d446",
   "metadata": {},
   "outputs": [],
   "source": [
    "#elemento1\n"
   ]
  },
  {
   "cell_type": "code",
   "execution_count": 431,
   "id": "a49e79eb-7a3e-42a6-8739-f2cbbb1aa567",
   "metadata": {},
   "outputs": [
    {
     "data": {
      "text/latex": [
       "$\\displaystyle \\left[\\begin{matrix}- \\frac{x_{1}}{\\left(- x_{1} + x_{2}\\right)^{2}} + \\frac{x_{2}}{\\left(- x_{1} + x_{2}\\right)^{2}} & \\frac{x_{1}}{\\left(- x_{1} + x_{2}\\right)^{2}} - \\frac{x_{2}}{\\left(- x_{1} + x_{2}\\right)^{2}}\\\\\\frac{x_{1}}{\\left(- x_{1} + x_{2}\\right)^{2}} - \\frac{x_{2}}{\\left(- x_{1} + x_{2}\\right)^{2}} & - \\frac{x_{1}}{\\left(- x_{1} + x_{2}\\right)^{2}} + \\frac{x_{2}}{\\left(- x_{1} + x_{2}\\right)^{2}}\\end{matrix}\\right]$"
      ],
      "text/plain": [
       "Matrix([\n",
       "[-x_1/(-x_1 + x_2)**2 + x_2/(-x_1 + x_2)**2,  x_1/(-x_1 + x_2)**2 - x_2/(-x_1 + x_2)**2],\n",
       "[ x_1/(-x_1 + x_2)**2 - x_2/(-x_1 + x_2)**2, -x_1/(-x_1 + x_2)**2 + x_2/(-x_1 + x_2)**2]])"
      ]
     },
     "execution_count": 431,
     "metadata": {},
     "output_type": "execute_result"
    }
   ],
   "source": [
    "smp.integrate(A,(x,x1,x2))"
   ]
  },
  {
   "cell_type": "code",
   "execution_count": 446,
   "id": "bcc249bd-641c-4d51-8dfa-fb37436b2cb9",
   "metadata": {},
   "outputs": [],
   "source": [
    "x1=1\n",
    "x2=1.5"
   ]
  },
  {
   "cell_type": "code",
   "execution_count": 453,
   "id": "b03148aa-66f9-432d-9333-77e983e8c269",
   "metadata": {},
   "outputs": [],
   "source": [
    "N1=(x2-x)/(x2-x1)\n",
    "N2=(x-x1)/(x2-x1)"
   ]
  },
  {
   "cell_type": "code",
   "execution_count": 454,
   "id": "9f0f1914-7cd6-4693-ab4d-f47f3d83c405",
   "metadata": {},
   "outputs": [
    {
     "data": {
      "text/latex": [
       "$\\displaystyle -2.0$"
      ],
      "text/plain": [
       "-2.00000000000000"
      ]
     },
     "execution_count": 454,
     "metadata": {},
     "output_type": "execute_result"
    }
   ],
   "source": [
    "eq1=smp.diff(N1,x)\n",
    "eq1.factor()"
   ]
  },
  {
   "cell_type": "code",
   "execution_count": 455,
   "id": "ff0112de-cf2b-4301-9a2b-b472407c939c",
   "metadata": {},
   "outputs": [
    {
     "data": {
      "text/latex": [
       "$\\displaystyle 2.0$"
      ],
      "text/plain": [
       "2.00000000000000"
      ]
     },
     "execution_count": 455,
     "metadata": {},
     "output_type": "execute_result"
    }
   ],
   "source": [
    "eq2=smp.diff(N2,x)\n",
    "eq2.factor()"
   ]
  },
  {
   "cell_type": "code",
   "execution_count": 447,
   "id": "0ff4fc4a-5236-4e55-9ccc-df1b77647116",
   "metadata": {},
   "outputs": [],
   "source": [
    "B=smp.integrate(A,(x,x1,x2))"
   ]
  },
  {
   "cell_type": "code",
   "execution_count": 449,
   "id": "1a209b75-5d3b-46c3-9ff8-ad40a3b1c3d1",
   "metadata": {},
   "outputs": [
    {
     "data": {
      "text/latex": [
       "$\\displaystyle \\left[\\begin{matrix}\\frac{0.5}{\\left(- x_{1} + x_{2}\\right)^{2}} & - \\frac{0.5}{\\left(- x_{1} + x_{2}\\right)^{2}}\\\\- \\frac{0.5}{\\left(- x_{1} + x_{2}\\right)^{2}} & \\frac{0.5}{\\left(- x_{1} + x_{2}\\right)^{2}}\\end{matrix}\\right]$"
      ],
      "text/plain": [
       "Matrix([\n",
       "[ 0.5/(-x_1 + x_2)**2, -0.5/(-x_1 + x_2)**2],\n",
       "[-0.5/(-x_1 + x_2)**2,  0.5/(-x_1 + x_2)**2]])"
      ]
     },
     "execution_count": 449,
     "metadata": {},
     "output_type": "execute_result"
    }
   ],
   "source": [
    "B"
   ]
  },
  {
   "cell_type": "code",
   "execution_count": 457,
   "id": "af871e37-8495-4367-8c9b-129618ff1a91",
   "metadata": {},
   "outputs": [
    {
     "data": {
      "text/latex": [
       "$\\displaystyle \\left[\\begin{matrix}4.0 & -4.0\\\\-4.0 & 4.0\\end{matrix}\\right]$"
      ],
      "text/plain": [
       "Matrix([\n",
       "[ 4.0, -4.0],\n",
       "[-4.0,  4.0]])"
      ]
     },
     "execution_count": 457,
     "metadata": {},
     "output_type": "execute_result"
    }
   ],
   "source": [
    "dndx=smp.Matrix([eq1,eq2])\n",
    "A=dndx*dndx.T\n",
    "A"
   ]
  },
  {
   "cell_type": "code",
   "execution_count": 459,
   "id": "a354fd8a-07f6-47fd-a9c9-22e6caa9dc4d",
   "metadata": {},
   "outputs": [
    {
     "data": {
      "text/latex": [
       "$\\displaystyle \\left[\\begin{matrix}2.5 & -2.5\\\\-2.5 & 2.5\\end{matrix}\\right]$"
      ],
      "text/plain": [
       "Matrix([\n",
       "[ 2.5, -2.5],\n",
       "[-2.5,  2.5]])"
      ]
     },
     "execution_count": 459,
     "metadata": {},
     "output_type": "execute_result"
    }
   ],
   "source": [
    "smp.integrate(A*x,(x,x1,x2))"
   ]
  },
  {
   "cell_type": "code",
   "execution_count": 475,
   "id": "eaab8b90-be0b-4736-8aa8-159ded3b8912",
   "metadata": {},
   "outputs": [
    {
     "data": {
      "text/latex": [
       "$\\displaystyle \\left[\\begin{matrix}-1.0\\\\1.5\\end{matrix}\\right]$"
      ],
      "text/plain": [
       "Matrix([\n",
       "[-1.0],\n",
       "[ 1.5]])"
      ]
     },
     "execution_count": 475,
     "metadata": {},
     "output_type": "execute_result"
    }
   ],
   "source": [
    "C=x*smp.Matrix([N1,N2])\n",
    "Crref=C.rref()\n",
    "C.subs(x,1.5)-C.subs(x,1)"
   ]
  },
  {
   "cell_type": "markdown",
   "id": "dc69b989-3ba6-4012-adfb-4707bae2cb11",
   "metadata": {},
   "source": [
    "# Flexao elemento de viga"
   ]
  },
  {
   "cell_type": "code",
   "execution_count": 479,
   "id": "ba513350-77b5-4016-820a-f7a22edc23a4",
   "metadata": {},
   "outputs": [
    {
     "data": {
      "text/latex": [
       "$\\displaystyle 1 - \\frac{3 x^{2}}{l^{2}} + \\frac{2 x^{3}}{l^{3}}$"
      ],
      "text/plain": [
       "1 - 3*x**2/l**2 + 2*x**3/l**3"
      ]
     },
     "execution_count": 479,
     "metadata": {},
     "output_type": "execute_result"
    }
   ],
   "source": [
    "n1=1-3*x**2/l**2+2*x**3/(l**3)\n",
    "n1"
   ]
  },
  {
   "cell_type": "code",
   "execution_count": 499,
   "id": "3737ca42-b5b8-4875-86bb-5485bc980139",
   "metadata": {},
   "outputs": [
    {
     "data": {
      "text/latex": [
       "$\\displaystyle x - \\frac{2 x^{2}}{l} + \\frac{x^{3}}{l^{2}}$"
      ],
      "text/plain": [
       "x - 2*x**2/l + x**3/l**2"
      ]
     },
     "execution_count": 499,
     "metadata": {},
     "output_type": "execute_result"
    }
   ],
   "source": [
    "n2=x-2*x**2/l+x**3/l**2\n",
    "n2"
   ]
  },
  {
   "cell_type": "code",
   "execution_count": 500,
   "id": "7d76b746-f601-477f-8342-2485447be3e4",
   "metadata": {},
   "outputs": [
    {
     "data": {
      "text/latex": [
       "$\\displaystyle \\frac{3 x^{2}}{l^{2}} - \\frac{2 x^{3}}{l^{3}}$"
      ],
      "text/plain": [
       "3*x**2/l**2 - 2*x**3/l**3"
      ]
     },
     "execution_count": 500,
     "metadata": {},
     "output_type": "execute_result"
    }
   ],
   "source": [
    "n3=3*x**2/l**2-2*x**3/l**3\n",
    "n3"
   ]
  },
  {
   "cell_type": "code",
   "execution_count": 501,
   "id": "1104ffc6-3ebd-41e6-88f9-eaceeb352776",
   "metadata": {},
   "outputs": [
    {
     "data": {
      "text/latex": [
       "$\\displaystyle - \\frac{x^{2}}{l} + \\frac{x^{3}}{l^{2}}$"
      ],
      "text/plain": [
       "-x**2/l + x**3/l**2"
      ]
     },
     "execution_count": 501,
     "metadata": {},
     "output_type": "execute_result"
    }
   ],
   "source": [
    "n4=x**3/l**2-x**2/l\n",
    "n4"
   ]
  },
  {
   "cell_type": "code",
   "execution_count": 502,
   "id": "f9ec9f1b-c86b-471a-8a0a-3d8b5f2847cb",
   "metadata": {},
   "outputs": [
    {
     "data": {
      "text/latex": [
       "$\\displaystyle \\left[\\begin{matrix}1 - \\frac{3 x^{2}}{l^{2}} + \\frac{2 x^{3}}{l^{3}}\\\\x - \\frac{2 x^{2}}{l} + \\frac{x^{3}}{l^{2}}\\\\\\frac{3 x^{2}}{l^{2}} - \\frac{2 x^{3}}{l^{3}}\\\\- \\frac{x^{2}}{l} + \\frac{x^{3}}{l^{2}}\\end{matrix}\\right]$"
      ],
      "text/plain": [
       "Matrix([\n",
       "[1 - 3*x**2/l**2 + 2*x**3/l**3],\n",
       "[     x - 2*x**2/l + x**3/l**2],\n",
       "[    3*x**2/l**2 - 2*x**3/l**3],\n",
       "[          -x**2/l + x**3/l**2]])"
      ]
     },
     "execution_count": 502,
     "metadata": {},
     "output_type": "execute_result"
    }
   ],
   "source": [
    "N=smp.Matrix([n1,n2,n3,n4])\n",
    "N"
   ]
  },
  {
   "cell_type": "code",
   "execution_count": 532,
   "id": "4610d7be-3551-40f1-9fb1-2abd9d13cab5",
   "metadata": {},
   "outputs": [
    {
     "data": {
      "text/latex": [
       "$\\displaystyle \\left[\\begin{matrix}\\frac{12}{l^{3}} & \\frac{6}{l^{2}} & - \\frac{12}{l^{3}} & \\frac{6}{l^{2}}\\end{matrix}\\right]$"
      ],
      "text/plain": [
       "Matrix([[12/l**3, 6/l**2, -12/l**3, 6/l**2]])"
      ]
     },
     "execution_count": 532,
     "metadata": {},
     "output_type": "execute_result"
    }
   ],
   "source": [
    "dndx2=smp.diff(smp.diff(smp.diff(N,x),x),x)\n",
    "dndx2=(smp.diff(smp.diff(N,x),x))\n",
    "dndx3.T"
   ]
  },
  {
   "cell_type": "code",
   "execution_count": 533,
   "id": "a232edf1-2315-4699-92fb-0aa535205c48",
   "metadata": {},
   "outputs": [],
   "source": [
    "k1=dndx2*dndx2.T\n",
    "K=smp.integrate(k1,(x,0,l)).factor()"
   ]
  },
  {
   "cell_type": "code",
   "execution_count": 535,
   "id": "2840cd48-7795-495c-be88-e8293f3bbfb2",
   "metadata": {},
   "outputs": [
    {
     "data": {
      "text/latex": [
       "$\\displaystyle \\left[\\begin{matrix}12 & 6 l & -12 & 6 l\\\\6 l & 4 l^{2} & - 6 l & 2 l^{2}\\\\-12 & - 6 l & 12 & - 6 l\\\\6 l & 2 l^{2} & - 6 l & 4 l^{2}\\end{matrix}\\right]$"
      ],
      "text/plain": [
       "Matrix([\n",
       "[ 12,    6*l,  -12,    6*l],\n",
       "[6*l, 4*l**2, -6*l, 2*l**2],\n",
       "[-12,   -6*l,   12,   -6*l],\n",
       "[6*l, 2*l**2, -6*l, 4*l**2]])"
      ]
     },
     "execution_count": 535,
     "metadata": {},
     "output_type": "execute_result"
    }
   ],
   "source": [
    "KK=K*l**3\n",
    "KK"
   ]
  },
  {
   "cell_type": "code",
   "execution_count": 514,
   "id": "c717f070-f0a0-405d-b5ad-a34477e4e849",
   "metadata": {
    "collapsed": true,
    "jupyter": {
     "outputs_hidden": true,
     "source_hidden": true
    },
    "tags": []
   },
   "outputs": [
    {
     "data": {
      "text/latex": [
       "$\\displaystyle \\left[\\begin{matrix}-1\\\\0\\\\1\\\\0\\end{matrix}\\right]$"
      ],
      "text/plain": [
       "Matrix([\n",
       "[-1],\n",
       "[ 0],\n",
       "[ 1],\n",
       "[ 0]])"
      ]
     },
     "execution_count": 514,
     "metadata": {},
     "output_type": "execute_result"
    }
   ],
   "source": [
    "N.subs(x,l)-N.subs(x,0)"
   ]
  },
  {
   "cell_type": "code",
   "execution_count": 529,
   "id": "3680e3cc-a247-48fa-a35b-1c8efc0fd8ef",
   "metadata": {
    "collapsed": true,
    "jupyter": {
     "outputs_hidden": true,
     "source_hidden": true
    },
    "tags": []
   },
   "outputs": [
    {
     "data": {
      "text/latex": [
       "$\\displaystyle \\left[\\begin{matrix}\\frac{12}{l^{3}} & \\frac{6}{l^{2}} & - \\frac{12}{l^{3}} & \\frac{6}{l^{2}}\\\\0 & 0 & 0 & 0\\\\0 & 0 & 0 & 0\\\\0 & 0 & 0 & 0\\end{matrix}\\right]$"
      ],
      "text/plain": [
       "Matrix([\n",
       "[12/l**3, 6/l**2, -12/l**3, 6/l**2],\n",
       "[      0,      0,        0,      0],\n",
       "[      0,      0,        0,      0],\n",
       "[      0,      0,        0,      0]])"
      ]
     },
     "execution_count": 529,
     "metadata": {},
     "output_type": "execute_result"
    }
   ],
   "source": [
    "M=N*dndx3.T\n",
    "\n",
    "M.subs(x,0)\n"
   ]
  },
  {
   "cell_type": "code",
   "execution_count": 515,
   "id": "f43d6917-2f85-4f40-9d69-d598dd84ed49",
   "metadata": {
    "collapsed": true,
    "jupyter": {
     "outputs_hidden": true
    },
    "tags": []
   },
   "outputs": [
    {
     "data": {
      "text/latex": [
       "$\\displaystyle \\left[\\begin{matrix}1 - \\frac{3 x^{2}}{l^{2}} + \\frac{2 x^{3}}{l^{3}}\\\\x - \\frac{2 x^{2}}{l} + \\frac{x^{3}}{l^{2}}\\\\\\frac{3 x^{2}}{l^{2}} - \\frac{2 x^{3}}{l^{3}}\\\\- \\frac{x^{2}}{l} + \\frac{x^{3}}{l^{2}}\\end{matrix}\\right]$"
      ],
      "text/plain": [
       "Matrix([\n",
       "[1 - 3*x**2/l**2 + 2*x**3/l**3],\n",
       "[     x - 2*x**2/l + x**3/l**2],\n",
       "[    3*x**2/l**2 - 2*x**3/l**3],\n",
       "[          -x**2/l + x**3/l**2]])"
      ]
     },
     "execution_count": 515,
     "metadata": {},
     "output_type": "execute_result"
    }
   ],
   "source": []
  },
  {
   "cell_type": "code",
   "execution_count": 523,
   "id": "e5024417-3fe6-4e25-93c6-7e57f393d02c",
   "metadata": {
    "collapsed": true,
    "jupyter": {
     "outputs_hidden": true,
     "source_hidden": true
    },
    "tags": []
   },
   "outputs": [
    {
     "data": {
      "text/latex": [
       "$\\displaystyle \\left[\\begin{matrix}24 l & 12 l^{2} & - 24 l & 12 l^{2}\\\\2 l^{2} & l^{3} & - 2 l^{2} & l^{3}\\\\0 & 0 & 0 & 0\\\\- 2 l^{2} & - l^{3} & 2 l^{2} & - l^{3}\\end{matrix}\\right]$"
      ],
      "text/plain": [
       "Matrix([\n",
       "[   24*l, 12*l**2,   -24*l, 12*l**2],\n",
       "[ 2*l**2,    l**3, -2*l**2,    l**3],\n",
       "[      0,       0,       0,       0],\n",
       "[-2*l**2,   -l**3,  2*l**2,   -l**3]])"
      ]
     },
     "execution_count": 523,
     "metadata": {},
     "output_type": "execute_result"
    }
   ],
   "source": [
    "KK-M*l**4"
   ]
  },
  {
   "cell_type": "code",
   "execution_count": 554,
   "id": "1cfd8d37-2588-430a-a2ef-dd0ab1f31fca",
   "metadata": {},
   "outputs": [
    {
     "data": {
      "text/latex": [
       "$\\displaystyle \\left[\\begin{matrix}6\\\\l\\\\6\\\\- l\\end{matrix}\\right]$"
      ],
      "text/plain": [
       "Matrix([\n",
       "[ 6],\n",
       "[ l],\n",
       "[ 6],\n",
       "[-l]])"
      ]
     },
     "execution_count": 554,
     "metadata": {},
     "output_type": "execute_result"
    }
   ],
   "source": [
    "Q=smp.integrate(N,(x,0,l))\n",
    "Q*12/l"
   ]
  },
  {
   "cell_type": "code",
   "execution_count": null,
   "id": "0cea480b-768a-4d42-aac2-cd150f3f630a",
   "metadata": {
    "tags": []
   },
   "outputs": [],
   "source": [
    "dndx*dnd"
   ]
  },
  {
   "attachments": {
    "65f43c48-e090-450d-8cd6-7c25a42cb07e.png": {
     "image/png": "[encoded data removed]"
    }
   },
   "cell_type": "markdown",
   "id": "2d1167d0-69c7-4964-81b1-2438033fa14c",
   "metadata": {},
   "source": [
    "## elemento 3 barras\n",
    "![image.png](attachment:65f43c48-e090-450d-8cd6-7c25a42cb07e.png)"
   ]
  },
  {
   "cell_type": "code",
   "execution_count": 557,
   "id": "d1f11204-44b6-4a14-a375-65a5d68a9b66",
   "metadata": {},
   "outputs": [
    {
     "data": {
      "text/latex": [
       "$\\displaystyle 1 - \\frac{3 x}{l} + \\frac{2 x^{2}}{l^{2}}$"
      ],
      "text/plain": [
       "1 - 3*x/l + 2*x**2/l**2"
      ]
     },
     "execution_count": 557,
     "metadata": {},
     "output_type": "execute_result"
    }
   ],
   "source": [
    "n1=2*x**2/l**2-3*x/l+1\n",
    "n1"
   ]
  },
  {
   "cell_type": "code",
   "execution_count": 558,
   "id": "ccd30682-3268-4cf2-9030-143a449dd124",
   "metadata": {},
   "outputs": [
    {
     "data": {
      "text/latex": [
       "$\\displaystyle \\frac{4 x}{l} - \\frac{4 x^{2}}{l^{2}}$"
      ],
      "text/plain": [
       "4*x/l - 4*x**2/l**2"
      ]
     },
     "execution_count": 558,
     "metadata": {},
     "output_type": "execute_result"
    }
   ],
   "source": [
    "n2=-4*x**2/l**2+4*x/l\n",
    "n2"
   ]
  },
  {
   "cell_type": "code",
   "execution_count": 559,
   "id": "0d4ae303-a67c-4349-9fe7-d5ef41425f0c",
   "metadata": {},
   "outputs": [
    {
     "data": {
      "text/latex": [
       "$\\displaystyle - \\frac{x}{l} + \\frac{2 x^{2}}{l^{2}}$"
      ],
      "text/plain": [
       "-x/l + 2*x**2/l**2"
      ]
     },
     "execution_count": 559,
     "metadata": {},
     "output_type": "execute_result"
    }
   ],
   "source": [
    "n3=2*x**2/l**2-x/l\n",
    "n3"
   ]
  },
  {
   "cell_type": "code",
   "execution_count": 561,
   "id": "7a1b542f-58cb-4f65-896d-31faff801f7c",
   "metadata": {},
   "outputs": [
    {
     "data": {
      "text/latex": [
       "$\\displaystyle \\left[\\begin{matrix}1 - \\frac{3 x}{l} + \\frac{2 x^{2}}{l^{2}}\\\\\\frac{4 x}{l} - \\frac{4 x^{2}}{l^{2}}\\\\- \\frac{x}{l} + \\frac{2 x^{2}}{l^{2}}\\end{matrix}\\right]$"
      ],
      "text/plain": [
       "Matrix([\n",
       "[1 - 3*x/l + 2*x**2/l**2],\n",
       "[    4*x/l - 4*x**2/l**2],\n",
       "[     -x/l + 2*x**2/l**2]])"
      ]
     },
     "execution_count": 561,
     "metadata": {},
     "output_type": "execute_result"
    }
   ],
   "source": [
    "N=smp.Matrix([n1,n2,n3])\n",
    "N"
   ]
  },
  {
   "cell_type": "code",
   "execution_count": 563,
   "id": "d2e11751-cfc7-43a7-9c6b-a25f87a04060",
   "metadata": {},
   "outputs": [
    {
     "data": {
      "text/latex": [
       "$\\displaystyle \\left[\\begin{matrix}- \\frac{3}{l} + \\frac{4 x}{l^{2}}\\\\\\frac{4}{l} - \\frac{8 x}{l^{2}}\\\\- \\frac{1}{l} + \\frac{4 x}{l^{2}}\\end{matrix}\\right]$"
      ],
      "text/plain": [
       "Matrix([\n",
       "[-3/l + 4*x/l**2],\n",
       "[ 4/l - 8*x/l**2],\n",
       "[-1/l + 4*x/l**2]])"
      ]
     },
     "execution_count": 563,
     "metadata": {},
     "output_type": "execute_result"
    }
   ],
   "source": [
    "dndx=smp.diff(N,x)\n",
    "dndx"
   ]
  },
  {
   "cell_type": "code",
   "execution_count": 568,
   "id": "caebaaf7-d5ac-4849-8faf-c1127efda429",
   "metadata": {},
   "outputs": [
    {
     "data": {
      "text/latex": [
       "$\\displaystyle \\left[\\begin{matrix}7 & -8 & 1\\\\-8 & 16 & -8\\\\1 & -8 & 7\\end{matrix}\\right]$"
      ],
      "text/plain": [
       "Matrix([\n",
       "[ 7, -8,  1],\n",
       "[-8, 16, -8],\n",
       "[ 1, -8,  7]])"
      ]
     },
     "execution_count": 568,
     "metadata": {},
     "output_type": "execute_result"
    }
   ],
   "source": [
    "A=dndx*dndx.T\n",
    "B=smp.integrate(A,(x,0,l))\n",
    "B*l*3"
   ]
  },
  {
   "cell_type": "code",
   "execution_count": 575,
   "id": "0ee903e8-d472-46fe-b503-9c66878f05d7",
   "metadata": {},
   "outputs": [
    {
     "data": {
      "text/latex": [
       "$\\displaystyle - 2.0 \\cdot \\left(0.333333333333333 x - 1.0\\right)$"
      ],
      "text/plain": [
       "-2.0*(0.333333333333333*x - 1.0)"
      ]
     },
     "execution_count": 575,
     "metadata": {},
     "output_type": "execute_result"
    }
   ],
   "source": [
    "x2=3\n",
    "x1=1.5\n",
    "N1=(x2-x)/(x2-x1)\n",
    "N2=(x-x1)/(x2-x1)\n",
    "N1.factor()\n"
   ]
  },
  {
   "cell_type": "code",
   "execution_count": 574,
   "id": "2306d0d2-070c-4d26-af0c-1554ee942623",
   "metadata": {},
   "outputs": [
    {
     "data": {
      "text/latex": [
       "$\\displaystyle 0.666666666666667 x - 1.0$"
      ],
      "text/plain": [
       "0.666666666666667*x - 1.0"
      ]
     },
     "execution_count": 574,
     "metadata": {},
     "output_type": "execute_result"
    }
   ],
   "source": [
    "N2"
   ]
  },
  {
   "cell_type": "code",
   "execution_count": null,
   "id": "281a6e92-2b95-440a-84b1-03919c857c1c",
   "metadata": {},
   "outputs": [],
   "source": []
  }
 ],
 "metadata": {
  "kernelspec": {
   "display_name": "Python 3 (ipykernel)",
   "language": "python",
   "name": "python3"
  },
  "language_info": {
   "codemirror_mode": {
    "name": "ipython",
    "version": 3
   },
   "file_extension": ".py",
   "mimetype": "text/x-python",
   "name": "python",
   "nbconvert_exporter": "python",
   "pygments_lexer": "ipython3",
   "version": "3.9.12"
  }
 },
 "nbformat": 4,
 "nbformat_minor": 5
}
