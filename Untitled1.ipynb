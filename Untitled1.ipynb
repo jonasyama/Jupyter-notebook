{
 "cells": [
  {
   "cell_type": "code",
   "execution_count": 1,
   "id": "dd88dc76-7557-42a7-bfd9-5036378ca666",
   "metadata": {
    "tags": []
   },
   "outputs": [],
   "source": [
    "import numpy as np \n",
    "import matplotlib.pyplot as plt\n",
    "import sympy as smp"
   ]
  },
  {
   "cell_type": "code",
   "execution_count": 2,
   "id": "bcf5a55e-6e75-451a-bbc2-f043ec182948",
   "metadata": {},
   "outputs": [],
   "source": [
    "x=smp.symbols('x')"
   ]
  },
  {
   "cell_type": "code",
   "execution_count": 5,
   "id": "9a455ae7-da18-4bf2-8613-63273b76c147",
   "metadata": {},
   "outputs": [
    {
     "data": {
      "text/latex": [
       "$\\displaystyle x^{3}$"
      ],
      "text/plain": [
       "x**3"
      ]
     },
     "execution_count": 5,
     "metadata": {},
     "output_type": "execute_result"
    }
   ],
   "source": [
    "x**3"
   ]
  },
  {
   "cell_type": "code",
   "execution_count": 12,
   "id": "7fe8b3d6-f41b-432b-b61c-ab9eeb4b9668",
   "metadata": {},
   "outputs": [],
   "source": [
    "y=2*smp.sin(x**2)"
   ]
  },
  {
   "cell_type": "code",
   "execution_count": 13,
   "id": "f086ab76-2089-42df-8d52-9dfd1f970d23",
   "metadata": {},
   "outputs": [
    {
     "data": {
      "text/latex": [
       "$\\displaystyle 2 \\sin{\\left(x^{2} \\right)}$"
      ],
      "text/plain": [
       "2*sin(x**2)"
      ]
     },
     "execution_count": 13,
     "metadata": {},
     "output_type": "execute_result"
    }
   ],
   "source": [
    "y"
   ]
  },
  {
   "cell_type": "code",
   "execution_count": 22,
   "id": "80b8334e-90a5-4b3c-8a11-16f27dbef07b",
   "metadata": {},
   "outputs": [
    {
     "data": {
      "text/latex": [
       "$\\displaystyle x^{4} + 8 x^{3} + 22 x^{2} + 24 x + 9$"
      ],
      "text/plain": [
       "x**4 + 8*x**3 + 22*x**2 + 24*x + 9"
      ]
     },
     "execution_count": 22,
     "metadata": {},
     "output_type": "execute_result"
    }
   ],
   "source": [
    "z=(x**2+4*x+3)**2\n",
    "z.factor()\n",
    "z.expand()"
   ]
  },
  {
   "cell_type": "code",
   "execution_count": 23,
   "id": "331841aa-78de-4616-b3c2-0210a3e0f42b",
   "metadata": {},
   "outputs": [
    {
     "data": {
      "text/plain": [
       "[-3, -1]"
      ]
     },
     "execution_count": 23,
     "metadata": {},
     "output_type": "execute_result"
    }
   ],
   "source": [
    "smp.solve(z,x)"
   ]
  },
  {
   "cell_type": "code",
   "execution_count": 24,
   "id": "cf0b24d2-1c3d-4e41-9a42-e5d9d8efbfec",
   "metadata": {},
   "outputs": [],
   "source": [
    "expr=smp.lambdify(x,z)"
   ]
  },
  {
   "cell_type": "code",
   "execution_count": 31,
   "id": "4f4ba245-e740-4ea6-89f9-eb9a8c5f4c60",
   "metadata": {},
   "outputs": [
    {
     "data": {
      "text/plain": [
       "[<matplotlib.lines.Line2D at 0x22d4f209760>]"
      ]
     },
     "execution_count": 31,
     "metadata": {},
     "output_type": "execute_result"
    },
    {
     "data": {
      "image/png": "[encoded data removed]",
      "text/plain": [
       "<Figure size 432x288 with 1 Axes>"
      ]
     },
     "metadata": {
      "needs_background": "light"
     },
     "output_type": "display_data"
    }
   ],
   "source": [
    "x=np.linspace(0,10)\n",
    "plt.plot(x,expr(x))"
   ]
  },
  {
   "cell_type": "code",
   "execution_count": 34,
   "id": "fc581b3d-6950-4062-9e2c-63235b6d3b36",
   "metadata": {},
   "outputs": [],
   "source": [
    "x,y,z=smp.symbols('x y z')"
   ]
  },
  {
   "cell_type": "code",
   "execution_count": 40,
   "id": "49338fe2-5a25-430e-8ff0-c5c5864ef636",
   "metadata": {},
   "outputs": [
    {
     "data": {
      "text/latex": [
       "$\\displaystyle x^{2} y \\sin{\\left(z \\right)}$"
      ],
      "text/plain": [
       "x**2*y*sin(z)"
      ]
     },
     "execution_count": 40,
     "metadata": {},
     "output_type": "execute_result"
    }
   ],
   "source": [
    "f=x**2*y*smp.sin(z)\n",
    "f"
   ]
  },
  {
   "cell_type": "code",
   "execution_count": 43,
   "id": "84711c0c-9b5f-415b-b500-563acf320c27",
   "metadata": {},
   "outputs": [
    {
     "data": {
      "text/latex": [
       "$\\displaystyle 8$"
      ],
      "text/plain": [
       "8"
      ]
     },
     "execution_count": 43,
     "metadata": {},
     "output_type": "execute_result"
    }
   ],
   "source": [
    "f.subs([(x,2),(y,2),(z,smp.pi/2)])"
   ]
  },
  {
   "cell_type": "code",
   "execution_count": null,
   "id": "57116f34-1392-4459-bc1a-0ee4028e56eb",
   "metadata": {},
   "outputs": [],
   "source": []
  },
  {
   "cell_type": "code",
   "execution_count": null,
   "id": "c7e17054-a095-45c8-8081-7c1ad41d3df7",
   "metadata": {},
   "outputs": [],
   "source": []
  }
 ],
 "metadata": {
  "kernelspec": {
   "display_name": "Python 3 (ipykernel)",
   "language": "python",
   "name": "python3"
  },
  "language_info": {
   "codemirror_mode": {
    "name": "ipython",
    "version": 3
   },
   "file_extension": ".py",
   "mimetype": "text/x-python",
   "name": "python",
   "nbconvert_exporter": "python",
   "pygments_lexer": "ipython3",
   "version": "3.9.12"
  }
 },
 "nbformat": 4,
 "nbformat_minor": 5
}
