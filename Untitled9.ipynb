{
 "cells": [
  {
   "cell_type": "code",
   "execution_count": 1,
   "id": "8c62ee80-9a82-4a9e-8228-f4649afcbbb1",
   "metadata": {},
   "outputs": [],
   "source": [
    "import numpy as np \n",
    "from numpy.linalg import norm\n",
    "from scipy.linalg import eigh\n",
    "import matplotlib.pyplot as plt "
   ]
  },
  {
   "cell_type": "code",
   "execution_count": 2,
   "id": "faf3fd16-177b-43ae-b9f0-ea4b6b716e59",
   "metadata": {},
   "outputs": [],
   "source": [
    "def setup():\n",
    "    #define cordinates\n",
    "    \n",
    "    x_axis = np.array([1,0])\n",
    "    y_axis = np.array([0,1])\n",
    "    \n",
    "    #define model\n",
    "    \n",
    "    nodes              = { 1:[0,10], 2:[0,0], 3:[10,5]}\n",
    "    degrees_of_freedom = { 1:[1,2], 2:[3,4], 3:[5,6] }\n",
    "    elements           = { 1:[1,3], 2:[2,3] }\n",
    "    restrained_dofs    = [1, 2, 3, 4]\n",
    "    forces             = { 1:[0,0], 2:[0,0], 3:[0,-200] }\n",
    "    \n",
    "    # material properties - AISI 1095 Carbon Steel (Spring Steel)\n",
    "    densities   = {1:0.284, 2:0.284}\n",
    "    stiffnesses = {1:30.0e6, 2:30.0e6}\n",
    "    \n",
    "    # geometric properties    \n",
    "    areas = {1:1.0, 2:2.0}\n",
    "    \n",
    "    ndofs = 2 * len(nodes)\n",
    "    # assertions\n",
    "    assert len(densities) == len(elements) == len(stiffnesses) == len(areas)\n",
    "    assert len(restrained_dofs) < ndofs\n",
    "    assert len(forces) == len(nodes)\n",
    "    \n",
    "    \n",
    "    return {  'x_axis':x_axis, 'y_axis':y_axis, 'nodes':nodes, 'degrees_of_freedom':degrees_of_freedom, 'elements':elements, 'restrained_dofs':restrained_dofs, 'forces':forces, 'ndofs':ndofs,'densities':densities, 'stiffnesses':stiffnesses, 'areas':areas }"
   ]
  },
  {
   "cell_type": "code",
   "execution_count": 3,
   "id": "d34398a5-3499-4767-a2ff-029f0341b914",
   "metadata": {},
   "outputs": [],
   "source": [
    "def rotation_matrix(element_vector, x_axis, y_axis):\n",
    "    # find the direction cosines\n",
    "    x_proj = direction_cosine(element_vector, x_axis)\n",
    "    y_proj = direction_cosine(element_vector, y_axis)\n",
    "    return np.array([[x_proj,y_proj,0,0],[0,0,x_proj,y_proj]])"
   ]
  },
  {
   "cell_type": "code",
   "execution_count": 4,
   "id": "1ba7ff55-7160-436a-9138-3b8fdb40d58d",
   "metadata": {},
   "outputs": [],
   "source": [
    "def get_stresses(properties, X):\n",
    "    x_axis   = properties['x_axis']\n",
    "    y_axis   = properties['y_axis']\n",
    "    elements = properties['elements']\n",
    "    E = properties['stiffnesses']\n",
    "\n",
    "    # find the stresses in each member\n",
    "    stresses = []\n",
    "    for element in elements:\n",
    "        # find the element geometry\n",
    "        fromPoint, toPoint, dofs = points(element, properties)\n",
    "        element_vector = toPoint - fromPoint\n",
    "\n",
    "        # find rotation matrix\n",
    "        tau = rotation_matrix(element_vector, x_axis, y_axis)\n",
    "        global_displacements = np.array([0,0,X[0],X[1]])\n",
    "        q = tau.dot(global_displacements)\n",
    "        \n",
    "        # calculate the strains and stresses\n",
    "        strain = (q[1] - q[0]) / norm(element_vector)\n",
    "        stress = E[element] * strain\n",
    "        stresses.append(stress)\n",
    "\n",
    "    return stresses\n"
   ]
  },
  {
   "cell_type": "code",
   "execution_count": 5,
   "id": "967d5cc9-fa75-4485-a1b3-c9d397d66050",
   "metadata": {},
   "outputs": [],
   "source": [
    "def show_results(X, stresses, frequencies):\n",
    "    print ('Nodal Displacments:', X)\n",
    "    print ('Stresses:', stresses)\n",
    "    print( 'Frequencies:', frequencies)\n",
    "    print( 'Displacment Magnitude:', round(norm(X),5))\n",
    "    print\n"
   ]
  },
  {
   "cell_type": "code",
   "execution_count": 6,
   "id": "6cf9a766-b153-461d-8c23-a8e8472e8076",
   "metadata": {},
   "outputs": [],
   "source": [
    "def points(element, properties):\n",
    "    elements = properties['elements']\n",
    "    nodes = properties['nodes']\n",
    "    degrees_of_freedom = properties['degrees_of_freedom']\n",
    "    \n",
    "    # find the nodes that the lements connects\n",
    "    fromNode = elements[element][0]\n",
    "    toNode = elements[element][1]\n",
    "\n",
    "    # the coordinates for each node\n",
    "    fromPoint = np.array(nodes[fromNode])\n",
    "    toPoint = np.array(nodes[toNode])\n",
    "\n",
    "    # find the degrees of freedom for each node\n",
    "    dofs = degrees_of_freedom[fromNode]\n",
    "    dofs.extend(degrees_of_freedom[toNode])\n",
    "    dofs = np.array(dofs)\n",
    "    \n",
    "    return fromPoint, toPoint, dofs"
   ]
  },
  {
   "cell_type": "code",
   "execution_count": 7,
   "id": "4adbea1c-6d3f-442b-a655-080aa3679be2",
   "metadata": {},
   "outputs": [],
   "source": [
    "def plot_nodes(nodes):\n",
    "    x = [i[0] for i in nodes.values()]\n",
    "    y = [i[1] for i in nodes.values()]\n",
    "    size = 400\n",
    "    offset = size/4000.\n",
    "    plt.scatter(x, y, c='y', s=size, zorder=5)\n",
    "    for i, location in enumerate(zip(x,y)):\n",
    "        plt.annotate(i+1, (location[0]-offset, location[1]-offset), zorder=10)"
   ]
  },
  {
   "cell_type": "code",
   "execution_count": 8,
   "id": "4426a8fe-7560-47f6-9ac0-60b7178b39c8",
   "metadata": {},
   "outputs": [],
   "source": [
    "def direction_cosine(vec1,vec2):\n",
    "    return np.dot(vec1,vec2) / (norm(vec1) * norm(vec2))"
   ]
  },
  {
   "cell_type": "code",
   "execution_count": 9,
   "id": "10ee9c0d-39ee-4479-900c-6591c73a8e2b",
   "metadata": {},
   "outputs": [],
   "source": [
    "def rotation_matrix(element_vector, x_axis, y_axis):\n",
    "    # find the direction cosines\n",
    "    x_proj = direction_cosine(element_vector, x_axis)\n",
    "    y_proj = direction_cosine(element_vector, y_axis)\n",
    "    return np.array([[x_proj,y_proj,0,0],[0,0,x_proj,y_proj]])"
   ]
  },
  {
   "cell_type": "code",
   "execution_count": 10,
   "id": "279b2955-8da0-4ada-9219-a9ddc5024d34",
   "metadata": {},
   "outputs": [],
   "source": [
    "def draw_element(fromPoint, toPoint, element, areas):\n",
    "    x1 = fromPoint[0]\n",
    "    y1 = fromPoint[1]\n",
    "    x2 = toPoint[0]\n",
    "    y2 = toPoint[1]\n",
    "    plt.plot([x1, x2], [y1, y2], color='g', linestyle='-', linewidth=7*areas[element], zorder=1)\n"
   ]
  },
  {
   "cell_type": "code",
   "execution_count": 11,
   "id": "c9b15696-c9fd-4fe2-8526-67ae6cc6891a",
   "metadata": {
    "tags": []
   },
   "outputs": [],
   "source": [
    "def get_matrices(properties):\n",
    "    # construct the global mass and stiffness matrices\n",
    "    ndofs    = properties['ndofs']\n",
    "    nodes    = properties['nodes']\n",
    "    elements = properties['elements']\n",
    "    forces   = properties['forces']\n",
    "    areas    = properties['areas']\n",
    "    x_axis   = properties['x_axis']\n",
    "    y_axis   = properties['y_axis']\n",
    "\n",
    "    plot_nodes(nodes)\n",
    "    \n",
    "    M = np.zeros((ndofs,ndofs))\n",
    "    K = np.zeros((ndofs,ndofs))\n",
    "    \n",
    "    for element in elements:\n",
    "    # find the element geometry\n",
    "        fromPoint, toPoint, dofs = points(element, properties)\n",
    "        element_vector = toPoint - fromPoint\n",
    "        \n",
    "        draw_element(fromPoint, toPoint, element, areas)   # display the element\n",
    "\n",
    "    # find element mass and stiffness matrices\n",
    "        length = norm(element_vector)\n",
    "        rho    = properties['densities'][element]\n",
    "        area   = properties['areas'][element]\n",
    "        E      = properties['stiffnesses'][element]\n",
    "\n",
    "        Cm = rho * area * length / 6.0\n",
    "        Ck = E * area / length\n",
    "\n",
    "        m = np.array([[2,1],[1,2]]) \n",
    "        k = np.array([[1,-1],[-1,1]])\n",
    "\n",
    "        # find rotated mass and stiffness element matrices\n",
    "        tau = rotation_matrix(element_vector, x_axis, y_axis)\n",
    "        m_r = tau.T.dot(m).dot(tau)\n",
    "        k_r = tau.T.dot(k).dot(tau)\n",
    "       \n",
    "    # change from element to global coordinates\n",
    "        index = dofs-1\n",
    "        B = np.zeros((4,ndofs))\n",
    "        for i in range(4):\n",
    "            B[i,index[i]] = 1.0\n",
    "        M_rG = B.T.dot(m_r).dot(B)\n",
    "        K_rG = B.T.dot(k_r).dot(B)\n",
    "        \n",
    "        M += Cm * M_rG\n",
    "        K += Ck * K_rG\n",
    "    \n",
    "    # construct the force vector\n",
    "    F = []\n",
    "    for f in forces.values():\n",
    "        F.extend(f)\n",
    "    F = np.array(F)\n",
    "    # remove the restrained dofs\n",
    "    remove_indices = np.array(properties['restrained_dofs']) - 1\n",
    "    for i in [0,1]:\n",
    "        M = np.delete(M, remove_indices, axis=i)\n",
    "        K = np.delete(K, remove_indices, axis=i)\n",
    "\n",
    "    F = np.delete(F, remove_indices)\n",
    "   \n",
    "    return M,K,F"
   ]
  },
  {
   "cell_type": "code",
   "execution_count": 12,
   "id": "9b268f7a-f636-4097-b5ac-20a86e2aa26d",
   "metadata": {},
   "outputs": [
    {
     "data": {
      "text/plain": [
       "array([1, 0])"
      ]
     },
     "execution_count": 12,
     "metadata": {},
     "output_type": "execute_result"
    }
   ],
   "source": [
    "properties=setup()\n",
    "properties['x_axis']\n",
    "\n"
   ]
  },
  {
   "cell_type": "code",
   "execution_count": 13,
   "id": "782ccb0e-3d81-49b8-b921-b86942a69ccc",
   "metadata": {},
   "outputs": [],
   "source": [
    "\n",
    "def main():\n",
    "    # problem setup\n",
    "    properties = setup()\n",
    "\n",
    "    # determine the global matrices\n",
    "    M, K, F = get_matrices(properties)\n",
    "\n",
    "    # find the natural frequencies\n",
    "    evals, evecs = eigh(K,M)\n",
    "    frequencies = np.sqrt(evals)\n",
    "\n",
    "    # calculate the static displacement of each element\n",
    "    X = np.linalg.inv(K).dot(F)\n",
    "\n",
    "    # determine the stresses in each element\n",
    "    stresses = get_stresses(properties, X)\n",
    "\n",
    "    # output results\n",
    "    show_results(X, stresses, frequencies)\n",
    "\n",
    "    plt.title('Analysis of Truss Structure')\n",
    "    plt.show()\n"
   ]
  },
  {
   "cell_type": "code",
   "execution_count": 14,
   "id": "479ee37e-300b-412d-802d-188bb0e49438",
   "metadata": {
    "tags": []
   },
   "outputs": [
    {
     "name": "stdout",
     "output_type": "stream",
     "text": [
      "Nodal Displacments: [ 2.32923748e-05 -1.39754249e-04]\n",
      "Stresses: [223.60679774997902, -111.8033988749895]\n",
      "Frequencies: [1592.2346773 1592.2346773]\n",
      "Displacment Magnitude: 0.00014\n"
     ]
    },
    {
     "data": {
      "image/png": "[encoded data removed]",
      "text/plain": [
       "<Figure size 432x288 with 1 Axes>"
      ]
     },
     "metadata": {
      "needs_background": "light"
     },
     "output_type": "display_data"
    }
   ],
   "source": [
    "if __name__=='__main__':\n",
    "        main()"
   ]
  },
  {
   "cell_type": "code",
   "execution_count": 15,
   "id": "0bf573a4-e276-404a-aab7-fa9823782965",
   "metadata": {},
   "outputs": [
    {
     "data": {
      "image/png": "[encoded data removed]",
      "text/plain": [
       "<Figure size 432x288 with 1 Axes>"
      ]
     },
     "metadata": {
      "needs_background": "light"
     },
     "output_type": "display_data"
    }
   ],
   "source": [
    " M, K, F = get_matrices(properties)"
   ]
  },
  {
   "cell_type": "code",
   "execution_count": null,
   "id": "eee9230f-df0f-4525-9d7e-3bdd26cc743e",
   "metadata": {},
   "outputs": [],
   "source": []
  }
 ],
 "metadata": {
  "kernelspec": {
   "display_name": "Python 3 (ipykernel)",
   "language": "python",
   "name": "python3"
  },
  "language_info": {
   "codemirror_mode": {
    "name": "ipython",
    "version": 3
   },
   "file_extension": ".py",
   "mimetype": "text/x-python",
   "name": "python",
   "nbconvert_exporter": "python",
   "pygments_lexer": "ipython3",
   "version": "3.9.12"
  }
 },
 "nbformat": 4,
 "nbformat_minor": 5
}
