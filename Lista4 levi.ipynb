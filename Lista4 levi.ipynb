{
 "cells": [
  {
   "cell_type": "markdown",
   "id": "7516fc9f-61df-4331-bf66-beae2f73f46c",
   "metadata": {},
   "source": [
    "# Lista 4- método de levi carregamento triangular"
   ]
  },
  {
   "cell_type": "code",
   "execution_count": 7,
   "id": "b005dcde-2ba5-44b2-96ee-1ccdd02b450c",
   "metadata": {
    "tags": []
   },
   "outputs": [],
   "source": [
    "import numpy as np \n",
    "import matplotlib.pyplot as plt\n",
    "import sympy as smp"
   ]
  },
  {
   "cell_type": "code",
   "execution_count": 8,
   "id": "5c271231-ef3d-4244-b3c4-b61c543e52bf",
   "metadata": {},
   "outputs": [],
   "source": [
    "x,y,a,b,p,wm,v,d,E,f,h,alfa,c1,c2,c3,c4 =smp.symbols('x y a b p wm v d E f h alfa c1,c2 c3 c4')\n",
    "n=smp.symbols('n', int=True)"
   ]
  },
  {
   "cell_type": "code",
   "execution_count": 9,
   "id": "39f4bf1d-6fe1-401a-8ec1-4bd8a307e18b",
   "metadata": {},
   "outputs": [],
   "source": [
    "a=30\n",
    "b=10\n",
    "p=10\n",
    "alfa=n*x*smp.pi/a\n",
    "E=25000000\n",
    "v=0.3\n",
    "d=E*0.3**3/(12*(1-v**2))"
   ]
  },
  {
   "cell_type": "markdown",
   "id": "f07c1c53-d564-428f-95ce-732966766a18",
   "metadata": {},
   "source": [
    "### A solução particular foi cálculada manualmente e é dada por"
   ]
  },
  {
   "cell_type": "code",
   "execution_count": 10,
   "id": "335082cc-8693-44a6-a486-ba5d62f32230",
   "metadata": {},
   "outputs": [
    {
     "data": {
      "text/latex": [
       "$\\displaystyle - \\frac{3.23555555555556}{\\pi^{5} n^{5}}$"
      ],
      "text/plain": [
       "-3.23555555555556/(pi**5*n**5)"
      ]
     },
     "execution_count": 10,
     "metadata": {},
     "output_type": "execute_result"
    }
   ],
   "source": [
    "#wp=-2*p*b**4/(d*smp.pi**5)*smp.summation(1/n**5*smp.sin(n*smp.pi*y/b),(n,1,3))\n",
    "wp=-2*p*b**4/(d*smp.pi**5)*(1/n**5)\n",
    "wp"
   ]
  },
  {
   "cell_type": "markdown",
   "id": "4976af75-cfaf-45e2-a4bf-19c67d61bf23",
   "metadata": {},
   "source": [
    "#### Sabemos que a solução homogenea para a simetria de deslocamentos na direção x pode ser simplificada por:"
   ]
  },
  {
   "cell_type": "markdown",
   "id": "d3594aa3-a652-42b5-a8d7-b6459fa51eac",
   "metadata": {},
   "source": [
    "#### A solução homogenea exata é dada por (foi retirado o termo dos somatorio e da solução em x para o procedimento de cálculo"
   ]
  },
  {
   "cell_type": "code",
   "execution_count": 5,
   "id": "86787598-a79e-41f2-80eb-5d65b419240c",
   "metadata": {},
   "outputs": [
    {
     "data": {
      "text/latex": [
       "$\\displaystyle c_{1} \\cosh{\\left(\\frac{\\pi n x}{30} \\right)} + \\frac{\\pi c_{2} n x \\sinh{\\left(\\frac{\\pi n x}{30} \\right)}}{30} + c_{3} \\sinh{\\left(\\frac{\\pi n x}{30} \\right)} + \\frac{\\pi c_{4} n x \\cosh{\\left(\\frac{\\pi n x}{30} \\right)}}{30} - \\frac{3.23555555555556}{\\pi^{5} n^{5}}$"
      ],
      "text/plain": [
       "c1*cosh(pi*n*x/30) + pi*c2*n*x*sinh(pi*n*x/30)/30 + c3*sinh(pi*n*x/30) + pi*c4*n*x*cosh(pi*n*x/30)/30 - 3.23555555555556/(pi**5*n**5)"
      ]
     },
     "execution_count": 5,
     "metadata": {},
     "output_type": "execute_result"
    }
   ],
   "source": [
    "wh=((c1*smp.cosh(alfa)+c2*alfa*smp.sinh(alfa)+c3*smp.sinh(alfa)+c4*alfa*smp.cosh(alfa)))\n",
    "W=wh+wp\n",
    "W"
   ]
  },
  {
   "cell_type": "markdown",
   "id": "c14c48d6-5344-4e59-a2ad-6e2500b080ee",
   "metadata": {},
   "source": [
    "aplicando as condições de contorno de apoio em relação a y temos na solução homogenea temos:\n",
    "\n"
   ]
  },
  {
   "cell_type": "code",
   "execution_count": 6,
   "id": "a799993d-b954-4329-b20c-ceaee5f56b53",
   "metadata": {},
   "outputs": [
    {
     "data": {
      "text/latex": [
       "$\\displaystyle c_{1} - \\frac{3.23555555555556}{\\pi^{5} n^{5}}$"
      ],
      "text/plain": [
       "c1 - 3.23555555555556/(pi**5*n**5)"
      ]
     },
     "execution_count": 6,
     "metadata": {},
     "output_type": "execute_result"
    }
   ],
   "source": [
    "w0=W.subs([(x,0)])\n",
    "w0"
   ]
  },
  {
   "cell_type": "code",
   "execution_count": 7,
   "id": "87bc4af5-c986-42de-ad61-e083912721ab",
   "metadata": {},
   "outputs": [],
   "source": [
    "dwdx2=smp.diff((smp.diff(W,x)),x)\n",
    "dwdy2=smp.diff((smp.diff(W,y)),y)\n",
    "mxh=(dwdx2+v*dwdy2)*d\n",
    "myh=(dwdy2+v*dwdx2)*d\n",
    "mxyh=(1-v)*(smp.diff((smp.diff(W,x)),y))"
   ]
  },
  {
   "cell_type": "code",
   "execution_count": 8,
   "id": "418d5c48-4632-4904-889f-7b8863300687",
   "metadata": {},
   "outputs": [
    {
     "data": {
      "text/latex": [
       "$\\displaystyle 68.6813186813187 \\pi^{2} c_{1} n^{2} + 137.362637362637 \\pi^{2} c_{2} n^{2}$"
      ],
      "text/plain": [
       "68.6813186813187*pi**2*c1*n**2 + 137.362637362637*pi**2*c2*n**2"
      ]
     },
     "execution_count": 8,
     "metadata": {},
     "output_type": "execute_result"
    }
   ],
   "source": [
    "m0=mxh.subs([(x,0)])\n",
    "m0"
   ]
  },
  {
   "cell_type": "code",
   "execution_count": 9,
   "id": "19fe4f76-4478-4f1e-9f9e-36c83aa804e2",
   "metadata": {},
   "outputs": [
    {
     "data": {
      "text/latex": [
       "$\\displaystyle 68.6813186813187 \\pi^{2} c_{1} n^{2} \\cosh{\\left(\\pi n \\right)} + 68.6813186813187 \\pi^{3} c_{2} n^{3} \\sinh{\\left(\\pi n \\right)} + 137.362637362637 \\pi^{2} c_{2} n^{2} \\cosh{\\left(\\pi n \\right)} + 68.6813186813187 \\pi^{2} c_{3} n^{2} \\sinh{\\left(\\pi n \\right)} + 68.6813186813187 \\pi^{3} c_{4} n^{3} \\cosh{\\left(\\pi n \\right)} + 137.362637362637 \\pi^{2} c_{4} n^{2} \\sinh{\\left(\\pi n \\right)}$"
      ],
      "text/plain": [
       "68.6813186813187*pi**2*c1*n**2*cosh(pi*n) + 68.6813186813187*pi**3*c2*n**3*sinh(pi*n) + 137.362637362637*pi**2*c2*n**2*cosh(pi*n) + 68.6813186813187*pi**2*c3*n**2*sinh(pi*n) + 68.6813186813187*pi**3*c4*n**3*cosh(pi*n) + 137.362637362637*pi**2*c4*n**2*sinh(pi*n)"
      ]
     },
     "execution_count": 9,
     "metadata": {},
     "output_type": "execute_result"
    }
   ],
   "source": [
    "mb=mxh.subs([(x,a)])\n",
    "mb"
   ]
  },
  {
   "cell_type": "code",
   "execution_count": 10,
   "id": "35fb12ed-d4a9-4059-a037-f0ffcc97f967",
   "metadata": {},
   "outputs": [
    {
     "data": {
      "text/latex": [
       "$\\displaystyle c_{1} \\cosh{\\left(\\pi n \\right)} + \\pi c_{2} n \\sinh{\\left(\\pi n \\right)} + c_{3} \\sinh{\\left(\\pi n \\right)} + \\pi c_{4} n \\cosh{\\left(\\pi n \\right)} - \\frac{3.23555555555556}{\\pi^{5} n^{5}}$"
      ],
      "text/plain": [
       "c1*cosh(pi*n) + pi*c2*n*sinh(pi*n) + c3*sinh(pi*n) + pi*c4*n*cosh(pi*n) - 3.23555555555556/(pi**5*n**5)"
      ]
     },
     "execution_count": 10,
     "metadata": {},
     "output_type": "execute_result"
    }
   ],
   "source": [
    "wb=W.subs([(x,a)])\n",
    "wb"
   ]
  },
  {
   "cell_type": "code",
   "execution_count": 11,
   "id": "abd3c32e-2402-4db9-9f2a-7dde1eaa0c8e",
   "metadata": {},
   "outputs": [
    {
     "data": {
      "text/plain": [
       "{c1: 0.0105730308095239/n**5,\n",
       " c2: -0.00528651540476194/n**5,\n",
       " c3: 0.0166080779586894/n**4 - 0.0166080779586894*cosh(3.14159265358979*n)**2/(n**4*sinh(3.14159265358979*n)**2) + 0.0166080779586894*cosh(3.14159265358979*n)/(n**4*sinh(3.14159265358979*n)**2) - 0.0105730308095239*cosh(3.14159265358979*n)/(n**5*sinh(3.14159265358979*n)) + 0.0105730308095239/(n**5*sinh(3.14159265358979*n)),\n",
       " c4: 0.00528651540476194*cosh(3.14159265358979*n)/(n**5*sinh(3.14159265358979*n)) - 0.00528651540476194/(n**5*sinh(3.14159265358979*n))}"
      ]
     },
     "execution_count": 11,
     "metadata": {},
     "output_type": "execute_result"
    }
   ],
   "source": [
    "sol=smp.solve([wb,mb,m0,w0],[c1,c2,c3,c4])\n",
    "C1=sol[c1]\n",
    "C2=sol[c2]\n",
    "C3=sol[c3]\n",
    "C4=sol[c4]\n",
    "sol"
   ]
  },
  {
   "cell_type": "code",
   "execution_count": 12,
   "id": "420c6964-9162-4fe2-aab5-c3c15caabbf8",
   "metadata": {},
   "outputs": [
    {
     "data": {
      "text/latex": [
       "$\\displaystyle \\left(- 0.000176217180158731 \\pi x \\sinh{\\left(\\frac{\\pi x}{30} \\right)} + 0.000161617998367281 \\pi x \\cosh{\\left(\\frac{\\pi x}{30} \\right)} - 0.00837813616111819 \\sinh{\\left(\\frac{\\pi x}{30} \\right)} + 0.0105730308095239 \\cosh{\\left(\\frac{\\pi x}{30} \\right)}\\right) \\sin{\\left(\\frac{\\pi y}{10} \\right)} + \\left(- 1.10135737599207 \\cdot 10^{-5} \\pi x \\sinh{\\left(\\frac{\\pi x}{15} \\right)} + 1.09725159964066 \\cdot 10^{-5} \\pi x \\cosh{\\left(\\frac{\\pi x}{15} \\right)} - 0.000325313089637939 \\sinh{\\left(\\frac{\\pi x}{15} \\right)} + 0.000330407212797621 \\cosh{\\left(\\frac{\\pi x}{15} \\right)}\\right) \\sin{\\left(\\frac{\\pi y}{5} \\right)} + \\left(- 2.17552074270039 \\cdot 10^{-6} \\pi x \\sinh{\\left(\\frac{\\pi x}{10} \\right)} + 2.17516964408508 \\cdot 10^{-6} \\pi x \\cosh{\\left(\\frac{\\pi x}{10} \\right)} - 4.34703052869379 \\cdot 10^{-5} \\sinh{\\left(\\frac{\\pi x}{10} \\right)} + 4.35104148540076 \\cdot 10^{-5} \\cosh{\\left(\\frac{\\pi x}{10} \\right)}\\right) \\sin{\\left(\\frac{3 \\pi y}{10} \\right)} + \\left(- 6.88348359995045 \\cdot 10^{-7} \\pi x \\sinh{\\left(\\frac{2 \\pi x}{15} \\right)} + 6.88343558999004 \\cdot 10^{-7} \\pi x \\cosh{\\left(\\frac{2 \\pi x}{15} \\right)} - 1.03247009033463 \\cdot 10^{-5} \\sinh{\\left(\\frac{2 \\pi x}{15} \\right)} + 1.03252253999256 \\cdot 10^{-5} \\cosh{\\left(\\frac{2 \\pi x}{15} \\right)}\\right) \\sin{\\left(\\frac{2 \\pi y}{5} \\right)} + \\left(- 2.8194748825397 \\cdot 10^{-7} \\pi x \\sinh{\\left(\\frac{\\pi x}{6} \\right)} + 2.81947403274036 \\cdot 10^{-7} \\pi x \\cosh{\\left(\\frac{\\pi x}{6} \\right)} - 3.38336083011952 \\cdot 10^{-6} \\sinh{\\left(\\frac{\\pi x}{6} \\right)} + 3.38336985904764 \\cdot 10^{-6} \\cosh{\\left(\\frac{\\pi x}{6} \\right)}\\right) \\sin{\\left(\\frac{\\pi y}{2} \\right)} - \\frac{3.23555555555556 \\left(\\sin{\\left(\\frac{\\pi y}{10} \\right)} + \\frac{\\sin{\\left(\\frac{\\pi y}{5} \\right)}}{32} + \\frac{\\sin{\\left(\\frac{3 \\pi y}{10} \\right)}}{243} + \\frac{\\sin{\\left(\\frac{2 \\pi y}{5} \\right)}}{1024} + \\frac{\\sin{\\left(\\frac{\\pi y}{2} \\right)}}{3125}\\right)}{\\pi^{5}}$"
      ],
      "text/plain": [
       "(-0.000176217180158731*pi*x*sinh(pi*x/30) + 0.000161617998367281*pi*x*cosh(pi*x/30) - 0.00837813616111819*sinh(pi*x/30) + 0.0105730308095239*cosh(pi*x/30))*sin(pi*y/10) + (-1.10135737599207e-5*pi*x*sinh(pi*x/15) + 1.09725159964066e-5*pi*x*cosh(pi*x/15) - 0.000325313089637939*sinh(pi*x/15) + 0.000330407212797621*cosh(pi*x/15))*sin(pi*y/5) + (-2.17552074270039e-6*pi*x*sinh(pi*x/10) + 2.17516964408508e-6*pi*x*cosh(pi*x/10) - 4.34703052869379e-5*sinh(pi*x/10) + 4.35104148540076e-5*cosh(pi*x/10))*sin(3*pi*y/10) + (-6.88348359995045e-7*pi*x*sinh(2*pi*x/15) + 6.88343558999004e-7*pi*x*cosh(2*pi*x/15) - 1.03247009033463e-5*sinh(2*pi*x/15) + 1.03252253999256e-5*cosh(2*pi*x/15))*sin(2*pi*y/5) + (-2.8194748825397e-7*pi*x*sinh(pi*x/6) + 2.81947403274036e-7*pi*x*cosh(pi*x/6) - 3.38336083011952e-6*sinh(pi*x/6) + 3.38336985904764e-6*cosh(pi*x/6))*sin(pi*y/2) - 3.23555555555556*(sin(pi*y/10) + sin(pi*y/5)/32 + sin(3*pi*y/10)/243 + sin(2*pi*y/5)/1024 + sin(pi*y/2)/3125)/pi**5"
      ]
     },
     "execution_count": 12,
     "metadata": {},
     "output_type": "execute_result"
    }
   ],
   "source": [
    "\n",
    "wh=(C1*smp.cosh(alfa)+C2*alfa*smp.sinh(alfa)+C3*smp.sinh(alfa)+C4*alfa*smp.cosh(alfa))*smp.sin(smp.pi*n*y/b)\n",
    "W=wh+wp*smp.sin(smp.pi*n*y/b)\n",
    "W=smp.summation(W,(n,1,5))\n",
    "W"
   ]
  },
  {
   "cell_type": "code",
   "execution_count": 13,
   "id": "412ec2c8-10f0-47ca-926b-8696e336de30",
   "metadata": {},
   "outputs": [],
   "source": [
    "W=smp.lambdify([x,y],W)"
   ]
  },
  {
   "cell_type": "code",
   "execution_count": 14,
   "id": "64838637-25f5-48bd-96aa-1912f11ec634",
   "metadata": {},
   "outputs": [],
   "source": [
    "m1 = np.linspace(0,a,500)\n",
    "m2 = np.linspace(0,b,500)\n",
    "x1,y1=np.meshgrid(m1,m2)"
   ]
  },
  {
   "cell_type": "code",
   "execution_count": 15,
   "id": "7f1631e8-5386-4143-b9d8-117874e1d7f6",
   "metadata": {},
   "outputs": [
    {
     "data": {
      "text/plain": [
       "<matplotlib.colorbar.Colorbar at 0x2731bd39490>"
      ]
     },
     "execution_count": 15,
     "metadata": {},
     "output_type": "execute_result"
    },
    {
     "data": {
      "image/png": "[encoded data removed]",
      "text/plain": [
       "<Figure size 432x288 with 2 Axes>"
      ]
     },
     "metadata": {
      "needs_background": "light"
     },
     "output_type": "display_data"
    }
   ],
   "source": [
    "cont=plt.contourf(x1,y1,W(x1,y1),levels=20)\n",
    "plt.colorbar()"
   ]
  },
  {
   "cell_type": "code",
   "execution_count": 16,
   "id": "540f4795-6219-4a6b-ae84-102c3312b778",
   "metadata": {},
   "outputs": [
    {
     "data": {
      "text/plain": [
       "-3.3978587870291143e-19"
      ]
     },
     "execution_count": 16,
     "metadata": {},
     "output_type": "execute_result"
    }
   ],
   "source": [
    "W(12,10)\n"
   ]
  },
  {
   "cell_type": "code",
   "execution_count": 17,
   "id": "97beb7e0-639d-432d-ad87-0f1a0fafbdfb",
   "metadata": {},
   "outputs": [
    {
     "data": {
      "text/plain": [
       "61813.1868131868"
      ]
     },
     "execution_count": 17,
     "metadata": {},
     "output_type": "execute_result"
    }
   ],
   "source": [
    "d"
   ]
  },
  {
   "cell_type": "code",
   "execution_count": null,
   "id": "3c3f7dbf-cb5e-408d-afba-0f1c29e2cadc",
   "metadata": {
    "jupyter": {
     "source_hidden": true
    },
    "tags": []
   },
   "outputs": [],
   "source": []
  }
 ],
 "metadata": {
  "kernelspec": {
   "display_name": "Python 3 (ipykernel)",
   "language": "python",
   "name": "python3"
  },
  "language_info": {
   "codemirror_mode": {
    "name": "ipython",
    "version": 3
   },
   "file_extension": ".py",
   "mimetype": "text/x-python",
   "name": "python",
   "nbconvert_exporter": "python",
   "pygments_lexer": "ipython3",
   "version": "3.9.12"
  }
 },
 "nbformat": 4,
 "nbformat_minor": 5
}
