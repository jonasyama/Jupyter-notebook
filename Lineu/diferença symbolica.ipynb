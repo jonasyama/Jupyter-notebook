{
 "cells": [
  {
   "cell_type": "markdown",
   "id": "0c3f2afd-e840-4141-b7ee-0bc83476e352",
   "metadata": {},
   "source": [
    "# Diferenças finitas placa\n"
   ]
  },
  {
   "cell_type": "code",
   "execution_count": 1,
   "id": "1ae35268-9794-419b-a05a-afde89d9fdf2",
   "metadata": {},
   "outputs": [],
   "source": [
    "import numpy as np \n",
    "import sys\n",
    "import matplotlib.pyplot as plt\n",
    "from scipy.ndimage import convolve, generate_binary_structure\n",
    "from sympy import *\n",
    "import sympy as smp"
   ]
  },
  {
   "cell_type": "code",
   "execution_count": 2,
   "id": "8789c9f2-e40f-4a91-86fc-fb4a164336ca",
   "metadata": {},
   "outputs": [],
   "source": [
    "x,y,d,=smp.symbols('x y d')\n",
    "n,i,j=smp.symbols('n i j', int=True)\n",
    "n=20\n",
    "w = smp.MatrixSymbol('w', n, n)\n",
    "w=smp.Matrix(w)\n",
    "p1= smp.symbols('p1', cls=smp.Function)\n",
    "p1=p1(x,y)\n",
    "p1=10\n",
    "d=61813"
   ]
  },
  {
   "cell_type": "code",
   "execution_count": 3,
   "id": "eb5f8579-9a2e-4135-b407-1716e23b0c1d",
   "metadata": {},
   "outputs": [
    {
     "data": {
      "text/latex": [
       "$\\displaystyle \\left[\\begin{array}{cccccccccc}0 & 0 & - w_{2, 2} & - w_{2, 3} & - w_{2, 4} & - w_{2, 5} & - w_{2, 6} & - w_{2, 7} & 0 & 0\\\\0 & 0 & 0 & 0 & 0 & 0 & 0 & 0 & 0 & 0\\\\- w_{2, 2} & 0 & w_{2, 2} & w_{2, 3} & w_{2, 4} & w_{2, 5} & w_{2, 6} & w_{2, 7} & 0 & - w_{2, 7}\\\\- w_{3, 2} & 0 & w_{3, 2} & w_{3, 3} & w_{3, 4} & w_{3, 5} & w_{3, 6} & w_{3, 7} & 0 & - w_{3, 7}\\\\- w_{4, 2} & 0 & w_{4, 2} & w_{4, 3} & w_{4, 4} & w_{4, 5} & w_{4, 6} & w_{4, 7} & 0 & - w_{4, 7}\\\\- w_{5, 2} & 0 & w_{5, 2} & w_{5, 3} & w_{5, 4} & w_{5, 5} & w_{5, 6} & w_{5, 7} & 0 & - w_{5, 7}\\\\- w_{6, 2} & 0 & w_{6, 2} & w_{6, 3} & w_{6, 4} & w_{6, 5} & w_{6, 6} & w_{6, 7} & 0 & - w_{6, 7}\\\\- w_{7, 2} & 0 & w_{7, 2} & w_{7, 3} & w_{7, 4} & w_{7, 5} & w_{7, 6} & w_{7, 7} & 0 & - w_{7, 7}\\\\0 & 0 & 0 & 0 & 0 & 0 & 0 & 0 & 0 & 0\\\\0 & 0 & - w_{7, 2} & - w_{7, 3} & - w_{7, 4} & - w_{7, 5} & - w_{7, 6} & - w_{7, 7} & 0 & 0\\end{array}\\right]$"
      ],
      "text/plain": [
       "Matrix([\n",
       "[       0, 0, -w[2, 2], -w[2, 3], -w[2, 4], -w[2, 5], -w[2, 6], -w[2, 7], 0,        0],\n",
       "[       0, 0,        0,        0,        0,        0,        0,        0, 0,        0],\n",
       "[-w[2, 2], 0,  w[2, 2],  w[2, 3],  w[2, 4],  w[2, 5],  w[2, 6],  w[2, 7], 0, -w[2, 7]],\n",
       "[-w[3, 2], 0,  w[3, 2],  w[3, 3],  w[3, 4],  w[3, 5],  w[3, 6],  w[3, 7], 0, -w[3, 7]],\n",
       "[-w[4, 2], 0,  w[4, 2],  w[4, 3],  w[4, 4],  w[4, 5],  w[4, 6],  w[4, 7], 0, -w[4, 7]],\n",
       "[-w[5, 2], 0,  w[5, 2],  w[5, 3],  w[5, 4],  w[5, 5],  w[5, 6],  w[5, 7], 0, -w[5, 7]],\n",
       "[-w[6, 2], 0,  w[6, 2],  w[6, 3],  w[6, 4],  w[6, 5],  w[6, 6],  w[6, 7], 0, -w[6, 7]],\n",
       "[-w[7, 2], 0,  w[7, 2],  w[7, 3],  w[7, 4],  w[7, 5],  w[7, 6],  w[7, 7], 0, -w[7, 7]],\n",
       "[       0, 0,        0,        0,        0,        0,        0,        0, 0,        0],\n",
       "[       0, 0, -w[7, 2], -w[7, 3], -w[7, 4], -w[7, 5], -w[7, 6], -w[7, 7], 0,        0]])"
      ]
     },
     "execution_count": 3,
     "metadata": {},
     "output_type": "execute_result"
    }
   ],
   "source": [
    "w.row_op(1,lambda i, j: 0)\n",
    "w.col_op(1,lambda i, j: 0)\n",
    "w.col_op(-2,lambda i, j: 0)\n",
    "w.row_op(-2,lambda i, j: 0)\n",
    "\n",
    "\n",
    "for i in range(n):\n",
    "    w[i,0]=-w[i,2]\n",
    "    w[0,i]=-w[2,i]\n",
    "    w[i,-1]=-w[i,-3]\n",
    "    w[-1,i]=-w[-3,i]\n",
    "w[0,0]=0\n",
    "w[0,-1]=0\n",
    "w[-1,0]=0\n",
    "w[-1,-1]=0\n",
    "w"
   ]
  },
  {
   "cell_type": "code",
   "execution_count": 4,
   "id": "751ce6a3-fbc2-4bb9-9637-fba9fa4ed4c6",
   "metadata": {},
   "outputs": [],
   "source": [
    "x1=np.linspace(0,20,n)\n",
    "y1=np.linspace(0,20,n)\n",
    "dx=x1[1]-x1[0]\n",
    "\n",
    "xv,yv=np.meshgrid(x1,y1)"
   ]
  },
  {
   "cell_type": "code",
   "execution_count": 5,
   "id": "431b83c1-4bc6-4b2d-bd46-69a4da7abe29",
   "metadata": {},
   "outputs": [],
   "source": [
    "#w.col_swap(0,2)\n",
    "#w.row_swap(0,2)\n",
    "w[0,0]=0\n",
    "w[0,-1]=0\n",
    "w[-1,0]=0\n",
    "w[-1,-1]=0"
   ]
  },
  {
   "cell_type": "code",
   "execution_count": 6,
   "id": "4108a299-72b9-4477-bc61-a944225d3bfb",
   "metadata": {},
   "outputs": [
    {
     "data": {
      "text/latex": [
       "$\\displaystyle \\left[\\begin{matrix}0 & 0 & 0 & 0 & 0 & 0 & 0 & 0 & 0 & 0\\\\0 & 0 & 0 & 0 & 0 & 0 & 0 & 0 & 0 & 0\\\\0 & 0 & - 4 w_{2, 2} + w_{2, 3} + w_{3, 2} & w_{2, 2} - 4 w_{2, 3} + w_{2, 4} + w_{3, 3} & w_{2, 3} - 4 w_{2, 4} + w_{2, 5} + w_{3, 4} & w_{2, 4} - 4 w_{2, 5} + w_{2, 6} + w_{3, 5} & w_{2, 5} - 4 w_{2, 6} + w_{2, 7} + w_{3, 6} & w_{2, 6} - 4 w_{2, 7} + w_{3, 7} & 0 & 0\\\\0 & 0 & w_{2, 2} - 4 w_{3, 2} + w_{3, 3} + w_{4, 2} & w_{2, 3} + w_{3, 2} - 4 w_{3, 3} + w_{3, 4} + w_{4, 3} & w_{2, 4} + w_{3, 3} - 4 w_{3, 4} + w_{3, 5} + w_{4, 4} & w_{2, 5} + w_{3, 4} - 4 w_{3, 5} + w_{3, 6} + w_{4, 5} & w_{2, 6} + w_{3, 5} - 4 w_{3, 6} + w_{3, 7} + w_{4, 6} & w_{2, 7} + w_{3, 6} - 4 w_{3, 7} + w_{4, 7} & 0 & 0\\\\0 & 0 & w_{3, 2} - 4 w_{4, 2} + w_{4, 3} + w_{5, 2} & w_{3, 3} + w_{4, 2} - 4 w_{4, 3} + w_{4, 4} + w_{5, 3} & w_{3, 4} + w_{4, 3} - 4 w_{4, 4} + w_{4, 5} + w_{5, 4} & w_{3, 5} + w_{4, 4} - 4 w_{4, 5} + w_{4, 6} + w_{5, 5} & w_{3, 6} + w_{4, 5} - 4 w_{4, 6} + w_{4, 7} + w_{5, 6} & w_{3, 7} + w_{4, 6} - 4 w_{4, 7} + w_{5, 7} & 0 & 0\\\\0 & 0 & w_{4, 2} - 4 w_{5, 2} + w_{5, 3} + w_{6, 2} & w_{4, 3} + w_{5, 2} - 4 w_{5, 3} + w_{5, 4} + w_{6, 3} & w_{4, 4} + w_{5, 3} - 4 w_{5, 4} + w_{5, 5} + w_{6, 4} & w_{4, 5} + w_{5, 4} - 4 w_{5, 5} + w_{5, 6} + w_{6, 5} & w_{4, 6} + w_{5, 5} - 4 w_{5, 6} + w_{5, 7} + w_{6, 6} & w_{4, 7} + w_{5, 6} - 4 w_{5, 7} + w_{6, 7} & 0 & 0\\\\0 & 0 & w_{5, 2} - 4 w_{6, 2} + w_{6, 3} + w_{7, 2} & w_{5, 3} + w_{6, 2} - 4 w_{6, 3} + w_{6, 4} + w_{7, 3} & w_{5, 4} + w_{6, 3} - 4 w_{6, 4} + w_{6, 5} + w_{7, 4} & w_{5, 5} + w_{6, 4} - 4 w_{6, 5} + w_{6, 6} + w_{7, 5} & w_{5, 6} + w_{6, 5} - 4 w_{6, 6} + w_{6, 7} + w_{7, 6} & w_{5, 7} + w_{6, 6} - 4 w_{6, 7} + w_{7, 7} & 0 & 0\\\\0 & 0 & w_{6, 2} - 4 w_{7, 2} + w_{7, 3} & w_{6, 3} + w_{7, 2} - 4 w_{7, 3} + w_{7, 4} & w_{6, 4} + w_{7, 3} - 4 w_{7, 4} + w_{7, 5} & w_{6, 5} + w_{7, 4} - 4 w_{7, 5} + w_{7, 6} & w_{6, 6} + w_{7, 5} - 4 w_{7, 6} + w_{7, 7} & w_{6, 7} + w_{7, 6} - 4 w_{7, 7} & 0 & 0\\\\0 & 0 & 0 & 0 & 0 & 0 & 0 & 0 & 0 & 0\\\\0 & 0 & 0 & 0 & 0 & 0 & 0 & 0 & 0 & 0\\end{matrix}\\right]$"
      ],
      "text/plain": [
       "Matrix([\n",
       "[0, 0,                                       0,                                                 0,                                                 0,                                                 0,                                                 0,                                       0, 0, 0],\n",
       "[0, 0,                                       0,                                                 0,                                                 0,                                                 0,                                                 0,                                       0, 0, 0],\n",
       "[0, 0,          -4*w[2, 2] + w[2, 3] + w[3, 2],           w[2, 2] - 4*w[2, 3] + w[2, 4] + w[3, 3],           w[2, 3] - 4*w[2, 4] + w[2, 5] + w[3, 4],           w[2, 4] - 4*w[2, 5] + w[2, 6] + w[3, 5],           w[2, 5] - 4*w[2, 6] + w[2, 7] + w[3, 6],           w[2, 6] - 4*w[2, 7] + w[3, 7], 0, 0],\n",
       "[0, 0, w[2, 2] - 4*w[3, 2] + w[3, 3] + w[4, 2], w[2, 3] + w[3, 2] - 4*w[3, 3] + w[3, 4] + w[4, 3], w[2, 4] + w[3, 3] - 4*w[3, 4] + w[3, 5] + w[4, 4], w[2, 5] + w[3, 4] - 4*w[3, 5] + w[3, 6] + w[4, 5], w[2, 6] + w[3, 5] - 4*w[3, 6] + w[3, 7] + w[4, 6], w[2, 7] + w[3, 6] - 4*w[3, 7] + w[4, 7], 0, 0],\n",
       "[0, 0, w[3, 2] - 4*w[4, 2] + w[4, 3] + w[5, 2], w[3, 3] + w[4, 2] - 4*w[4, 3] + w[4, 4] + w[5, 3], w[3, 4] + w[4, 3] - 4*w[4, 4] + w[4, 5] + w[5, 4], w[3, 5] + w[4, 4] - 4*w[4, 5] + w[4, 6] + w[5, 5], w[3, 6] + w[4, 5] - 4*w[4, 6] + w[4, 7] + w[5, 6], w[3, 7] + w[4, 6] - 4*w[4, 7] + w[5, 7], 0, 0],\n",
       "[0, 0, w[4, 2] - 4*w[5, 2] + w[5, 3] + w[6, 2], w[4, 3] + w[5, 2] - 4*w[5, 3] + w[5, 4] + w[6, 3], w[4, 4] + w[5, 3] - 4*w[5, 4] + w[5, 5] + w[6, 4], w[4, 5] + w[5, 4] - 4*w[5, 5] + w[5, 6] + w[6, 5], w[4, 6] + w[5, 5] - 4*w[5, 6] + w[5, 7] + w[6, 6], w[4, 7] + w[5, 6] - 4*w[5, 7] + w[6, 7], 0, 0],\n",
       "[0, 0, w[5, 2] - 4*w[6, 2] + w[6, 3] + w[7, 2], w[5, 3] + w[6, 2] - 4*w[6, 3] + w[6, 4] + w[7, 3], w[5, 4] + w[6, 3] - 4*w[6, 4] + w[6, 5] + w[7, 4], w[5, 5] + w[6, 4] - 4*w[6, 5] + w[6, 6] + w[7, 5], w[5, 6] + w[6, 5] - 4*w[6, 6] + w[6, 7] + w[7, 6], w[5, 7] + w[6, 6] - 4*w[6, 7] + w[7, 7], 0, 0],\n",
       "[0, 0,           w[6, 2] - 4*w[7, 2] + w[7, 3],           w[6, 3] + w[7, 2] - 4*w[7, 3] + w[7, 4],           w[6, 4] + w[7, 3] - 4*w[7, 4] + w[7, 5],           w[6, 5] + w[7, 4] - 4*w[7, 5] + w[7, 6],           w[6, 6] + w[7, 5] - 4*w[7, 6] + w[7, 7],           w[6, 7] + w[7, 6] - 4*w[7, 7], 0, 0],\n",
       "[0, 0,                                       0,                                                 0,                                                 0,                                                 0,                                                 0,                                       0, 0, 0],\n",
       "[0, 0,                                       0,                                                 0,                                                 0,                                                 0,                                                 0,                                       0, 0, 0]])"
      ]
     },
     "execution_count": 6,
     "metadata": {},
     "output_type": "execute_result"
    }
   ],
   "source": [
    "A=zeros(n)\n",
    "\n",
    "def lap(w):\n",
    "    for i in range(2,n-2):\n",
    "        for j in range(2,n-2):\n",
    "            A[i,j]=-4*w[i,j]\n",
    "            A[i,j]+=w[i-1,j]\n",
    "            A[i,j]+=w[i+1,j]\n",
    "            A[i,j]+=w[i,j-1]\n",
    "            A[i,j]+=w[i,j+1]\n",
    "    return A\n",
    "                \n",
    "lap(w)"
   ]
  },
  {
   "cell_type": "code",
   "execution_count": 7,
   "id": "7f9425d2-87cd-45ee-9784-5ee135cb24a6",
   "metadata": {},
   "outputs": [],
   "source": [
    "A2=A.copy()\n",
    "p=ones(n-4)\n",
    "P=p1*p*dx"
   ]
  },
  {
   "cell_type": "code",
   "execution_count": 8,
   "id": "98ae53c2-13cd-4b7e-95ac-7ce179d94737",
   "metadata": {},
   "outputs": [],
   "source": [
    "for i in range(2,n-2):\n",
    "        for j in range(2,n-2):\n",
    "            A[i,j]=A[i,j]-P[i-2,j-2]\n"
   ]
  },
  {
   "cell_type": "code",
   "execution_count": 9,
   "id": "423cf9e9-31dc-42b2-b0af-7681549ee484",
   "metadata": {},
   "outputs": [],
   "source": [
    "Eq=A.reshape(1,n**2)\n",
    "\n"
   ]
  },
  {
   "cell_type": "code",
   "execution_count": 10,
   "id": "452f3183-abc3-4c89-8e93-e1a37142354b",
   "metadata": {},
   "outputs": [
    {
     "data": {
      "text/latex": [
       "$\\displaystyle \\left[\\begin{matrix}- 4 w_{2, 2} + w_{2, 3} + w_{3, 2} - 22.2222222222222 & w_{2, 2} - 4 w_{2, 3} + w_{2, 4} + w_{3, 3} - 22.2222222222222 & w_{2, 3} - 4 w_{2, 4} + w_{2, 5} + w_{3, 4} - 22.2222222222222 & w_{2, 4} - 4 w_{2, 5} + w_{2, 6} + w_{3, 5} - 22.2222222222222 & w_{2, 5} - 4 w_{2, 6} + w_{2, 7} + w_{3, 6} - 22.2222222222222 & w_{2, 6} - 4 w_{2, 7} + w_{3, 7} - 22.2222222222222\\\\w_{2, 2} - 4 w_{3, 2} + w_{3, 3} + w_{4, 2} - 22.2222222222222 & w_{2, 3} + w_{3, 2} - 4 w_{3, 3} + w_{3, 4} + w_{4, 3} - 22.2222222222222 & w_{2, 4} + w_{3, 3} - 4 w_{3, 4} + w_{3, 5} + w_{4, 4} - 22.2222222222222 & w_{2, 5} + w_{3, 4} - 4 w_{3, 5} + w_{3, 6} + w_{4, 5} - 22.2222222222222 & w_{2, 6} + w_{3, 5} - 4 w_{3, 6} + w_{3, 7} + w_{4, 6} - 22.2222222222222 & w_{2, 7} + w_{3, 6} - 4 w_{3, 7} + w_{4, 7} - 22.2222222222222\\\\w_{3, 2} - 4 w_{4, 2} + w_{4, 3} + w_{5, 2} - 22.2222222222222 & w_{3, 3} + w_{4, 2} - 4 w_{4, 3} + w_{4, 4} + w_{5, 3} - 22.2222222222222 & w_{3, 4} + w_{4, 3} - 4 w_{4, 4} + w_{4, 5} + w_{5, 4} - 22.2222222222222 & w_{3, 5} + w_{4, 4} - 4 w_{4, 5} + w_{4, 6} + w_{5, 5} - 22.2222222222222 & w_{3, 6} + w_{4, 5} - 4 w_{4, 6} + w_{4, 7} + w_{5, 6} - 22.2222222222222 & w_{3, 7} + w_{4, 6} - 4 w_{4, 7} + w_{5, 7} - 22.2222222222222\\\\w_{4, 2} - 4 w_{5, 2} + w_{5, 3} + w_{6, 2} - 22.2222222222222 & w_{4, 3} + w_{5, 2} - 4 w_{5, 3} + w_{5, 4} + w_{6, 3} - 22.2222222222222 & w_{4, 4} + w_{5, 3} - 4 w_{5, 4} + w_{5, 5} + w_{6, 4} - 22.2222222222222 & w_{4, 5} + w_{5, 4} - 4 w_{5, 5} + w_{5, 6} + w_{6, 5} - 22.2222222222222 & w_{4, 6} + w_{5, 5} - 4 w_{5, 6} + w_{5, 7} + w_{6, 6} - 22.2222222222222 & w_{4, 7} + w_{5, 6} - 4 w_{5, 7} + w_{6, 7} - 22.2222222222222\\\\w_{5, 2} - 4 w_{6, 2} + w_{6, 3} + w_{7, 2} - 22.2222222222222 & w_{5, 3} + w_{6, 2} - 4 w_{6, 3} + w_{6, 4} + w_{7, 3} - 22.2222222222222 & w_{5, 4} + w_{6, 3} - 4 w_{6, 4} + w_{6, 5} + w_{7, 4} - 22.2222222222222 & w_{5, 5} + w_{6, 4} - 4 w_{6, 5} + w_{6, 6} + w_{7, 5} - 22.2222222222222 & w_{5, 6} + w_{6, 5} - 4 w_{6, 6} + w_{6, 7} + w_{7, 6} - 22.2222222222222 & w_{5, 7} + w_{6, 6} - 4 w_{6, 7} + w_{7, 7} - 22.2222222222222\\\\w_{6, 2} - 4 w_{7, 2} + w_{7, 3} - 22.2222222222222 & w_{6, 3} + w_{7, 2} - 4 w_{7, 3} + w_{7, 4} - 22.2222222222222 & w_{6, 4} + w_{7, 3} - 4 w_{7, 4} + w_{7, 5} - 22.2222222222222 & w_{6, 5} + w_{7, 4} - 4 w_{7, 5} + w_{7, 6} - 22.2222222222222 & w_{6, 6} + w_{7, 5} - 4 w_{7, 6} + w_{7, 7} - 22.2222222222222 & w_{6, 7} + w_{7, 6} - 4 w_{7, 7} - 22.2222222222222\\end{matrix}\\right]$"
      ],
      "text/plain": [
       "Matrix([\n",
       "[         -4*w[2, 2] + w[2, 3] + w[3, 2] - 22.2222222222222,           w[2, 2] - 4*w[2, 3] + w[2, 4] + w[3, 3] - 22.2222222222222,           w[2, 3] - 4*w[2, 4] + w[2, 5] + w[3, 4] - 22.2222222222222,           w[2, 4] - 4*w[2, 5] + w[2, 6] + w[3, 5] - 22.2222222222222,           w[2, 5] - 4*w[2, 6] + w[2, 7] + w[3, 6] - 22.2222222222222,           w[2, 6] - 4*w[2, 7] + w[3, 7] - 22.2222222222222],\n",
       "[w[2, 2] - 4*w[3, 2] + w[3, 3] + w[4, 2] - 22.2222222222222, w[2, 3] + w[3, 2] - 4*w[3, 3] + w[3, 4] + w[4, 3] - 22.2222222222222, w[2, 4] + w[3, 3] - 4*w[3, 4] + w[3, 5] + w[4, 4] - 22.2222222222222, w[2, 5] + w[3, 4] - 4*w[3, 5] + w[3, 6] + w[4, 5] - 22.2222222222222, w[2, 6] + w[3, 5] - 4*w[3, 6] + w[3, 7] + w[4, 6] - 22.2222222222222, w[2, 7] + w[3, 6] - 4*w[3, 7] + w[4, 7] - 22.2222222222222],\n",
       "[w[3, 2] - 4*w[4, 2] + w[4, 3] + w[5, 2] - 22.2222222222222, w[3, 3] + w[4, 2] - 4*w[4, 3] + w[4, 4] + w[5, 3] - 22.2222222222222, w[3, 4] + w[4, 3] - 4*w[4, 4] + w[4, 5] + w[5, 4] - 22.2222222222222, w[3, 5] + w[4, 4] - 4*w[4, 5] + w[4, 6] + w[5, 5] - 22.2222222222222, w[3, 6] + w[4, 5] - 4*w[4, 6] + w[4, 7] + w[5, 6] - 22.2222222222222, w[3, 7] + w[4, 6] - 4*w[4, 7] + w[5, 7] - 22.2222222222222],\n",
       "[w[4, 2] - 4*w[5, 2] + w[5, 3] + w[6, 2] - 22.2222222222222, w[4, 3] + w[5, 2] - 4*w[5, 3] + w[5, 4] + w[6, 3] - 22.2222222222222, w[4, 4] + w[5, 3] - 4*w[5, 4] + w[5, 5] + w[6, 4] - 22.2222222222222, w[4, 5] + w[5, 4] - 4*w[5, 5] + w[5, 6] + w[6, 5] - 22.2222222222222, w[4, 6] + w[5, 5] - 4*w[5, 6] + w[5, 7] + w[6, 6] - 22.2222222222222, w[4, 7] + w[5, 6] - 4*w[5, 7] + w[6, 7] - 22.2222222222222],\n",
       "[w[5, 2] - 4*w[6, 2] + w[6, 3] + w[7, 2] - 22.2222222222222, w[5, 3] + w[6, 2] - 4*w[6, 3] + w[6, 4] + w[7, 3] - 22.2222222222222, w[5, 4] + w[6, 3] - 4*w[6, 4] + w[6, 5] + w[7, 4] - 22.2222222222222, w[5, 5] + w[6, 4] - 4*w[6, 5] + w[6, 6] + w[7, 5] - 22.2222222222222, w[5, 6] + w[6, 5] - 4*w[6, 6] + w[6, 7] + w[7, 6] - 22.2222222222222, w[5, 7] + w[6, 6] - 4*w[6, 7] + w[7, 7] - 22.2222222222222],\n",
       "[          w[6, 2] - 4*w[7, 2] + w[7, 3] - 22.2222222222222,           w[6, 3] + w[7, 2] - 4*w[7, 3] + w[7, 4] - 22.2222222222222,           w[6, 4] + w[7, 3] - 4*w[7, 4] + w[7, 5] - 22.2222222222222,           w[6, 5] + w[7, 4] - 4*w[7, 5] + w[7, 6] - 22.2222222222222,           w[6, 6] + w[7, 5] - 4*w[7, 6] + w[7, 7] - 22.2222222222222,           w[6, 7] + w[7, 6] - 4*w[7, 7] - 22.2222222222222]])"
      ]
     },
     "execution_count": 10,
     "metadata": {},
     "output_type": "execute_result"
    }
   ],
   "source": [
    "A.row_del(0)\n",
    "A.row_del(0)\n",
    "A.row_del(-1)\n",
    "A.row_del(-1)\n",
    "A.col_del(0)\n",
    "A.col_del(0)\n",
    "A.col_del(-1)\n",
    "A.col_del(-1)\n",
    "A"
   ]
  },
  {
   "cell_type": "code",
   "execution_count": 11,
   "id": "49fc0ac1-6b5e-4b1d-a07e-4a2d1c91b6bf",
   "metadata": {
    "tags": []
   },
   "outputs": [
    {
     "data": {
      "text/latex": [
       "$\\displaystyle \\left[\\begin{array}{cccccccccc}w_{0, 0} & w_{0, 1} & w_{0, 2} & w_{0, 3} & w_{0, 4} & w_{0, 5} & w_{0, 6} & w_{0, 7} & w_{0, 8} & w_{0, 9}\\\\w_{1, 0} & w_{1, 1} & w_{1, 2} & w_{1, 3} & w_{1, 4} & w_{1, 5} & w_{1, 6} & w_{1, 7} & w_{1, 8} & w_{1, 9}\\\\w_{2, 0} & w_{2, 1} & w_{2, 2} & w_{2, 3} & w_{2, 4} & w_{2, 5} & w_{2, 6} & w_{2, 7} & w_{2, 8} & w_{2, 9}\\\\w_{3, 0} & w_{3, 1} & w_{3, 2} & w_{3, 3} & w_{3, 4} & w_{3, 5} & w_{3, 6} & w_{3, 7} & w_{3, 8} & w_{3, 9}\\\\w_{4, 0} & w_{4, 1} & w_{4, 2} & w_{4, 3} & w_{4, 4} & w_{4, 5} & w_{4, 6} & w_{4, 7} & w_{4, 8} & w_{4, 9}\\\\w_{5, 0} & w_{5, 1} & w_{5, 2} & w_{5, 3} & w_{5, 4} & w_{5, 5} & w_{5, 6} & w_{5, 7} & w_{5, 8} & w_{5, 9}\\\\w_{6, 0} & w_{6, 1} & w_{6, 2} & w_{6, 3} & w_{6, 4} & w_{6, 5} & w_{6, 6} & w_{6, 7} & w_{6, 8} & w_{6, 9}\\\\w_{7, 0} & w_{7, 1} & w_{7, 2} & w_{7, 3} & w_{7, 4} & w_{7, 5} & w_{7, 6} & w_{7, 7} & w_{7, 8} & w_{7, 9}\\\\w_{8, 0} & w_{8, 1} & w_{8, 2} & w_{8, 3} & w_{8, 4} & w_{8, 5} & w_{8, 6} & w_{8, 7} & w_{8, 8} & w_{8, 9}\\\\w_{9, 0} & w_{9, 1} & w_{9, 2} & w_{9, 3} & w_{9, 4} & w_{9, 5} & w_{9, 6} & w_{9, 7} & w_{9, 8} & w_{9, 9}\\end{array}\\right]$"
      ],
      "text/plain": [
       "Matrix([\n",
       "[w[0, 0], w[0, 1], w[0, 2], w[0, 3], w[0, 4], w[0, 5], w[0, 6], w[0, 7], w[0, 8], w[0, 9]],\n",
       "[w[1, 0], w[1, 1], w[1, 2], w[1, 3], w[1, 4], w[1, 5], w[1, 6], w[1, 7], w[1, 8], w[1, 9]],\n",
       "[w[2, 0], w[2, 1], w[2, 2], w[2, 3], w[2, 4], w[2, 5], w[2, 6], w[2, 7], w[2, 8], w[2, 9]],\n",
       "[w[3, 0], w[3, 1], w[3, 2], w[3, 3], w[3, 4], w[3, 5], w[3, 6], w[3, 7], w[3, 8], w[3, 9]],\n",
       "[w[4, 0], w[4, 1], w[4, 2], w[4, 3], w[4, 4], w[4, 5], w[4, 6], w[4, 7], w[4, 8], w[4, 9]],\n",
       "[w[5, 0], w[5, 1], w[5, 2], w[5, 3], w[5, 4], w[5, 5], w[5, 6], w[5, 7], w[5, 8], w[5, 9]],\n",
       "[w[6, 0], w[6, 1], w[6, 2], w[6, 3], w[6, 4], w[6, 5], w[6, 6], w[6, 7], w[6, 8], w[6, 9]],\n",
       "[w[7, 0], w[7, 1], w[7, 2], w[7, 3], w[7, 4], w[7, 5], w[7, 6], w[7, 7], w[7, 8], w[7, 9]],\n",
       "[w[8, 0], w[8, 1], w[8, 2], w[8, 3], w[8, 4], w[8, 5], w[8, 6], w[8, 7], w[8, 8], w[8, 9]],\n",
       "[w[9, 0], w[9, 1], w[9, 2], w[9, 3], w[9, 4], w[9, 5], w[9, 6], w[9, 7], w[9, 8], w[9, 9]]])"
      ]
     },
     "execution_count": 11,
     "metadata": {},
     "output_type": "execute_result"
    }
   ],
   "source": [
    "w = smp.MatrixSymbol('w', n, n)\n",
    "w=smp.Matrix(w)\n",
    "w"
   ]
  },
  {
   "cell_type": "code",
   "execution_count": 12,
   "id": "a8abcbdd-a127-4a7d-964d-46e3d415b240",
   "metadata": {},
   "outputs": [],
   "source": [
    "w.row_del(0)\n",
    "w.row_del(0)\n",
    "w.row_del(-1)\n",
    "w.row_del(-1)\n",
    "w.col_del(0)\n",
    "w.col_del(0)\n",
    "w.col_del(-1)\n",
    "w.col_del(-1)\n"
   ]
  },
  {
   "cell_type": "code",
   "execution_count": 13,
   "id": "55913f7a-9a19-4698-a96c-5996db3bd933",
   "metadata": {
    "tags": []
   },
   "outputs": [
    {
     "data": {
      "text/latex": [
       "$\\displaystyle \\left[\\begin{array}{cccccccccccccccccccccccccccccccccccc}w_{2, 2} & w_{2, 3} & w_{2, 4} & w_{2, 5} & w_{2, 6} & w_{2, 7} & w_{3, 2} & w_{3, 3} & w_{3, 4} & w_{3, 5} & w_{3, 6} & w_{3, 7} & w_{4, 2} & w_{4, 3} & w_{4, 4} & w_{4, 5} & w_{4, 6} & w_{4, 7} & w_{5, 2} & w_{5, 3} & w_{5, 4} & w_{5, 5} & w_{5, 6} & w_{5, 7} & w_{6, 2} & w_{6, 3} & w_{6, 4} & w_{6, 5} & w_{6, 6} & w_{6, 7} & w_{7, 2} & w_{7, 3} & w_{7, 4} & w_{7, 5} & w_{7, 6} & w_{7, 7}\\end{array}\\right]$"
      ],
      "text/plain": [
       "Matrix([[w[2, 2], w[2, 3], w[2, 4], w[2, 5], w[2, 6], w[2, 7], w[3, 2], w[3, 3], w[3, 4], w[3, 5], w[3, 6], w[3, 7], w[4, 2], w[4, 3], w[4, 4], w[4, 5], w[4, 6], w[4, 7], w[5, 2], w[5, 3], w[5, 4], w[5, 5], w[5, 6], w[5, 7], w[6, 2], w[6, 3], w[6, 4], w[6, 5], w[6, 6], w[6, 7], w[7, 2], w[7, 3], w[7, 4], w[7, 5], w[7, 6], w[7, 7]]])"
      ]
     },
     "execution_count": 13,
     "metadata": {},
     "output_type": "execute_result"
    }
   ],
   "source": [
    "B=w.reshape(1,(n-4)**2)\n",
    "B"
   ]
  },
  {
   "cell_type": "code",
   "execution_count": 14,
   "id": "1c429c63-7bf7-4fed-995e-647b624c2fc4",
   "metadata": {},
   "outputs": [],
   "source": [
    "Eq1=A.reshape(1,(n-4)**2)\n",
    "sols=smp.solve(Eq1,B)\n"
   ]
  },
  {
   "cell_type": "code",
   "execution_count": 15,
   "id": "b8cdc321-0f1f-4708-8e35-1c4d7884551d",
   "metadata": {},
   "outputs": [],
   "source": [
    "sols.values()\n",
    "vals = np.fromiter(sols.values(), dtype=float)\n",
    "np.set_printoptions(threshold=np.inf, linewidth=200)\n"
   ]
  },
  {
   "cell_type": "code",
   "execution_count": 16,
   "id": "cd413ed0-758b-4485-81ab-56822b14e51b",
   "metadata": {},
   "outputs": [],
   "source": [
    "W1=np.zeros((n,n))\n",
    "for i in range(2,n-2):\n",
    "    for j in range(2,n-2):\n",
    "        W1[i][j]=vals[(n-4)*(i-2)+(j-2)]\n",
    "\n",
    "np.set_printoptions(threshold=np.inf, linewidth=200)\n"
   ]
  },
  {
   "cell_type": "code",
   "execution_count": 17,
   "id": "0ef6da27-81fd-44b3-b7d6-0ad66dd96b49",
   "metadata": {},
   "outputs": [
    {
     "data": {
      "text/plain": [
       "<matplotlib.colorbar.Colorbar at 0x29d0b07a9a0>"
      ]
     },
     "execution_count": 17,
     "metadata": {},
     "output_type": "execute_result"
    },
    {
     "data": {
      "image/png": "[encoded data removed]",
      "text/plain": [
       "<Figure size 432x288 with 2 Axes>"
      ]
     },
     "metadata": {
      "needs_background": "light"
     },
     "output_type": "display_data"
    }
   ],
   "source": [
    "plt.contourf(xv,yv,W1)\n",
    "plt.xlim(right=20-dx)\n",
    "plt.xlim(left=dx)\n",
    "plt.ylim(dx,20-dx)\n",
    "plt.colorbar()"
   ]
  },
  {
   "cell_type": "code",
   "execution_count": 18,
   "id": "16c14966-1293-48c5-b44c-72d3624510b7",
   "metadata": {},
   "outputs": [
    {
     "data": {
      "text/latex": [
       "$\\displaystyle \\left[\\begin{matrix}0 & 0 & 0 & 0 & 0 & 0 & 0 & 0 & 0 & 0\\\\0 & 0 & 0 & 0 & 0 & 0 & 0 & 0 & 0 & 0\\\\0 & 0 & - 4 w_{2, 2} + w_{2, 3} + w_{3, 2} + 0.00186717265392681 & w_{2, 2} - 4 w_{2, 3} + w_{2, 4} + w_{3, 3} + 0.00284667306254416 & w_{2, 3} - 4 w_{2, 4} + w_{2, 5} + w_{3, 4} + 0.00327520449131424 & w_{2, 4} - 4 w_{2, 5} + w_{2, 6} + w_{3, 5} + 0.00327520449131424 & w_{2, 5} - 4 w_{2, 6} + w_{2, 7} + w_{3, 6} + 0.00284667306254416 & w_{2, 6} - 4 w_{2, 7} + w_{3, 7} + 0.00186717265392681 & 0 & 0\\\\0 & 0 & w_{2, 2} - 4 w_{3, 2} + w_{3, 3} + w_{4, 2} + 0.00284667306254416 & w_{2, 3} + w_{3, 2} - 4 w_{3, 3} + w_{3, 4} + w_{4, 3} + 0.00446897061431663 & w_{2, 4} + w_{3, 3} - 4 w_{3, 4} + w_{3, 5} + w_{4, 4} + 0.00520359592077964 & w_{2, 5} + w_{3, 4} - 4 w_{3, 5} + w_{3, 6} + w_{4, 5} + 0.00520359592077964 & w_{2, 6} + w_{3, 5} - 4 w_{3, 6} + w_{3, 7} + w_{4, 6} + 0.00446897061431663 & w_{2, 7} + w_{3, 6} - 4 w_{3, 7} + w_{4, 7} + 0.00284667306254416 & 0 & 0\\\\0 & 0 & w_{3, 2} - 4 w_{4, 2} + w_{4, 3} + w_{5, 2} + 0.00327520449131424 & w_{3, 3} + w_{4, 2} - 4 w_{4, 3} + w_{4, 4} + w_{5, 3} + 0.00520359592077964 & w_{3, 4} + w_{4, 3} - 4 w_{4, 4} + w_{4, 5} + w_{5, 4} + 0.00609126816608911 & w_{3, 5} + w_{4, 4} - 4 w_{4, 5} + w_{4, 6} + w_{5, 5} + 0.00609126816608911 & w_{3, 6} + w_{4, 5} - 4 w_{4, 6} + w_{4, 7} + w_{5, 6} + 0.00520359592077964 & w_{3, 7} + w_{4, 6} - 4 w_{4, 7} + w_{5, 7} + 0.00327520449131424 & 0 & 0\\\\0 & 0 & w_{4, 2} - 4 w_{5, 2} + w_{5, 3} + w_{6, 2} + 0.00327520449131424 & w_{4, 3} + w_{5, 2} - 4 w_{5, 3} + w_{5, 4} + w_{6, 3} + 0.00520359592077964 & w_{4, 4} + w_{5, 3} - 4 w_{5, 4} + w_{5, 5} + w_{6, 4} + 0.00609126816608911 & w_{4, 5} + w_{5, 4} - 4 w_{5, 5} + w_{5, 6} + w_{6, 5} + 0.00609126816608911 & w_{4, 6} + w_{5, 5} - 4 w_{5, 6} + w_{5, 7} + w_{6, 6} + 0.00520359592077964 & w_{4, 7} + w_{5, 6} - 4 w_{5, 7} + w_{6, 7} + 0.00327520449131424 & 0 & 0\\\\0 & 0 & w_{5, 2} - 4 w_{6, 2} + w_{6, 3} + w_{7, 2} + 0.00284667306254416 & w_{5, 3} + w_{6, 2} - 4 w_{6, 3} + w_{6, 4} + w_{7, 3} + 0.00446897061431663 & w_{5, 4} + w_{6, 3} - 4 w_{6, 4} + w_{6, 5} + w_{7, 4} + 0.00520359592077964 & w_{5, 5} + w_{6, 4} - 4 w_{6, 5} + w_{6, 6} + w_{7, 5} + 0.00520359592077964 & w_{5, 6} + w_{6, 5} - 4 w_{6, 6} + w_{6, 7} + w_{7, 6} + 0.00446897061431663 & w_{5, 7} + w_{6, 6} - 4 w_{6, 7} + w_{7, 7} + 0.00284667306254416 & 0 & 0\\\\0 & 0 & w_{6, 2} - 4 w_{7, 2} + w_{7, 3} + 0.00186717265392681 & w_{6, 3} + w_{7, 2} - 4 w_{7, 3} + w_{7, 4} + 0.00284667306254416 & w_{6, 4} + w_{7, 3} - 4 w_{7, 4} + w_{7, 5} + 0.00327520449131424 & w_{6, 5} + w_{7, 4} - 4 w_{7, 5} + w_{7, 6} + 0.00327520449131424 & w_{6, 6} + w_{7, 5} - 4 w_{7, 6} + w_{7, 7} + 0.00284667306254416 & w_{6, 7} + w_{7, 6} - 4 w_{7, 7} + 0.00186717265392681 & 0 & 0\\\\0 & 0 & 0 & 0 & 0 & 0 & 0 & 0 & 0 & 0\\\\0 & 0 & 0 & 0 & 0 & 0 & 0 & 0 & 0 & 0\\end{matrix}\\right]$"
      ],
      "text/plain": [
       "Matrix([\n",
       "[0, 0,                                                             0,                                                                       0,                                                                       0,                                                                       0,                                                                       0,                                                             0, 0, 0],\n",
       "[0, 0,                                                             0,                                                                       0,                                                                       0,                                                                       0,                                                                       0,                                                             0, 0, 0],\n",
       "[0, 0,          -4*w[2, 2] + w[2, 3] + w[3, 2] + 0.00186717265392681,           w[2, 2] - 4*w[2, 3] + w[2, 4] + w[3, 3] + 0.00284667306254416,           w[2, 3] - 4*w[2, 4] + w[2, 5] + w[3, 4] + 0.00327520449131424,           w[2, 4] - 4*w[2, 5] + w[2, 6] + w[3, 5] + 0.00327520449131424,           w[2, 5] - 4*w[2, 6] + w[2, 7] + w[3, 6] + 0.00284667306254416,           w[2, 6] - 4*w[2, 7] + w[3, 7] + 0.00186717265392681, 0, 0],\n",
       "[0, 0, w[2, 2] - 4*w[3, 2] + w[3, 3] + w[4, 2] + 0.00284667306254416, w[2, 3] + w[3, 2] - 4*w[3, 3] + w[3, 4] + w[4, 3] + 0.00446897061431663, w[2, 4] + w[3, 3] - 4*w[3, 4] + w[3, 5] + w[4, 4] + 0.00520359592077964, w[2, 5] + w[3, 4] - 4*w[3, 5] + w[3, 6] + w[4, 5] + 0.00520359592077964, w[2, 6] + w[3, 5] - 4*w[3, 6] + w[3, 7] + w[4, 6] + 0.00446897061431663, w[2, 7] + w[3, 6] - 4*w[3, 7] + w[4, 7] + 0.00284667306254416, 0, 0],\n",
       "[0, 0, w[3, 2] - 4*w[4, 2] + w[4, 3] + w[5, 2] + 0.00327520449131424, w[3, 3] + w[4, 2] - 4*w[4, 3] + w[4, 4] + w[5, 3] + 0.00520359592077964, w[3, 4] + w[4, 3] - 4*w[4, 4] + w[4, 5] + w[5, 4] + 0.00609126816608911, w[3, 5] + w[4, 4] - 4*w[4, 5] + w[4, 6] + w[5, 5] + 0.00609126816608911, w[3, 6] + w[4, 5] - 4*w[4, 6] + w[4, 7] + w[5, 6] + 0.00520359592077964, w[3, 7] + w[4, 6] - 4*w[4, 7] + w[5, 7] + 0.00327520449131424, 0, 0],\n",
       "[0, 0, w[4, 2] - 4*w[5, 2] + w[5, 3] + w[6, 2] + 0.00327520449131424, w[4, 3] + w[5, 2] - 4*w[5, 3] + w[5, 4] + w[6, 3] + 0.00520359592077964, w[4, 4] + w[5, 3] - 4*w[5, 4] + w[5, 5] + w[6, 4] + 0.00609126816608911, w[4, 5] + w[5, 4] - 4*w[5, 5] + w[5, 6] + w[6, 5] + 0.00609126816608911, w[4, 6] + w[5, 5] - 4*w[5, 6] + w[5, 7] + w[6, 6] + 0.00520359592077964, w[4, 7] + w[5, 6] - 4*w[5, 7] + w[6, 7] + 0.00327520449131424, 0, 0],\n",
       "[0, 0, w[5, 2] - 4*w[6, 2] + w[6, 3] + w[7, 2] + 0.00284667306254416, w[5, 3] + w[6, 2] - 4*w[6, 3] + w[6, 4] + w[7, 3] + 0.00446897061431663, w[5, 4] + w[6, 3] - 4*w[6, 4] + w[6, 5] + w[7, 4] + 0.00520359592077964, w[5, 5] + w[6, 4] - 4*w[6, 5] + w[6, 6] + w[7, 5] + 0.00520359592077964, w[5, 6] + w[6, 5] - 4*w[6, 6] + w[6, 7] + w[7, 6] + 0.00446897061431663, w[5, 7] + w[6, 6] - 4*w[6, 7] + w[7, 7] + 0.00284667306254416, 0, 0],\n",
       "[0, 0,           w[6, 2] - 4*w[7, 2] + w[7, 3] + 0.00186717265392681,           w[6, 3] + w[7, 2] - 4*w[7, 3] + w[7, 4] + 0.00284667306254416,           w[6, 4] + w[7, 3] - 4*w[7, 4] + w[7, 5] + 0.00327520449131424,           w[6, 5] + w[7, 4] - 4*w[7, 5] + w[7, 6] + 0.00327520449131424,           w[6, 6] + w[7, 5] - 4*w[7, 6] + w[7, 7] + 0.00284667306254416,           w[6, 7] + w[7, 6] - 4*w[7, 7] + 0.00186717265392681, 0, 0],\n",
       "[0, 0,                                                             0,                                                                       0,                                                                       0,                                                                       0,                                                                       0,                                                             0, 0, 0],\n",
       "[0, 0,                                                             0,                                                                       0,                                                                       0,                                                                       0,                                                                       0,                                                             0, 0, 0]])"
      ]
     },
     "execution_count": 18,
     "metadata": {},
     "output_type": "execute_result"
    }
   ],
   "source": [
    "A2\n",
    "for i in range (0,n):\n",
    "    for j in range(0,n):\n",
    "            A2[i,j]=A2[i,j]-W1[i,j]/d*dx**2\n",
    "A2"
   ]
  },
  {
   "cell_type": "code",
   "execution_count": 19,
   "id": "61ed1822-7416-4b22-b74d-0131ce7594dd",
   "metadata": {},
   "outputs": [
    {
     "data": {
      "text/latex": [
       "$\\displaystyle \\left[\\begin{matrix}- 4 w_{2, 2} + w_{2, 3} + w_{3, 2} + 0.00186717265392681 & w_{2, 2} - 4 w_{2, 3} + w_{2, 4} + w_{3, 3} + 0.00284667306254416 & w_{2, 3} - 4 w_{2, 4} + w_{2, 5} + w_{3, 4} + 0.00327520449131424 & w_{2, 4} - 4 w_{2, 5} + w_{2, 6} + w_{3, 5} + 0.00327520449131424 & w_{2, 5} - 4 w_{2, 6} + w_{2, 7} + w_{3, 6} + 0.00284667306254416 & w_{2, 6} - 4 w_{2, 7} + w_{3, 7} + 0.00186717265392681\\\\w_{2, 2} - 4 w_{3, 2} + w_{3, 3} + w_{4, 2} + 0.00284667306254416 & w_{2, 3} + w_{3, 2} - 4 w_{3, 3} + w_{3, 4} + w_{4, 3} + 0.00446897061431663 & w_{2, 4} + w_{3, 3} - 4 w_{3, 4} + w_{3, 5} + w_{4, 4} + 0.00520359592077964 & w_{2, 5} + w_{3, 4} - 4 w_{3, 5} + w_{3, 6} + w_{4, 5} + 0.00520359592077964 & w_{2, 6} + w_{3, 5} - 4 w_{3, 6} + w_{3, 7} + w_{4, 6} + 0.00446897061431663 & w_{2, 7} + w_{3, 6} - 4 w_{3, 7} + w_{4, 7} + 0.00284667306254416\\\\w_{3, 2} - 4 w_{4, 2} + w_{4, 3} + w_{5, 2} + 0.00327520449131424 & w_{3, 3} + w_{4, 2} - 4 w_{4, 3} + w_{4, 4} + w_{5, 3} + 0.00520359592077964 & w_{3, 4} + w_{4, 3} - 4 w_{4, 4} + w_{4, 5} + w_{5, 4} + 0.00609126816608911 & w_{3, 5} + w_{4, 4} - 4 w_{4, 5} + w_{4, 6} + w_{5, 5} + 0.00609126816608911 & w_{3, 6} + w_{4, 5} - 4 w_{4, 6} + w_{4, 7} + w_{5, 6} + 0.00520359592077964 & w_{3, 7} + w_{4, 6} - 4 w_{4, 7} + w_{5, 7} + 0.00327520449131424\\\\w_{4, 2} - 4 w_{5, 2} + w_{5, 3} + w_{6, 2} + 0.00327520449131424 & w_{4, 3} + w_{5, 2} - 4 w_{5, 3} + w_{5, 4} + w_{6, 3} + 0.00520359592077964 & w_{4, 4} + w_{5, 3} - 4 w_{5, 4} + w_{5, 5} + w_{6, 4} + 0.00609126816608911 & w_{4, 5} + w_{5, 4} - 4 w_{5, 5} + w_{5, 6} + w_{6, 5} + 0.00609126816608911 & w_{4, 6} + w_{5, 5} - 4 w_{5, 6} + w_{5, 7} + w_{6, 6} + 0.00520359592077964 & w_{4, 7} + w_{5, 6} - 4 w_{5, 7} + w_{6, 7} + 0.00327520449131424\\\\w_{5, 2} - 4 w_{6, 2} + w_{6, 3} + w_{7, 2} + 0.00284667306254416 & w_{5, 3} + w_{6, 2} - 4 w_{6, 3} + w_{6, 4} + w_{7, 3} + 0.00446897061431663 & w_{5, 4} + w_{6, 3} - 4 w_{6, 4} + w_{6, 5} + w_{7, 4} + 0.00520359592077964 & w_{5, 5} + w_{6, 4} - 4 w_{6, 5} + w_{6, 6} + w_{7, 5} + 0.00520359592077964 & w_{5, 6} + w_{6, 5} - 4 w_{6, 6} + w_{6, 7} + w_{7, 6} + 0.00446897061431663 & w_{5, 7} + w_{6, 6} - 4 w_{6, 7} + w_{7, 7} + 0.00284667306254416\\\\w_{6, 2} - 4 w_{7, 2} + w_{7, 3} + 0.00186717265392681 & w_{6, 3} + w_{7, 2} - 4 w_{7, 3} + w_{7, 4} + 0.00284667306254416 & w_{6, 4} + w_{7, 3} - 4 w_{7, 4} + w_{7, 5} + 0.00327520449131424 & w_{6, 5} + w_{7, 4} - 4 w_{7, 5} + w_{7, 6} + 0.00327520449131424 & w_{6, 6} + w_{7, 5} - 4 w_{7, 6} + w_{7, 7} + 0.00284667306254416 & w_{6, 7} + w_{7, 6} - 4 w_{7, 7} + 0.00186717265392681\\end{matrix}\\right]$"
      ],
      "text/plain": [
       "Matrix([\n",
       "[         -4*w[2, 2] + w[2, 3] + w[3, 2] + 0.00186717265392681,           w[2, 2] - 4*w[2, 3] + w[2, 4] + w[3, 3] + 0.00284667306254416,           w[2, 3] - 4*w[2, 4] + w[2, 5] + w[3, 4] + 0.00327520449131424,           w[2, 4] - 4*w[2, 5] + w[2, 6] + w[3, 5] + 0.00327520449131424,           w[2, 5] - 4*w[2, 6] + w[2, 7] + w[3, 6] + 0.00284667306254416,           w[2, 6] - 4*w[2, 7] + w[3, 7] + 0.00186717265392681],\n",
       "[w[2, 2] - 4*w[3, 2] + w[3, 3] + w[4, 2] + 0.00284667306254416, w[2, 3] + w[3, 2] - 4*w[3, 3] + w[3, 4] + w[4, 3] + 0.00446897061431663, w[2, 4] + w[3, 3] - 4*w[3, 4] + w[3, 5] + w[4, 4] + 0.00520359592077964, w[2, 5] + w[3, 4] - 4*w[3, 5] + w[3, 6] + w[4, 5] + 0.00520359592077964, w[2, 6] + w[3, 5] - 4*w[3, 6] + w[3, 7] + w[4, 6] + 0.00446897061431663, w[2, 7] + w[3, 6] - 4*w[3, 7] + w[4, 7] + 0.00284667306254416],\n",
       "[w[3, 2] - 4*w[4, 2] + w[4, 3] + w[5, 2] + 0.00327520449131424, w[3, 3] + w[4, 2] - 4*w[4, 3] + w[4, 4] + w[5, 3] + 0.00520359592077964, w[3, 4] + w[4, 3] - 4*w[4, 4] + w[4, 5] + w[5, 4] + 0.00609126816608911, w[3, 5] + w[4, 4] - 4*w[4, 5] + w[4, 6] + w[5, 5] + 0.00609126816608911, w[3, 6] + w[4, 5] - 4*w[4, 6] + w[4, 7] + w[5, 6] + 0.00520359592077964, w[3, 7] + w[4, 6] - 4*w[4, 7] + w[5, 7] + 0.00327520449131424],\n",
       "[w[4, 2] - 4*w[5, 2] + w[5, 3] + w[6, 2] + 0.00327520449131424, w[4, 3] + w[5, 2] - 4*w[5, 3] + w[5, 4] + w[6, 3] + 0.00520359592077964, w[4, 4] + w[5, 3] - 4*w[5, 4] + w[5, 5] + w[6, 4] + 0.00609126816608911, w[4, 5] + w[5, 4] - 4*w[5, 5] + w[5, 6] + w[6, 5] + 0.00609126816608911, w[4, 6] + w[5, 5] - 4*w[5, 6] + w[5, 7] + w[6, 6] + 0.00520359592077964, w[4, 7] + w[5, 6] - 4*w[5, 7] + w[6, 7] + 0.00327520449131424],\n",
       "[w[5, 2] - 4*w[6, 2] + w[6, 3] + w[7, 2] + 0.00284667306254416, w[5, 3] + w[6, 2] - 4*w[6, 3] + w[6, 4] + w[7, 3] + 0.00446897061431663, w[5, 4] + w[6, 3] - 4*w[6, 4] + w[6, 5] + w[7, 4] + 0.00520359592077964, w[5, 5] + w[6, 4] - 4*w[6, 5] + w[6, 6] + w[7, 5] + 0.00520359592077964, w[5, 6] + w[6, 5] - 4*w[6, 6] + w[6, 7] + w[7, 6] + 0.00446897061431663, w[5, 7] + w[6, 6] - 4*w[6, 7] + w[7, 7] + 0.00284667306254416],\n",
       "[          w[6, 2] - 4*w[7, 2] + w[7, 3] + 0.00186717265392681,           w[6, 3] + w[7, 2] - 4*w[7, 3] + w[7, 4] + 0.00284667306254416,           w[6, 4] + w[7, 3] - 4*w[7, 4] + w[7, 5] + 0.00327520449131424,           w[6, 5] + w[7, 4] - 4*w[7, 5] + w[7, 6] + 0.00327520449131424,           w[6, 6] + w[7, 5] - 4*w[7, 6] + w[7, 7] + 0.00284667306254416,           w[6, 7] + w[7, 6] - 4*w[7, 7] + 0.00186717265392681]])"
      ]
     },
     "execution_count": 19,
     "metadata": {},
     "output_type": "execute_result"
    }
   ],
   "source": [
    "A2.row_del(0)\n",
    "A2.row_del(0)\n",
    "A2.row_del(-1)\n",
    "A2.row_del(-1)\n",
    "A2.col_del(0)\n",
    "A2.col_del(0)\n",
    "A2.col_del(-1)\n",
    "A2.col_del(-1)\n",
    "A2"
   ]
  },
  {
   "cell_type": "code",
   "execution_count": 20,
   "id": "8e845dcf-fde5-4ebf-be09-97860037adf5",
   "metadata": {},
   "outputs": [],
   "source": [
    "Eq1=A2.reshape(1,(n-4)**2)\n",
    "sols=smp.solve(Eq1,B)\n"
   ]
  },
  {
   "cell_type": "code",
   "execution_count": 21,
   "id": "7451fc3d-22ec-4a20-a511-3248464ede53",
   "metadata": {},
   "outputs": [],
   "source": [
    "sols.values()\n",
    "vals = np.fromiter(sols.values(), dtype=float)\n",
    "np.set_printoptions(threshold=np.inf, linewidth=200)\n"
   ]
  },
  {
   "cell_type": "code",
   "execution_count": 22,
   "id": "f562b2c2-db61-4cdf-b820-f9a2487a4cb0",
   "metadata": {},
   "outputs": [],
   "source": [
    "W=np.zeros((n,n))\n",
    "for i in range(2,n-2):\n",
    "    for j in range(2,n-2):\n",
    "        W[i][j]=vals[(n-4)*(i-2)+(j-2)]\n",
    "\n",
    "np.set_printoptions(threshold=np.inf, linewidth=200)\n",
    "\n"
   ]
  },
  {
   "cell_type": "code",
   "execution_count": 23,
   "id": "c3deb875-f03a-45ef-aa44-dca019e1ce38",
   "metadata": {},
   "outputs": [
    {
     "data": {
      "text/plain": [
       "<matplotlib.colorbar.Colorbar at 0x29d0b21d250>"
      ]
     },
     "execution_count": 23,
     "metadata": {},
     "output_type": "execute_result"
    },
    {
     "data": {
      "image/png": "[encoded data removed]",
      "text/plain": [
       "<Figure size 432x288 with 2 Axes>"
      ]
     },
     "metadata": {
      "needs_background": "light"
     },
     "output_type": "display_data"
    }
   ],
   "source": [
    "plt.contourf(xv,yv,W)\n",
    "plt.xlim(right=20-dx)\n",
    "plt.xlim(left=dx)\n",
    "plt.ylim(dx,20-dx)\n",
    "plt.colorbar()"
   ]
  },
  {
   "cell_type": "code",
   "execution_count": null,
   "id": "b54b558b-19d7-4db9-ad5c-ac0bfdce3730",
   "metadata": {},
   "outputs": [],
   "source": []
  }
 ],
 "metadata": {
  "kernelspec": {
   "display_name": "Python 3 (ipykernel)",
   "language": "python",
   "name": "python3"
  },
  "language_info": {
   "codemirror_mode": {
    "name": "ipython",
    "version": 3
   },
   "file_extension": ".py",
   "mimetype": "text/x-python",
   "name": "python",
   "nbconvert_exporter": "python",
   "pygments_lexer": "ipython3",
   "version": "3.9.12"
  }
 },
 "nbformat": 4,
 "nbformat_minor": 5
}
