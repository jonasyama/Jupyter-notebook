{
 "cells": [
  {
   "cell_type": "code",
   "execution_count": 1,
   "id": "60aae0b4-bd59-4a5c-a4ab-64f924456623",
   "metadata": {},
   "outputs": [],
   "source": [
    "import numpy as np \n",
    "import matplotlib.pyplot as plt\n",
    "import sympy as smp\n",
    "import fourierdouble as fd"
   ]
  },
  {
   "cell_type": "code",
   "execution_count": 2,
   "id": "7dd98dcb-5a64-40ab-b10f-c76b624d362a",
   "metadata": {},
   "outputs": [
    {
     "data": {
      "text/latex": [
       "$\\displaystyle \\left[\\begin{matrix}0 & 0 & 0\\\\0 & 0 & 0\\\\0 & 0 & 0\\end{matrix}\\right]$"
      ],
      "text/plain": [
       "Matrix([\n",
       "[0, 0, 0],\n",
       "[0, 0, 0],\n",
       "[0, 0, 0]])"
      ]
     },
     "execution_count": 2,
     "metadata": {},
     "output_type": "execute_result"
    }
   ],
   "source": [
    "A=smp.Matrix(np.zeros((3,3)))\n",
    "A"
   ]
  },
  {
   "cell_type": "code",
   "execution_count": 33,
   "id": "ba388b91-ae15-4e51-a7fa-9962a3c929dd",
   "metadata": {},
   "outputs": [
    {
     "data": {
      "text/latex": [
       "$\\displaystyle \\left[\\begin{matrix}e^{t} & t e^{t} & t^{2} e^{t}\\\\e^{t} & t e^{t} + e^{t} & t^{2} e^{t} + 2 t e^{t}\\\\e^{t} & t e^{t} + 2 e^{t} & t^{2} e^{t} + 4 t e^{t} + 2 e^{t}\\end{matrix}\\right]$"
      ],
      "text/plain": [
       "Matrix([\n",
       "[exp(t),            t*exp(t),                         t**2*exp(t)],\n",
       "[exp(t),   t*exp(t) + exp(t),            t**2*exp(t) + 2*t*exp(t)],\n",
       "[exp(t), t*exp(t) + 2*exp(t), t**2*exp(t) + 4*t*exp(t) + 2*exp(t)]])"
      ]
     },
     "execution_count": 33,
     "metadata": {},
     "output_type": "execute_result"
    }
   ],
   "source": [
    "x,t,c1,c2,c3,n =smp.symbols('x t c_1 c_2 c_3 n')\n",
    "\n",
    "A1=smp.exp(t)\n",
    "A[0]=A1\n",
    "A[1]=t*smp.exp(t)\n",
    "A[2]=t**2*smp.exp(t)\n",
    "A[3]=smp.diff(A1,t)\n",
    "A[4]=smp.diff(t*smp.exp(t),t)\n",
    "A[5]=smp.diff(t**2*smp.exp(t),t)\n",
    "A[6]=smp.diff(A[3],t)\n",
    "A[7]=smp.diff(A[4],t)\n",
    "A[8]=smp.diff(A[5],t)\n",
    "A"
   ]
  },
  {
   "cell_type": "code",
   "execution_count": 4,
   "id": "3af14e45-2c25-446c-a1bb-2fbb6860456e",
   "metadata": {},
   "outputs": [
    {
     "data": {
      "text/latex": [
       "$\\displaystyle 2 e^{3 t}$"
      ],
      "text/plain": [
       "2*exp(3*t)"
      ]
     },
     "execution_count": 4,
     "metadata": {},
     "output_type": "execute_result"
    }
   ],
   "source": [
    "smp.det(A)"
   ]
  },
  {
   "cell_type": "code",
   "execution_count": 5,
   "id": "bfe427cc-5480-43ab-b597-632107f638da",
   "metadata": {},
   "outputs": [],
   "source": [
    "AA=smp.Matrix(np.zeros((3,3)))"
   ]
  },
  {
   "cell_type": "code",
   "execution_count": 6,
   "id": "56677bd7-8330-4ade-aa96-81f27fe8ce5a",
   "metadata": {},
   "outputs": [
    {
     "data": {
      "text/latex": [
       "$\\displaystyle \\left[\\begin{matrix}e^{t} & e^{- t} & \\cosh{\\left(t \\right)}\\\\e^{t} & - e^{- t} & \\sinh{\\left(t \\right)}\\\\e^{t} & e^{- t} & \\cosh{\\left(t \\right)}\\end{matrix}\\right]$"
      ],
      "text/plain": [
       "Matrix([\n",
       "[exp(t),  exp(-t), cosh(t)],\n",
       "[exp(t), -exp(-t), sinh(t)],\n",
       "[exp(t),  exp(-t), cosh(t)]])"
      ]
     },
     "execution_count": 6,
     "metadata": {},
     "output_type": "execute_result"
    }
   ],
   "source": [
    "A1=smp.exp(t)\n",
    "A2=smp.exp(-t)\n",
    "A3=smp.cosh(t)\n",
    "AA[0]=A1\n",
    "AA[1]=A2\n",
    "AA[2]=A3\n",
    "AA[3]=smp.diff(A1,t)\n",
    "AA[4]=smp.diff(A2,t)\n",
    "AA[5]=smp.diff(A3,t)\n",
    "AA[6]=smp.diff(AA[3],t)\n",
    "AA[7]=smp.diff(AA[4],t)\n",
    "AA[8]=smp.diff(AA[5],t)\n",
    "AA"
   ]
  },
  {
   "cell_type": "code",
   "execution_count": 7,
   "id": "9e1a9d65-864c-463b-a14a-a318bc8f5637",
   "metadata": {},
   "outputs": [
    {
     "data": {
      "text/latex": [
       "$\\displaystyle 0$"
      ],
      "text/plain": [
       "0"
      ]
     },
     "execution_count": 7,
     "metadata": {},
     "output_type": "execute_result"
    }
   ],
   "source": [
    "smp.det(AA)"
   ]
  },
  {
   "cell_type": "code",
   "execution_count": 8,
   "id": "f92935fb-fca6-4569-90fd-aa5694f23b83",
   "metadata": {},
   "outputs": [
    {
     "data": {
      "text/latex": [
       "$\\displaystyle \\left(c_{1} \\cos{\\left(t \\right)} + c_{2} \\sin{\\left(t \\right)}\\right) e^{- 0.166666666666667 t}$"
      ],
      "text/plain": [
       "(c_1*cos(t) + c_2*sin(t))*exp(-0.166666666666667*t)"
      ]
     },
     "execution_count": 8,
     "metadata": {},
     "output_type": "execute_result"
    }
   ],
   "source": [
    "eq=smp.exp(-1/6*t)*(c1*smp.cos(t)+c2*smp.sin(t))\n",
    "eq"
   ]
  },
  {
   "cell_type": "code",
   "execution_count": 9,
   "id": "b7414d77-2b02-4a14-ab61-f9337c44862f",
   "metadata": {},
   "outputs": [
    {
     "data": {
      "text/latex": [
       "$\\displaystyle \\left(- c_{1} \\sin{\\left(t \\right)} + c_{2} \\cos{\\left(t \\right)}\\right) e^{- 0.166666666666667 t} - 0.166666666666667 \\left(c_{1} \\cos{\\left(t \\right)} + c_{2} \\sin{\\left(t \\right)}\\right) e^{- 0.166666666666667 t}$"
      ],
      "text/plain": [
       "(-c_1*sin(t) + c_2*cos(t))*exp(-0.166666666666667*t) - 0.166666666666667*(c_1*cos(t) + c_2*sin(t))*exp(-0.166666666666667*t)"
      ]
     },
     "execution_count": 9,
     "metadata": {},
     "output_type": "execute_result"
    }
   ],
   "source": [
    "eq1=smp.diff(eq,t)\n",
    "eq1"
   ]
  },
  {
   "cell_type": "code",
   "execution_count": 10,
   "id": "945db056-4fb4-4d04-a132-67c14341d28d",
   "metadata": {},
   "outputs": [
    {
     "data": {
      "text/latex": [
       "$\\displaystyle - 0.166666666666667 c_{1} + c_{2}$"
      ],
      "text/plain": [
       "-0.166666666666667*c_1 + c_2"
      ]
     },
     "execution_count": 10,
     "metadata": {},
     "output_type": "execute_result"
    }
   ],
   "source": [
    "eq1.subs([(t,0) ])"
   ]
  },
  {
   "cell_type": "code",
   "execution_count": 11,
   "id": "bf794bef-9032-486a-b636-3502d0fc2685",
   "metadata": {},
   "outputs": [
    {
     "data": {
      "text/latex": [
       "$\\displaystyle 2 x y^{2}{\\left(x \\right)}$"
      ],
      "text/plain": [
       "2*x*y(x)**2"
      ]
     },
     "execution_count": 11,
     "metadata": {},
     "output_type": "execute_result"
    }
   ],
   "source": [
    "y = smp.Function('y')(x)\n",
    "u=2*x*y**2\n",
    "u"
   ]
  },
  {
   "cell_type": "code",
   "execution_count": 12,
   "id": "d275aff7-da68-459c-8a9e-2106dd0ee072",
   "metadata": {},
   "outputs": [
    {
     "data": {
      "text/latex": [
       "$\\displaystyle 4 x y{\\left(x \\right)} \\frac{d}{d x} y{\\left(x \\right)} + 2 y^{2}{\\left(x \\right)}$"
      ],
      "text/plain": [
       "4*x*y(x)*Derivative(y(x), x) + 2*y(x)**2"
      ]
     },
     "execution_count": 12,
     "metadata": {},
     "output_type": "execute_result"
    }
   ],
   "source": [
    "smp.diff(u,x)"
   ]
  },
  {
   "cell_type": "code",
   "execution_count": 13,
   "id": "d117489e-b2ba-40c2-a97d-0489c0e09025",
   "metadata": {},
   "outputs": [
    {
     "data": {
      "text/latex": [
       "$\\displaystyle x \\left(c_{1} \\cos{\\left(2 x \\right)} + c_{2} \\sin{\\left(2 x \\right)}\\right) e^{- x}$"
      ],
      "text/plain": [
       "x*(c_1*cos(2*x) + c_2*sin(2*x))*exp(-x)"
      ]
     },
     "execution_count": 13,
     "metadata": {},
     "output_type": "execute_result"
    }
   ],
   "source": [
    "y=x*smp.exp(-x)*(c1*smp.cos(2*x)+c2*smp.sin(2*x))\n",
    "y"
   ]
  },
  {
   "cell_type": "code",
   "execution_count": 14,
   "id": "df25a8df-a71c-42b2-a228-2a677e623df5",
   "metadata": {},
   "outputs": [],
   "source": [
    "y1=smp.diff(y,x)\n",
    "y2=smp.diff(y1,x)\n",
    "y3=smp.diff(y2,x)"
   ]
  },
  {
   "cell_type": "code",
   "execution_count": 15,
   "id": "68a9874d-8152-486d-85f2-49559b5d1454",
   "metadata": {},
   "outputs": [
    {
     "data": {
      "text/latex": [
       "$\\displaystyle - \\left(2 c_{1} x \\sin{\\left(2 x \\right)} + c_{1} x \\cos{\\left(2 x \\right)} - c_{1} \\cos{\\left(2 x \\right)} + c_{2} x \\sin{\\left(2 x \\right)} - 2 c_{2} x \\cos{\\left(2 x \\right)} - c_{2} \\sin{\\left(2 x \\right)}\\right) e^{- x}$"
      ],
      "text/plain": [
       "-(2*c_1*x*sin(2*x) + c_1*x*cos(2*x) - c_1*cos(2*x) + c_2*x*sin(2*x) - 2*c_2*x*cos(2*x) - c_2*sin(2*x))*exp(-x)"
      ]
     },
     "execution_count": 15,
     "metadata": {},
     "output_type": "execute_result"
    }
   ],
   "source": [
    "y1.factor()"
   ]
  },
  {
   "cell_type": "code",
   "execution_count": 16,
   "id": "1c1eae61-623a-4498-abf9-894e1a2be9eb",
   "metadata": {},
   "outputs": [
    {
     "data": {
      "text/latex": [
       "$\\displaystyle - \\left(- 4 c_{1} x \\sin{\\left(2 x \\right)} + 3 c_{1} x \\cos{\\left(2 x \\right)} + 4 c_{1} \\sin{\\left(2 x \\right)} + 2 c_{1} \\cos{\\left(2 x \\right)} + 3 c_{2} x \\sin{\\left(2 x \\right)} + 4 c_{2} x \\cos{\\left(2 x \\right)} + 2 c_{2} \\sin{\\left(2 x \\right)} - 4 c_{2} \\cos{\\left(2 x \\right)}\\right) e^{- x}$"
      ],
      "text/plain": [
       "-(-4*c_1*x*sin(2*x) + 3*c_1*x*cos(2*x) + 4*c_1*sin(2*x) + 2*c_1*cos(2*x) + 3*c_2*x*sin(2*x) + 4*c_2*x*cos(2*x) + 2*c_2*sin(2*x) - 4*c_2*cos(2*x))*exp(-x)"
      ]
     },
     "execution_count": 16,
     "metadata": {},
     "output_type": "execute_result"
    }
   ],
   "source": [
    "y2.factor()"
   ]
  },
  {
   "cell_type": "code",
   "execution_count": 17,
   "id": "266da840-ddd7-4aaa-8b93-3bb2058c0e6a",
   "metadata": {},
   "outputs": [
    {
     "data": {
      "text/latex": [
       "$\\displaystyle \\left(2 c_{1} x \\sin{\\left(2 x \\right)} + 11 c_{1} x \\cos{\\left(2 x \\right)} + 12 c_{1} \\sin{\\left(2 x \\right)} - 9 c_{1} \\cos{\\left(2 x \\right)} + 11 c_{2} x \\sin{\\left(2 x \\right)} - 2 c_{2} x \\cos{\\left(2 x \\right)} - 9 c_{2} \\sin{\\left(2 x \\right)} - 12 c_{2} \\cos{\\left(2 x \\right)}\\right) e^{- x}$"
      ],
      "text/plain": [
       "(2*c_1*x*sin(2*x) + 11*c_1*x*cos(2*x) + 12*c_1*sin(2*x) - 9*c_1*cos(2*x) + 11*c_2*x*sin(2*x) - 2*c_2*x*cos(2*x) - 9*c_2*sin(2*x) - 12*c_2*cos(2*x))*exp(-x)"
      ]
     },
     "execution_count": 17,
     "metadata": {},
     "output_type": "execute_result"
    }
   ],
   "source": [
    "y3.factor()"
   ]
  },
  {
   "cell_type": "code",
   "execution_count": 18,
   "id": "d91cfde7-49a7-4b63-ab31-888a972fefd6",
   "metadata": {},
   "outputs": [],
   "source": [
    "yp=y3+y2+3*y1-5*y"
   ]
  },
  {
   "cell_type": "code",
   "execution_count": 19,
   "id": "5e86fad0-0e55-4e84-81e0-41b4c070d37f",
   "metadata": {},
   "outputs": [
    {
     "data": {
      "text/latex": [
       "$\\displaystyle - 8 \\left(- c_{1} \\sin{\\left(2 x \\right)} + c_{1} \\cos{\\left(2 x \\right)} + c_{2} \\sin{\\left(2 x \\right)} + c_{2} \\cos{\\left(2 x \\right)}\\right) e^{- x}$"
      ],
      "text/plain": [
       "-8*(-c_1*sin(2*x) + c_1*cos(2*x) + c_2*sin(2*x) + c_2*cos(2*x))*exp(-x)"
      ]
     },
     "execution_count": 19,
     "metadata": {},
     "output_type": "execute_result"
    }
   ],
   "source": [
    "yp.factor()"
   ]
  },
  {
   "cell_type": "code",
   "execution_count": 20,
   "id": "8f1b9461-504a-4ce2-becc-f1f1b71b3ff7",
   "metadata": {},
   "outputs": [
    {
     "data": {
      "text/latex": [
       "$\\displaystyle c_{1} e^{- x} + c_{2} e^{- x} \\cos{\\left(2 x \\right)} + c_{3} e^{- x} \\sin{\\left(2 x \\right)} + x \\left(- 0.3125 \\sin{\\left(2 x \\right)} + 0.0625 \\cos{\\left(2 x \\right)}\\right) e^{- x}$"
      ],
      "text/plain": [
       "c_1*exp(-x) + c_2*exp(-x)*cos(2*x) + c_3*exp(-x)*sin(2*x) + x*(-0.3125*sin(2*x) + 0.0625*cos(2*x))*exp(-x)"
      ]
     },
     "execution_count": 20,
     "metadata": {},
     "output_type": "execute_result"
    }
   ],
   "source": [
    "Y=c1*smp.exp(-x)+c2*smp.exp(-x)*smp.cos(2*x)+c3*smp.exp(-x)*smp.sin(2*x)+x*smp.exp(-x)*(1/16*smp.cos(2*x)-5/16*smp.sin(2*x))\n",
    "Y"
   ]
  },
  {
   "cell_type": "code",
   "execution_count": 21,
   "id": "42439be4-03d8-4ddd-ae1f-aeadd41a82f4",
   "metadata": {},
   "outputs": [],
   "source": [
    "y1=smp.diff(Y,x)\n",
    "y2=smp.diff(y1,x)\n",
    "y3=smp.diff(y2,x)"
   ]
  },
  {
   "cell_type": "code",
   "execution_count": 22,
   "id": "ff046f08-4c1e-4b34-92a4-e794a3ebf44a",
   "metadata": {},
   "outputs": [
    {
     "data": {
      "text/latex": [
       "$\\displaystyle - c_{1} e^{- x} - 2 c_{2} e^{- x} \\sin{\\left(2 x \\right)} - c_{2} e^{- x} \\cos{\\left(2 x \\right)} - c_{3} e^{- x} \\sin{\\left(2 x \\right)} + 2 c_{3} e^{- x} \\cos{\\left(2 x \\right)} - x \\left(- 0.3125 \\sin{\\left(2 x \\right)} + 0.0625 \\cos{\\left(2 x \\right)}\\right) e^{- x} + x \\left(- 0.125 \\sin{\\left(2 x \\right)} - 0.625 \\cos{\\left(2 x \\right)}\\right) e^{- x} + \\left(- 0.3125 \\sin{\\left(2 x \\right)} + 0.0625 \\cos{\\left(2 x \\right)}\\right) e^{- x}$"
      ],
      "text/plain": [
       "-c_1*exp(-x) - 2*c_2*exp(-x)*sin(2*x) - c_2*exp(-x)*cos(2*x) - c_3*exp(-x)*sin(2*x) + 2*c_3*exp(-x)*cos(2*x) - x*(-0.3125*sin(2*x) + 0.0625*cos(2*x))*exp(-x) + x*(-0.125*sin(2*x) - 0.625*cos(2*x))*exp(-x) + (-0.3125*sin(2*x) + 0.0625*cos(2*x))*exp(-x)"
      ]
     },
     "execution_count": 22,
     "metadata": {},
     "output_type": "execute_result"
    }
   ],
   "source": [
    "y1"
   ]
  },
  {
   "cell_type": "code",
   "execution_count": 23,
   "id": "67bfde41-d392-4a20-b359-0906cc29af55",
   "metadata": {},
   "outputs": [
    {
     "data": {
      "text/latex": [
       "$\\displaystyle c_{1} e^{- x} + 4 c_{2} e^{- x} \\sin{\\left(2 x \\right)} - 3 c_{2} e^{- x} \\cos{\\left(2 x \\right)} - 3 c_{3} e^{- x} \\sin{\\left(2 x \\right)} - 4 c_{3} e^{- x} \\cos{\\left(2 x \\right)} + x \\left(- 0.3125 \\sin{\\left(2 x \\right)} + 0.0625 \\cos{\\left(2 x \\right)}\\right) e^{- x} - 2 x \\left(- 0.125 \\sin{\\left(2 x \\right)} - 0.625 \\cos{\\left(2 x \\right)}\\right) e^{- x} + x \\left(1.25 \\sin{\\left(2 x \\right)} - 0.25 \\cos{\\left(2 x \\right)}\\right) e^{- x} - \\left(- 0.3125 \\sin{\\left(2 x \\right)} + 0.0625 \\cos{\\left(2 x \\right)}\\right) e^{- x} + 2 \\left(- 0.125 \\sin{\\left(2 x \\right)} - 0.625 \\cos{\\left(2 x \\right)}\\right) e^{- x} + \\left(0.3125 \\sin{\\left(2 x \\right)} - 0.0625 \\cos{\\left(2 x \\right)}\\right) e^{- x}$"
      ],
      "text/plain": [
       "c_1*exp(-x) + 4*c_2*exp(-x)*sin(2*x) - 3*c_2*exp(-x)*cos(2*x) - 3*c_3*exp(-x)*sin(2*x) - 4*c_3*exp(-x)*cos(2*x) + x*(-0.3125*sin(2*x) + 0.0625*cos(2*x))*exp(-x) - 2*x*(-0.125*sin(2*x) - 0.625*cos(2*x))*exp(-x) + x*(1.25*sin(2*x) - 0.25*cos(2*x))*exp(-x) - (-0.3125*sin(2*x) + 0.0625*cos(2*x))*exp(-x) + 2*(-0.125*sin(2*x) - 0.625*cos(2*x))*exp(-x) + (0.3125*sin(2*x) - 0.0625*cos(2*x))*exp(-x)"
      ]
     },
     "execution_count": 23,
     "metadata": {},
     "output_type": "execute_result"
    }
   ],
   "source": [
    "y2"
   ]
  },
  {
   "cell_type": "code",
   "execution_count": 24,
   "id": "d675045d-6ba7-4661-b7dd-b3f2f9304baf",
   "metadata": {},
   "outputs": [
    {
     "data": {
      "text/latex": [
       "$\\displaystyle - c_{1} e^{- x} + 2 c_{2} e^{- x} \\sin{\\left(2 x \\right)} + 11 c_{2} e^{- x} \\cos{\\left(2 x \\right)} + 11 c_{3} e^{- x} \\sin{\\left(2 x \\right)} - 2 c_{3} e^{- x} \\cos{\\left(2 x \\right)} - x \\left(- 0.3125 \\sin{\\left(2 x \\right)} + 0.0625 \\cos{\\left(2 x \\right)}\\right) e^{- x} + 3 x \\left(- 0.125 \\sin{\\left(2 x \\right)} - 0.625 \\cos{\\left(2 x \\right)}\\right) e^{- x} + x \\left(0.5 \\sin{\\left(2 x \\right)} + 2.5 \\cos{\\left(2 x \\right)}\\right) e^{- x} - 3 x \\left(1.25 \\sin{\\left(2 x \\right)} - 0.25 \\cos{\\left(2 x \\right)}\\right) e^{- x} + \\left(- 0.3125 \\sin{\\left(2 x \\right)} + 0.0625 \\cos{\\left(2 x \\right)}\\right) e^{- x} - \\left(- 0.25 \\sin{\\left(2 x \\right)} - 1.25 \\cos{\\left(2 x \\right)}\\right) e^{- x} + 2 \\cdot \\left(0.125 \\sin{\\left(2 x \\right)} + 0.625 \\cos{\\left(2 x \\right)}\\right) e^{- x} + \\left(0.25 \\sin{\\left(2 x \\right)} + 1.25 \\cos{\\left(2 x \\right)}\\right) e^{- x} - 2 \\cdot \\left(0.3125 \\sin{\\left(2 x \\right)} - 0.0625 \\cos{\\left(2 x \\right)}\\right) e^{- x} + \\left(1.25 \\sin{\\left(2 x \\right)} - 0.25 \\cos{\\left(2 x \\right)}\\right) e^{- x} + \\left(2.5 \\sin{\\left(2 x \\right)} - 0.5 \\cos{\\left(2 x \\right)}\\right) e^{- x}$"
      ],
      "text/plain": [
       "-c_1*exp(-x) + 2*c_2*exp(-x)*sin(2*x) + 11*c_2*exp(-x)*cos(2*x) + 11*c_3*exp(-x)*sin(2*x) - 2*c_3*exp(-x)*cos(2*x) - x*(-0.3125*sin(2*x) + 0.0625*cos(2*x))*exp(-x) + 3*x*(-0.125*sin(2*x) - 0.625*cos(2*x))*exp(-x) + x*(0.5*sin(2*x) + 2.5*cos(2*x))*exp(-x) - 3*x*(1.25*sin(2*x) - 0.25*cos(2*x))*exp(-x) + (-0.3125*sin(2*x) + 0.0625*cos(2*x))*exp(-x) - (-0.25*sin(2*x) - 1.25*cos(2*x))*exp(-x) + 2*(0.125*sin(2*x) + 0.625*cos(2*x))*exp(-x) + (0.25*sin(2*x) + 1.25*cos(2*x))*exp(-x) - 2*(0.3125*sin(2*x) - 0.0625*cos(2*x))*exp(-x) + (1.25*sin(2*x) - 0.25*cos(2*x))*exp(-x) + (2.5*sin(2*x) - 0.5*cos(2*x))*exp(-x)"
      ]
     },
     "execution_count": 24,
     "metadata": {},
     "output_type": "execute_result"
    }
   ],
   "source": [
    "y3"
   ]
  },
  {
   "cell_type": "code",
   "execution_count": 25,
   "id": "6a405652-5bd7-4d25-b3ee-50c32e44b49c",
   "metadata": {},
   "outputs": [
    {
     "data": {
      "text/latex": [
       "$\\displaystyle c_{1} + c_{2}$"
      ],
      "text/plain": [
       "c_1 + c_2"
      ]
     },
     "execution_count": 25,
     "metadata": {},
     "output_type": "execute_result"
    }
   ],
   "source": [
    "y0=Y.subs(x,0)\n",
    "y0"
   ]
  },
  {
   "cell_type": "code",
   "execution_count": 26,
   "id": "767e4dce-61d0-4a8a-b7bf-c1cdc840fc58",
   "metadata": {},
   "outputs": [
    {
     "data": {
      "text/latex": [
       "$\\displaystyle - c_{1} - c_{2} + 2 c_{3} + 0.0625$"
      ],
      "text/plain": [
       "-c_1 - c_2 + 2*c_3 + 0.0625"
      ]
     },
     "execution_count": 26,
     "metadata": {},
     "output_type": "execute_result"
    }
   ],
   "source": [
    "y10=y1.subs(x,0)\n",
    "y10"
   ]
  },
  {
   "cell_type": "code",
   "execution_count": 27,
   "id": "36bd1bf2-3c9c-4db8-87dd-33359947d8f3",
   "metadata": {},
   "outputs": [
    {
     "data": {
      "text/latex": [
       "$\\displaystyle c_{1} - 3 c_{2} - 4 c_{3} - 1.375$"
      ],
      "text/plain": [
       "c_1 - 3*c_2 - 4*c_3 - 1.375"
      ]
     },
     "execution_count": 27,
     "metadata": {},
     "output_type": "execute_result"
    }
   ],
   "source": [
    "y20=y2.subs(x,0)\n",
    "y20"
   ]
  },
  {
   "cell_type": "code",
   "execution_count": 28,
   "id": "fd70dbc2-6171-47bf-b4c2-e7ce4def89c3",
   "metadata": {},
   "outputs": [
    {
     "data": {
      "text/plain": [
       "{c_1: 0.312500000000000, c_2: -0.312500000000000, c_3: -0.0312500000000000}"
      ]
     },
     "execution_count": 28,
     "metadata": {},
     "output_type": "execute_result"
    }
   ],
   "source": [
    "smp.solve([y0,y10,y20],[c1,c2,c3])"
   ]
  },
  {
   "cell_type": "code",
   "execution_count": null,
   "id": "97e3c952-2190-451e-ac84-1c602af43556",
   "metadata": {
    "jupyter": {
     "source_hidden": true
    },
    "tags": []
   },
   "outputs": [],
   "source": []
  },
  {
   "cell_type": "code",
   "execution_count": 29,
   "id": "676e526e-6c82-4469-9242-4a380c39f8cb",
   "metadata": {},
   "outputs": [
    {
     "data": {
      "text/latex": [
       "$\\displaystyle \\left[\\begin{matrix}0 & 0 & 0 & 0\\\\0 & 0 & 0 & 0\\\\0 & 0 & 0 & 0\\\\0 & 0 & 0 & 0\\end{matrix}\\right]$"
      ],
      "text/plain": [
       "Matrix([\n",
       "[0, 0, 0, 0],\n",
       "[0, 0, 0, 0],\n",
       "[0, 0, 0, 0],\n",
       "[0, 0, 0, 0]])"
      ]
     },
     "execution_count": 29,
     "metadata": {},
     "output_type": "execute_result"
    }
   ],
   "source": [
    "AA=smp.Matrix(np.zeros((4,4)))\n",
    "AA"
   ]
  },
  {
   "cell_type": "code",
   "execution_count": 30,
   "id": "7e8be21e-96e0-4cda-a288-9718ee7aa86e",
   "metadata": {},
   "outputs": [
    {
     "data": {
      "text/latex": [
       "$\\displaystyle \\left[\\begin{matrix}2 e^{2 x} - e^{x} & e^{2 x} + 1 & e^{2 x} - 3 & e^{x} + 1\\\\4 e^{2 x} - e^{x} & 2 e^{2 x} & 2 e^{2 x} & e^{x}\\\\8 e^{2 x} - e^{x} & 4 e^{2 x} & 4 e^{2 x} & e^{x}\\\\16 e^{2 x} - e^{x} & 8 e^{2 x} & 8 e^{2 x} & e^{x}\\end{matrix}\\right]$"
      ],
      "text/plain": [
       "Matrix([\n",
       "[ 2*exp(2*x) - exp(x), exp(2*x) + 1, exp(2*x) - 3, exp(x) + 1],\n",
       "[ 4*exp(2*x) - exp(x),   2*exp(2*x),   2*exp(2*x),     exp(x)],\n",
       "[ 8*exp(2*x) - exp(x),   4*exp(2*x),   4*exp(2*x),     exp(x)],\n",
       "[16*exp(2*x) - exp(x),   8*exp(2*x),   8*exp(2*x),     exp(x)]])"
      ]
     },
     "execution_count": 30,
     "metadata": {},
     "output_type": "execute_result"
    }
   ],
   "source": [
    "A1=2*smp.exp(2*x)-smp.exp(x)\n",
    "A2=smp.exp(2*x)+1\n",
    "A3=smp.exp(2*x)+-3\n",
    "A4=smp.exp(x)+1\n",
    "AA[0]=A1\n",
    "AA[1]=A2\n",
    "AA[2]=A3\n",
    "AA[3]=A4\n",
    "AA[4]=smp.diff(A1,x)\n",
    "AA[5]=smp.diff(A2,x)\n",
    "AA[6]=smp.diff(A3,x)\n",
    "AA[7]=smp.diff(A4,x)\n",
    "AA[8]=smp.diff(AA[4],x)\n",
    "AA[9]=smp.diff(AA[5],x)\n",
    "AA[10]=smp.diff(AA[6],x)\n",
    "AA[11]=smp.diff(AA[7],x)\n",
    "AA[12]=smp.diff(AA[8],x)\n",
    "AA[13]=smp.diff(AA[9],x)\n",
    "AA[14]=smp.diff(AA[10],x)\n",
    "AA[15]=smp.diff(AA[11],x)\n",
    "\n",
    "\n",
    "AA"
   ]
  },
  {
   "cell_type": "code",
   "execution_count": 31,
   "id": "5d278df5-02e3-41dd-8e40-efbb593e7f91",
   "metadata": {},
   "outputs": [
    {
     "data": {
      "text/latex": [
       "$\\displaystyle 0$"
      ],
      "text/plain": [
       "0"
      ]
     },
     "execution_count": 31,
     "metadata": {},
     "output_type": "execute_result"
    }
   ],
   "source": [
    "smp.det(AA)"
   ]
  },
  {
   "cell_type": "code",
   "execution_count": 35,
   "id": "43fe35d5-8a47-4115-9b47-38baaae96d91",
   "metadata": {},
   "outputs": [
    {
     "data": {
      "text/latex": [
       "$\\displaystyle \\begin{cases} \\frac{x^{2} \\cos{\\left(\\pi n x \\right)}}{\\pi n} - \\frac{x \\cos{\\left(\\pi n x \\right)}}{\\pi n} - \\frac{2 x \\sin{\\left(\\pi n x \\right)}}{\\pi^{2} n^{2}} + \\frac{\\sin{\\left(\\pi n x \\right)}}{\\pi^{2} n^{2}} - \\frac{2 \\cos{\\left(\\pi n x \\right)}}{\\pi^{3} n^{3}} & \\text{for}\\: n \\neq 0 \\\\0 & \\text{otherwise} \\end{cases}$"
      ],
      "text/plain": [
       "Piecewise((x**2*cos(pi*n*x)/(pi*n) - x*cos(pi*n*x)/(pi*n) - 2*x*sin(pi*n*x)/(pi**2*n**2) + sin(pi*n*x)/(pi**2*n**2) - 2*cos(pi*n*x)/(pi**3*n**3), Ne(n, 0)), (0, True))"
      ]
     },
     "execution_count": 35,
     "metadata": {},
     "output_type": "execute_result"
    }
   ],
   "source": [
    "smp.integrate((x-x**2)*smp.sin(n*smp.pi*x),x)"
   ]
  },
  {
   "cell_type": "code",
   "execution_count": null,
   "id": "623c8244-b706-44eb-9880-b7756a053c42",
   "metadata": {},
   "outputs": [],
   "source": []
  }
 ],
 "metadata": {
  "kernelspec": {
   "display_name": "Python 3 (ipykernel)",
   "language": "python",
   "name": "python3"
  },
  "language_info": {
   "codemirror_mode": {
    "name": "ipython",
    "version": 3
   },
   "file_extension": ".py",
   "mimetype": "text/x-python",
   "name": "python",
   "nbconvert_exporter": "python",
   "pygments_lexer": "ipython3",
   "version": "3.9.12"
  }
 },
 "nbformat": 4,
 "nbformat_minor": 5
}
