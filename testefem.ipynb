{
 "cells": [
  {
   "cell_type": "code",
   "execution_count": 1,
   "id": "54be65bd-53a2-48fd-9773-c025f3082f85",
   "metadata": {},
   "outputs": [],
   "source": [
    "import numpy as np\n",
    "import matplotlib.pyplot as plt"
   ]
  },
  {
   "cell_type": "code",
   "execution_count": 2,
   "id": "f4fc4c4d-747e-4f50-8cd6-fd0023b5981a",
   "metadata": {},
   "outputs": [],
   "source": [
    "x1=np.array([0,0])\n",
    "x2=np.array([2,0])\n",
    "x3=np.array([2,2])\n",
    "x4=np.array([0,2])\n",
    "\n",
    "X=np.stack((x1,x2,x3,x4))"
   ]
  },
  {
   "cell_type": "code",
   "execution_count": 3,
   "id": "a0e4e849-288f-4a8a-a858-12e1b70470f2",
   "metadata": {},
   "outputs": [
    {
     "data": {
      "text/plain": [
       "array([[0, 0],\n",
       "       [2, 0],\n",
       "       [2, 2],\n",
       "       [0, 2]])"
      ]
     },
     "execution_count": 3,
     "metadata": {},
     "output_type": "execute_result"
    }
   ],
   "source": [
    "X"
   ]
  },
  {
   "cell_type": "code",
   "execution_count": 4,
   "id": "1180c75b-817b-48e9-9295-b21d14abe266",
   "metadata": {},
   "outputs": [],
   "source": [
    "u=np.array([0.0,0.0,0.001,0.0,0.002,-0.001,-0.001,-0.001]).transpose()"
   ]
  },
  {
   "cell_type": "code",
   "execution_count": 5,
   "id": "5129daef-4b0a-48e2-a7a5-54505f0e2e95",
   "metadata": {},
   "outputs": [],
   "source": [
    "eta=np.array(0)\n",
    "ni=np.array(0)"
   ]
  },
  {
   "cell_type": "code",
   "execution_count": 6,
   "id": "1a08e4e7-62bc-4fc9-aa89-e0db8fa69a6d",
   "metadata": {},
   "outputs": [],
   "source": [
    "n1=1/4*(ni*eta-ni-eta+1)\n",
    "n2=1/4*(-ni*eta-ni+eta+1)\n",
    "n3=1/4*(ni*eta+ni+eta+1)\n",
    "n4=1/4*(-ni*eta+ni-eta+1)"
   ]
  },
  {
   "cell_type": "code",
   "execution_count": 7,
   "id": "27d7afb4-b3be-43a1-9f81-db68df0fd25c",
   "metadata": {},
   "outputs": [],
   "source": [
    "N=np.stack((n1,n2,n3,n4))"
   ]
  },
  {
   "cell_type": "code",
   "execution_count": 8,
   "id": "7282f429-7075-4bd4-8d09-8783a18441b1",
   "metadata": {},
   "outputs": [],
   "source": [
    "dN=np.array([(ni-1,eta-1),(1-ni,-1-eta),(ni+1,eta+1),(-1-ni,1-eta)])"
   ]
  },
  {
   "cell_type": "code",
   "execution_count": 9,
   "id": "aec79e88-c14d-4fa5-b293-5b91e9d68e9f",
   "metadata": {},
   "outputs": [],
   "source": [
    "J=X.transpose()@dN/4"
   ]
  },
  {
   "cell_type": "code",
   "execution_count": 10,
   "id": "851572dd-c59e-4ec2-a054-c15869370792",
   "metadata": {},
   "outputs": [
    {
     "data": {
      "text/plain": [
       "array([[1., 0.],\n",
       "       [0., 1.]])"
      ]
     },
     "execution_count": 10,
     "metadata": {},
     "output_type": "execute_result"
    }
   ],
   "source": [
    "J"
   ]
  },
  {
   "cell_type": "code",
   "execution_count": 11,
   "id": "7775526b-6ae9-4a0d-92f6-c03afc360eb4",
   "metadata": {},
   "outputs": [],
   "source": [
    "dnx=dN@J"
   ]
  },
  {
   "cell_type": "code",
   "execution_count": 12,
   "id": "be2fd947-741b-4053-ab0b-4d53f7e6f618",
   "metadata": {},
   "outputs": [
    {
     "data": {
      "text/plain": [
       "array([[-1., -1.],\n",
       "       [ 1., -1.],\n",
       "       [ 1.,  1.],\n",
       "       [-1.,  1.]])"
      ]
     },
     "execution_count": 12,
     "metadata": {},
     "output_type": "execute_result"
    }
   ],
   "source": [
    "dnx"
   ]
  },
  {
   "cell_type": "code",
   "execution_count": 13,
   "id": "50fa81c5-6425-4cbc-adbf-f47dbe7919ab",
   "metadata": {},
   "outputs": [],
   "source": [
    "B1=np.array([(dnx[(0,0)],0),(0,dnx[0,1]),(dnx[0,0],dnx[0,1])])\n",
    "B2=np.array([(dnx[(1,0)],0),(0,dnx[1,1]),(dnx[1,0],dnx[1,1])])\n",
    "B3=np.array([(dnx[(2,0)],0),(0,dnx[2,1]),(dnx[2,0],dnx[2,1])])\n",
    "B4=np.array([(dnx[(3,0)],0),(0,dnx[3,1]),(dnx[3,0],dnx[3,1])])"
   ]
  },
  {
   "cell_type": "code",
   "execution_count": 14,
   "id": "555e1566-7268-41f6-9792-586c7dc59ec9",
   "metadata": {},
   "outputs": [],
   "source": [
    "B=np.c_[B1,B2,B3,B4]"
   ]
  },
  {
   "cell_type": "code",
   "execution_count": 15,
   "id": "58aff4f0-53b9-4c25-9889-e8433ea5b91c",
   "metadata": {},
   "outputs": [
    {
     "data": {
      "text/plain": [
       "array([[-1.,  0.,  1.,  0.,  1.,  0., -1.,  0.],\n",
       "       [ 0., -1.,  0., -1.,  0.,  1.,  0.,  1.],\n",
       "       [-1., -1.,  1., -1.,  1.,  1., -1.,  1.]])"
      ]
     },
     "execution_count": 15,
     "metadata": {},
     "output_type": "execute_result"
    }
   ],
   "source": [
    "B"
   ]
  },
  {
   "cell_type": "code",
   "execution_count": 16,
   "id": "50e81dee-5fe1-4407-b7d9-10c8cf01957c",
   "metadata": {},
   "outputs": [],
   "source": [
    "E=20\n",
    "v=0.1\n",
    "D=E/((1+v)*(1-2*v))*np.array([(1-v,v,0),(v,1-v,0),(0,0,0.5-v)])"
   ]
  },
  {
   "cell_type": "code",
   "execution_count": 17,
   "id": "b1fd72aa-8ccd-4b7a-8f82-d9132cb1ca1e",
   "metadata": {},
   "outputs": [
    {
     "data": {
      "text/plain": [
       "array([[20.45454545,  2.27272727,  0.        ],\n",
       "       [ 2.27272727, 20.45454545,  0.        ],\n",
       "       [ 0.        ,  0.        ,  9.09090909]])"
      ]
     },
     "execution_count": 17,
     "metadata": {},
     "output_type": "execute_result"
    }
   ],
   "source": [
    "D"
   ]
  },
  {
   "cell_type": "code",
   "execution_count": 18,
   "id": "4f934fdf-1686-449e-b97e-cb0b55e27782",
   "metadata": {},
   "outputs": [],
   "source": [
    "k=B.transpose()@D@B\n"
   ]
  },
  {
   "cell_type": "code",
   "execution_count": 19,
   "id": "d27ff4ba-05cf-439a-8c68-bfdaac0183ae",
   "metadata": {},
   "outputs": [],
   "source": [
    "K=4*k\n"
   ]
  },
  {
   "cell_type": "code",
   "execution_count": 20,
   "id": "aa5bfc05-5962-46ed-9b31-ea0114c0d913",
   "metadata": {},
   "outputs": [],
   "source": [
    "F=K@u"
   ]
  },
  {
   "cell_type": "code",
   "execution_count": 21,
   "id": "153c1610-8860-4564-b0ba-f65a2683dacd",
   "metadata": {},
   "outputs": [
    {
     "data": {
      "text/plain": [
       "array([-0.38181818,  0.05454545,  0.38181818,  0.05454545,  0.38181818,\n",
       "       -0.05454545, -0.38181818, -0.05454545])"
      ]
     },
     "execution_count": 21,
     "metadata": {},
     "output_type": "execute_result"
    }
   ],
   "source": [
    "F"
   ]
  },
  {
   "cell_type": "code",
   "execution_count": 22,
   "id": "0fa33523-94c0-4608-af50-62a546d12231",
   "metadata": {},
   "outputs": [],
   "source": [
    "e=B@u"
   ]
  },
  {
   "cell_type": "code",
   "execution_count": 23,
   "id": "c242a863-e9e1-4ef3-9ba4-49683f41067b",
   "metadata": {},
   "outputs": [
    {
     "data": {
      "text/plain": [
       "array([ 0.004, -0.002,  0.002])"
      ]
     },
     "execution_count": 23,
     "metadata": {},
     "output_type": "execute_result"
    }
   ],
   "source": [
    "e"
   ]
  },
  {
   "cell_type": "code",
   "execution_count": 24,
   "id": "c9658537-22af-4bf7-94d9-f9fe7b327644",
   "metadata": {},
   "outputs": [
    {
     "data": {
      "text/plain": [
       "(3, 3)"
      ]
     },
     "execution_count": 24,
     "metadata": {},
     "output_type": "execute_result"
    }
   ],
   "source": [
    "D.shape"
   ]
  },
  {
   "cell_type": "code",
   "execution_count": 38,
   "id": "517a6c87-2f04-41ba-8aa4-9ba25f021a00",
   "metadata": {},
   "outputs": [],
   "source": [
    "tal=D@e.transpose()"
   ]
  },
  {
   "cell_type": "code",
   "execution_count": 39,
   "id": "b7f62d5b-5eac-4be9-a360-e7ef606187d2",
   "metadata": {},
   "outputs": [
    {
     "data": {
      "text/plain": [
       "array([ 0.07727273, -0.03181818,  0.01818182])"
      ]
     },
     "execution_count": 39,
     "metadata": {},
     "output_type": "execute_result"
    }
   ],
   "source": [
    "tal"
   ]
  },
  {
   "cell_type": "code",
   "execution_count": 40,
   "id": "d412471c-e123-4e07-a65a-26450b194f6b",
   "metadata": {},
   "outputs": [],
   "source": [
    "Fi=B.transpose()@tal*4"
   ]
  },
  {
   "cell_type": "code",
   "execution_count": 41,
   "id": "39255a99-7483-4832-b3be-0d6a168644b4",
   "metadata": {},
   "outputs": [
    {
     "data": {
      "text/plain": [
       "(3, 8)"
      ]
     },
     "execution_count": 41,
     "metadata": {},
     "output_type": "execute_result"
    }
   ],
   "source": [
    "B.shape"
   ]
  },
  {
   "cell_type": "code",
   "execution_count": 42,
   "id": "e0c98823-73cc-4ebb-9e89-2e8da0945d1f",
   "metadata": {},
   "outputs": [
    {
     "data": {
      "text/plain": [
       "array([-0.38181818,  0.05454545,  0.38181818,  0.05454545,  0.38181818,\n",
       "       -0.05454545, -0.38181818, -0.05454545])"
      ]
     },
     "execution_count": 42,
     "metadata": {},
     "output_type": "execute_result"
    }
   ],
   "source": [
    "Fi"
   ]
  },
  {
   "cell_type": "code",
   "execution_count": null,
   "id": "eb924454-48ed-472e-9ce1-c26e7dd1caa2",
   "metadata": {},
   "outputs": [],
   "source": []
  }
 ],
 "metadata": {
  "kernelspec": {
   "display_name": "Python 3 (ipykernel)",
   "language": "python",
   "name": "python3"
  },
  "language_info": {
   "codemirror_mode": {
    "name": "ipython",
    "version": 3
   },
   "file_extension": ".py",
   "mimetype": "text/x-python",
   "name": "python",
   "nbconvert_exporter": "python",
   "pygments_lexer": "ipython3",
   "version": "3.9.12"
  }
 },
 "nbformat": 4,
 "nbformat_minor": 5
}
