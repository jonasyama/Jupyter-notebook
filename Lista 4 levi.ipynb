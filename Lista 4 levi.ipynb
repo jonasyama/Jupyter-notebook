{
 "cells": [
  {
   "cell_type": "code",
   "execution_count": 1,
   "id": "b005dcde-2ba5-44b2-96ee-1ccdd02b450c",
   "metadata": {},
   "outputs": [],
   "source": [
    "import numpy as np \n",
    "import matplotlib.pyplot as plt\n",
    "import sympy as smp"
   ]
  },
  {
   "cell_type": "code",
   "execution_count": 2,
   "id": "5c271231-ef3d-4244-b3c4-b61c543e52bf",
   "metadata": {},
   "outputs": [],
   "source": [
    "x,y,a,b,p,wm,v,d,E,f,h,alfa,c1,c2,c3,c4 =smp.symbols('x y a b p wm v d E f h alfa c1,c2 c3 c4')\n",
    "n=smp.symbols('n', int=True)"
   ]
  },
  {
   "cell_type": "code",
   "execution_count": 3,
   "id": "39f4bf1d-6fe1-401a-8ec1-4bd8a307e18b",
   "metadata": {},
   "outputs": [],
   "source": [
    "a=20\n",
    "b=10\n",
    "p=10\n",
    "alfa=n*smp.pi/b*y\n",
    "E=25000000\n",
    "v=0.3\n",
    "d=E*0.3**3/(12*(1-v**2))"
   ]
  },
  {
   "cell_type": "code",
   "execution_count": 4,
   "id": "335082cc-8693-44a6-a486-ba5d62f32230",
   "metadata": {},
   "outputs": [
    {
     "data": {
      "text/latex": [
       "$\\displaystyle - \\frac{3.23555555555556 \\left(\\sin{\\left(\\frac{\\pi y}{10} \\right)} + \\frac{\\sin{\\left(\\frac{\\pi y}{5} \\right)}}{32} + \\frac{\\sin{\\left(\\frac{3 \\pi y}{10} \\right)}}{243} + \\frac{\\sin{\\left(\\frac{2 \\pi y}{5} \\right)}}{1024} + \\frac{\\sin{\\left(\\frac{\\pi y}{2} \\right)}}{3125}\\right)}{\\pi^{5}}$"
      ],
      "text/plain": [
       "-3.23555555555556*(sin(pi*y/10) + sin(pi*y/5)/32 + sin(3*pi*y/10)/243 + sin(2*pi*y/5)/1024 + sin(pi*y/2)/3125)/pi**5"
      ]
     },
     "execution_count": 4,
     "metadata": {},
     "output_type": "execute_result"
    }
   ],
   "source": [
    "wp=-2*p*b**4/(d*smp.pi**5)*smp.summation(1/n**5*smp.sin(n*smp.pi*y/b),(n,1,5))\n",
    "wp"
   ]
  },
  {
   "cell_type": "markdown",
   "id": "4976af75-cfaf-45e2-a4bf-19c67d61bf23",
   "metadata": {},
   "source": [
    "#### sabemos que a solução homogenea para a simetria de deslocamentos na direção x pode ser simplificada por:"
   ]
  },
  {
   "cell_type": "code",
   "execution_count": 5,
   "id": "86787598-a79e-41f2-80eb-5d65b419240c",
   "metadata": {},
   "outputs": [
    {
     "data": {
      "text/latex": [
       "$\\displaystyle \\left(c_{1} \\left(\\cosh{\\left(\\frac{\\pi y}{10} \\right)} + \\cosh{\\left(\\frac{\\pi y}{5} \\right)} + \\cosh{\\left(\\frac{3 \\pi y}{10} \\right)} + \\cosh{\\left(\\frac{2 \\pi y}{5} \\right)} + \\cosh{\\left(\\frac{\\pi y}{2} \\right)}\\right) + \\frac{\\pi c_{2} y \\left(\\sinh{\\left(\\frac{\\pi y}{10} \\right)} + 2 \\sinh{\\left(\\frac{\\pi y}{5} \\right)} + 3 \\sinh{\\left(\\frac{3 \\pi y}{10} \\right)} + 4 \\sinh{\\left(\\frac{2 \\pi y}{5} \\right)} + 5 \\sinh{\\left(\\frac{\\pi y}{2} \\right)}\\right)}{10} + c_{3} \\left(\\sinh{\\left(\\frac{\\pi y}{10} \\right)} + \\sinh{\\left(\\frac{\\pi y}{5} \\right)} + \\sinh{\\left(\\frac{3 \\pi y}{10} \\right)} + \\sinh{\\left(\\frac{2 \\pi y}{5} \\right)} + \\sinh{\\left(\\frac{\\pi y}{2} \\right)}\\right) + \\frac{\\pi c_{4} y \\left(\\cosh{\\left(\\frac{\\pi y}{10} \\right)} + 2 \\cosh{\\left(\\frac{\\pi y}{5} \\right)} + 3 \\cosh{\\left(\\frac{3 \\pi y}{10} \\right)} + 4 \\cosh{\\left(\\frac{2 \\pi y}{5} \\right)} + 5 \\cosh{\\left(\\frac{\\pi y}{2} \\right)}\\right)}{10}\\right) \\sin{\\left(\\frac{\\pi x}{10} \\right)}$"
      ],
      "text/plain": [
       "(c1*(cosh(pi*y/10) + cosh(pi*y/5) + cosh(3*pi*y/10) + cosh(2*pi*y/5) + cosh(pi*y/2)) + pi*c2*y*(sinh(pi*y/10) + 2*sinh(pi*y/5) + 3*sinh(3*pi*y/10) + 4*sinh(2*pi*y/5) + 5*sinh(pi*y/2))/10 + c3*(sinh(pi*y/10) + sinh(pi*y/5) + sinh(3*pi*y/10) + sinh(2*pi*y/5) + sinh(pi*y/2)) + pi*c4*y*(cosh(pi*y/10) + 2*cosh(pi*y/5) + 3*cosh(3*pi*y/10) + 4*cosh(2*pi*y/5) + 5*cosh(pi*y/2))/10)*sin(pi*x/10)"
      ]
     },
     "execution_count": 5,
     "metadata": {},
     "output_type": "execute_result"
    }
   ],
   "source": [
    "wh=(c1*smp.cosh(alfa)+c2*alfa*smp.sinh(alfa)+c3*smp.sinh(alfa)+c4*alfa*smp.cosh(alfa))*smp.sin(smp.pi*x/b)\n",
    "wh1=smp.summation(wh,(n,1,5))\n",
    "w=wh1+wp\n",
    "wh1\n"
   ]
  },
  {
   "cell_type": "markdown",
   "id": "c14c48d6-5344-4e59-a2ad-6e2500b080ee",
   "metadata": {},
   "source": [
    "aplicando as condições de contorno de apoio em relação a y temos na solução homogenea temos:\n",
    "\n"
   ]
  },
  {
   "cell_type": "code",
   "execution_count": 6,
   "id": "a799993d-b954-4329-b20c-ceaee5f56b53",
   "metadata": {},
   "outputs": [
    {
     "data": {
      "text/latex": [
       "$\\displaystyle 5 c_{1} \\sin{\\left(\\frac{\\pi x}{10} \\right)}$"
      ],
      "text/plain": [
       "5*c1*sin(pi*x/10)"
      ]
     },
     "execution_count": 6,
     "metadata": {},
     "output_type": "execute_result"
    }
   ],
   "source": [
    "w0=wh1.subs([(y,0)])\n",
    "w0"
   ]
  },
  {
   "cell_type": "code",
   "execution_count": 7,
   "id": "87bc4af5-c986-42de-ad61-e083912721ab",
   "metadata": {},
   "outputs": [],
   "source": [
    "dwdx2=smp.diff((smp.diff(wh,x)),x)\n",
    "dwdy2=smp.diff((smp.diff(wh,y)),y)\n",
    "mxh=(dwdx2+v*dwdy2)*d\n",
    "myh=(dwdy2+v*dwdx2)*d\n",
    "mxyh=(1-v)*(smp.diff((smp.diff(w,x)),y))"
   ]
  },
  {
   "cell_type": "code",
   "execution_count": 8,
   "id": "418d5c48-4632-4904-889f-7b8863300687",
   "metadata": {},
   "outputs": [
    {
     "data": {
      "text/latex": [
       "$\\displaystyle 67994.5054945055 \\pi^{2} c_{2} \\sin{\\left(\\frac{\\pi x}{10} \\right)}$"
      ],
      "text/plain": [
       "67994.5054945055*pi**2*c2*sin(pi*x/10)"
      ]
     },
     "execution_count": 8,
     "metadata": {},
     "output_type": "execute_result"
    }
   ],
   "source": [
    "m0=smp.summation(myh.subs([(y,0),(c1,0)]),(n,0,5))\n",
    "m0"
   ]
  },
  {
   "cell_type": "code",
   "execution_count": 9,
   "id": "19fe4f76-4478-4f1e-9f9e-36c83aa804e2",
   "metadata": {},
   "outputs": [
    {
     "data": {
      "text/latex": [
       "$\\displaystyle - 185.43956043956 \\pi^{2} \\left(c_{3} \\left(\\sinh{\\left(\\pi \\right)} + \\sinh{\\left(2 \\pi \\right)} + \\sinh{\\left(3 \\pi \\right)} + \\sinh{\\left(4 \\pi \\right)} + \\sinh{\\left(5 \\pi \\right)}\\right) + \\pi c_{4} \\left(\\cosh{\\left(\\pi \\right)} + 2 \\cosh{\\left(2 \\pi \\right)} + 3 \\cosh{\\left(3 \\pi \\right)} + 4 \\cosh{\\left(4 \\pi \\right)} + 5 \\cosh{\\left(5 \\pi \\right)}\\right)\\right) \\sin{\\left(\\frac{\\pi x}{10} \\right)} + 61813.1868131868 \\left(\\frac{\\pi^{2} c_{3} \\left(\\sinh{\\left(\\pi \\right)} + 4 \\sinh{\\left(2 \\pi \\right)} + 9 \\sinh{\\left(3 \\pi \\right)} + 16 \\sinh{\\left(4 \\pi \\right)} + 25 \\sinh{\\left(5 \\pi \\right)}\\right)}{100} + \\frac{\\pi^{2} c_{4} \\left(\\sinh{\\left(\\pi \\right)} + 4 \\sinh{\\left(2 \\pi \\right)} + 9 \\sinh{\\left(3 \\pi \\right)} + 16 \\sinh{\\left(4 \\pi \\right)} + 25 \\sinh{\\left(5 \\pi \\right)}\\right)}{50} + \\frac{\\pi^{3} c_{4} \\left(\\cosh{\\left(\\pi \\right)} + 8 \\cosh{\\left(2 \\pi \\right)} + 27 \\cosh{\\left(3 \\pi \\right)} + 64 \\cosh{\\left(4 \\pi \\right)} + 125 \\cosh{\\left(5 \\pi \\right)}\\right)}{100}\\right) \\sin{\\left(\\frac{\\pi x}{10} \\right)}$"
      ],
      "text/plain": [
       "-185.43956043956*pi**2*(c3*(sinh(pi) + sinh(2*pi) + sinh(3*pi) + sinh(4*pi) + sinh(5*pi)) + pi*c4*(cosh(pi) + 2*cosh(2*pi) + 3*cosh(3*pi) + 4*cosh(4*pi) + 5*cosh(5*pi)))*sin(pi*x/10) + 61813.1868131868*(pi**2*c3*(sinh(pi) + 4*sinh(2*pi) + 9*sinh(3*pi) + 16*sinh(4*pi) + 25*sinh(5*pi))/100 + pi**2*c4*(sinh(pi) + 4*sinh(2*pi) + 9*sinh(3*pi) + 16*sinh(4*pi) + 25*sinh(5*pi))/50 + pi**3*c4*(cosh(pi) + 8*cosh(2*pi) + 27*cosh(3*pi) + 64*cosh(4*pi) + 125*cosh(5*pi))/100)*sin(pi*x/10)"
      ]
     },
     "execution_count": 9,
     "metadata": {},
     "output_type": "execute_result"
    }
   ],
   "source": [
    "mb=smp.summation(myh.subs([(y,b),(c1,0),(c2,0)]),(n,0,5))\n",
    "mb"
   ]
  },
  {
   "cell_type": "code",
   "execution_count": 11,
   "id": "35fb12ed-d4a9-4059-a037-f0ffcc97f967",
   "metadata": {},
   "outputs": [
    {
     "data": {
      "text/latex": [
       "$\\displaystyle \\left(c_{3} \\left(\\sinh{\\left(\\pi \\right)} + \\sinh{\\left(2 \\pi \\right)} + \\sinh{\\left(3 \\pi \\right)} + \\sinh{\\left(4 \\pi \\right)} + \\sinh{\\left(5 \\pi \\right)}\\right) + \\pi c_{4} \\left(\\cosh{\\left(\\pi \\right)} + 2 \\cosh{\\left(2 \\pi \\right)} + 3 \\cosh{\\left(3 \\pi \\right)} + 4 \\cosh{\\left(4 \\pi \\right)} + 5 \\cosh{\\left(5 \\pi \\right)}\\right)\\right) \\sin{\\left(\\frac{\\pi x}{10} \\right)}$"
      ],
      "text/plain": [
       "(c3*(sinh(pi) + sinh(2*pi) + sinh(3*pi) + sinh(4*pi) + sinh(5*pi)) + pi*c4*(cosh(pi) + 2*cosh(2*pi) + 3*cosh(3*pi) + 4*cosh(4*pi) + 5*cosh(5*pi)))*sin(pi*x/10)"
      ]
     },
     "execution_count": 11,
     "metadata": {},
     "output_type": "execute_result"
    }
   ],
   "source": [
    "wb=wh1.subs([(y,b),(c1,0),(c2,0)])\n",
    "wb"
   ]
  },
  {
   "cell_type": "code",
   "execution_count": 13,
   "id": "abd3c32e-2402-4db9-9f2a-7dde1eaa0c8e",
   "metadata": {},
   "outputs": [
    {
     "data": {
      "text/plain": [
       "{c3: 0.0, c4: 0.0, c2: 0.0, c1: 0.0}"
      ]
     },
     "execution_count": 13,
     "metadata": {},
     "output_type": "execute_result"
    }
   ],
   "source": [
    "sol=smp.solve([wb,mb,m0,w0],[c1,c2,c3,c4])\n",
    "C1=sol[c1]\n",
    "C2=sol[c2]\n",
    "C3=sol[c3]\n",
    "C4=sol[c4]\n",
    "sol"
   ]
  },
  {
   "cell_type": "code",
   "execution_count": 14,
   "id": "420c6964-9162-4fe2-aab5-c3c15caabbf8",
   "metadata": {},
   "outputs": [
    {
     "data": {
      "text/latex": [
       "$\\displaystyle 0$"
      ],
      "text/plain": [
       "0"
      ]
     },
     "execution_count": 14,
     "metadata": {},
     "output_type": "execute_result"
    }
   ],
   "source": [
    "\n",
    "wh=smp.summation((C1*smp.cosh(alfa)+C2*alfa*smp.sinh(alfa)+C3*smp.sin(alfa)+C4*alfa*smp.cosh(alfa))*smp.sin(smp.pi*x/b),(n,0,10))\n",
    "w=wh+wp\n",
    "wh"
   ]
  },
  {
   "cell_type": "code",
   "execution_count": 15,
   "id": "412ec2c8-10f0-47ca-926b-8696e336de30",
   "metadata": {},
   "outputs": [],
   "source": [
    "W=smp.lambdify([x,y],w)"
   ]
  },
  {
   "cell_type": "code",
   "execution_count": 16,
   "id": "64838637-25f5-48bd-96aa-1912f11ec634",
   "metadata": {},
   "outputs": [],
   "source": [
    "m1 = np.linspace(-10,10,500)\n",
    "m2 = np.linspace(0,10,500)\n",
    "x1,y1=np.meshgrid(m1,m2)"
   ]
  },
  {
   "cell_type": "code",
   "execution_count": 19,
   "id": "7f1631e8-5386-4143-b9d8-117874e1d7f6",
   "metadata": {},
   "outputs": [
    {
     "data": {
      "text/plain": [
       "<matplotlib.colorbar.Colorbar at 0x22b5a6b8bb0>"
      ]
     },
     "execution_count": 19,
     "metadata": {},
     "output_type": "execute_result"
    },
    {
     "data": {
      "image/png": "[encoded data removed]",
      "text/plain": [
       "<Figure size 432x288 with 2 Axes>"
      ]
     },
     "metadata": {
      "needs_background": "light"
     },
     "output_type": "display_data"
    }
   ],
   "source": [
    "cont=plt.contourf(x1,y1,W(x1,y1),levels=20)\n",
    "plt.colorbar()"
   ]
  },
  {
   "cell_type": "code",
   "execution_count": null,
   "id": "540f4795-6219-4a6b-ae84-102c3312b778",
   "metadata": {},
   "outputs": [],
   "source": [
    "W(12,10)\n"
   ]
  },
  {
   "cell_type": "code",
   "execution_count": null,
   "id": "97beb7e0-639d-432d-ad87-0f1a0fafbdfb",
   "metadata": {},
   "outputs": [],
   "source": []
  }
 ],
 "metadata": {
  "kernelspec": {
   "display_name": "Python 3 (ipykernel)",
   "language": "python",
   "name": "python3"
  },
  "language_info": {
   "codemirror_mode": {
    "name": "ipython",
    "version": 3
   },
   "file_extension": ".py",
   "mimetype": "text/x-python",
   "name": "python",
   "nbconvert_exporter": "python",
   "pygments_lexer": "ipython3",
   "version": "3.9.12"
  }
 },
 "nbformat": 4,
 "nbformat_minor": 5
}
