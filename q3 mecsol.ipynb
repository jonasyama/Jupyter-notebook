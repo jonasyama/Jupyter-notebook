{
 "cells": [
  {
   "cell_type": "markdown",
   "id": "41e526d0-c283-4606-b863-fdd84cc007d4",
   "metadata": {},
   "source": [
    "# Questao 3 mecanica p3"
   ]
  },
  {
   "cell_type": "code",
   "execution_count": 1,
   "id": "5c007ade-d64b-411c-9bfc-f9cdb8119728",
   "metadata": {},
   "outputs": [],
   "source": [
    "import numpy as np \n",
    "import matplotlib.pyplot as plt\n",
    "import sympy as smp\n",
    "from sympy.plotting import plot\n",
    "import plotly.graph_objects as go\n",
    "from numpy import trapz"
   ]
  },
  {
   "cell_type": "code",
   "execution_count": 2,
   "id": "e1fc7848-6ce4-4983-9e9e-1c224b937956",
   "metadata": {},
   "outputs": [],
   "source": [
    "c1,c2,c3,c4=smp.symbols('c1 c2 c3 c4')\n",
    "x,y,a,b,c,alfa,beta, sigma,K,kf,A,am,sigmay,L,n,E,I, P, pi,h =smp.symbols('x y a b c α β σ K k_f A amax σ_y L n E I P pi h')"
   ]
  },
  {
   "cell_type": "code",
   "execution_count": 3,
   "id": "5872317a-d5d7-4480-914f-cda08845be3c",
   "metadata": {},
   "outputs": [
    {
     "data": {
      "text/latex": [
       "$\\displaystyle \\left(- x^{2} + y + 1\\right) \\left(x^{2} + y - 1\\right)$"
      ],
      "text/plain": [
       "(-x**2 + y + 1)*(x**2 + y - 1)"
      ]
     },
     "execution_count": 3,
     "metadata": {},
     "output_type": "execute_result"
    }
   ],
   "source": [
    "fi=(-1+y+x**2)*(1+y-x**2)\n",
    "fi"
   ]
  },
  {
   "cell_type": "code",
   "execution_count": 4,
   "id": "a3e6a242-1b89-4fa7-82e1-db1dc919f78b",
   "metadata": {},
   "outputs": [],
   "source": [
    "dfdx=smp.diff(smp.diff(fi,x),x)"
   ]
  },
  {
   "cell_type": "code",
   "execution_count": 5,
   "id": "53d3cc16-f0af-40b3-8fd9-6c0de33ccbdc",
   "metadata": {},
   "outputs": [],
   "source": [
    "dfdy=smp.diff(smp.diff(fi,y),y)"
   ]
  },
  {
   "cell_type": "code",
   "execution_count": 6,
   "id": "b69b46fc-f7b8-4217-8cf3-d3dc9b1e60bf",
   "metadata": {},
   "outputs": [
    {
     "data": {
      "text/latex": [
       "$\\displaystyle 6 - 12 x^{2}$"
      ],
      "text/plain": [
       "6 - 12*x**2"
      ]
     },
     "execution_count": 6,
     "metadata": {},
     "output_type": "execute_result"
    }
   ],
   "source": [
    "dfdx+dfdy"
   ]
  },
  {
   "cell_type": "code",
   "execution_count": 7,
   "id": "c4641229-437d-4ac8-bdc0-228bebcf23d6",
   "metadata": {},
   "outputs": [],
   "source": [
    "K=h/(6-12*x**2)"
   ]
  },
  {
   "cell_type": "code",
   "execution_count": 8,
   "id": "6dbbc083-0355-4ee9-b6b0-31ad638078d2",
   "metadata": {},
   "outputs": [],
   "source": [
    "T=2*smp.integrate(smp.integrate(K*fi,x),y)"
   ]
  },
  {
   "cell_type": "code",
   "execution_count": 9,
   "id": "81d67264-4bcb-433b-9c98-2343ac819a2a",
   "metadata": {},
   "outputs": [
    {
     "data": {
      "text/latex": [
       "$\\displaystyle \\frac{\\sqrt{2} h y^{3} \\log{\\left(x + \\frac{\\sqrt{2}}{2} \\right)}}{36} + 2 y \\left(\\frac{h x^{3}}{36} - \\frac{h x}{8} - \\frac{\\sqrt{2} h \\log{\\left(x + \\frac{\\sqrt{2}}{2} \\right)}}{96}\\right) + 2 \\left(- \\frac{\\sqrt{2} h y^{3}}{72} + \\frac{\\sqrt{2} h y}{96}\\right) \\log{\\left(- \\frac{\\sqrt{2} h \\left(2 y - 1\\right) \\left(2 y + 1\\right)}{2 \\cdot \\left(4 h y^{2} - h\\right)} + x \\right)}$"
      ],
      "text/plain": [
       "sqrt(2)*h*y**3*log(x + sqrt(2)/2)/36 + 2*y*(h*x**3/36 - h*x/8 - sqrt(2)*h*log(x + sqrt(2)/2)/96) + 2*(-sqrt(2)*h*y**3/72 + sqrt(2)*h*y/96)*log(-sqrt(2)*h*(2*y - 1)*(2*y + 1)/(2*(4*h*y**2 - h)) + x)"
      ]
     },
     "execution_count": 9,
     "metadata": {},
     "output_type": "execute_result"
    }
   ],
   "source": [
    "T"
   ]
  },
  {
   "cell_type": "code",
   "execution_count": 10,
   "id": "b6718347-18e7-4370-9e1f-1208700265f8",
   "metadata": {},
   "outputs": [
    {
     "data": {
      "text/latex": [
       "$\\displaystyle \\frac{h y \\left(8 x^{3} - 36 x + 4 \\sqrt{2} y^{2} \\log{\\left(x + \\frac{\\sqrt{2}}{2} \\right)} - \\sqrt{2} \\cdot \\left(4 y^{2} - 3\\right) \\log{\\left(x - \\frac{\\sqrt{2}}{2} \\right)} - 3 \\sqrt{2} \\log{\\left(x + \\frac{\\sqrt{2}}{2} \\right)}\\right)}{144}$"
      ],
      "text/plain": [
       "h*y*(8*x**3 - 36*x + 4*sqrt(2)*y**2*log(x + sqrt(2)/2) - sqrt(2)*(4*y**2 - 3)*log(x - sqrt(2)/2) - 3*sqrt(2)*log(x + sqrt(2)/2))/144"
      ]
     },
     "execution_count": 10,
     "metadata": {},
     "output_type": "execute_result"
    }
   ],
   "source": [
    "T.simplify()"
   ]
  },
  {
   "cell_type": "code",
   "execution_count": 11,
   "id": "df4d0a6e-846d-4e80-aa77-d5a7644cdeef",
   "metadata": {},
   "outputs": [
    {
     "data": {
      "text/latex": [
       "$\\displaystyle \\frac{144}{y \\left(8 x^{3} - 36 x + 4 \\sqrt{2} y^{2} \\log{\\left(x + \\frac{\\sqrt{2}}{2} \\right)} - \\sqrt{2} \\cdot \\left(4 y^{2} - 3\\right) \\log{\\left(x - \\frac{\\sqrt{2}}{2} \\right)} - 3 \\sqrt{2} \\log{\\left(x + \\frac{\\sqrt{2}}{2} \\right)}\\right)}$"
      ],
      "text/plain": [
       "144/(y*(8*x**3 - 36*x + 4*sqrt(2)*y**2*log(x + sqrt(2)/2) - sqrt(2)*(4*y**2 - 3)*log(x - sqrt(2)/2) - 3*sqrt(2)*log(x + sqrt(2)/2)))"
      ]
     },
     "execution_count": 11,
     "metadata": {},
     "output_type": "execute_result"
    }
   ],
   "source": [
    "H=h*1/T.simplify()\n",
    "H"
   ]
  },
  {
   "cell_type": "code",
   "execution_count": 12,
   "id": "134c5209-9454-4e21-a83b-e8577e1f3a01",
   "metadata": {},
   "outputs": [],
   "source": [
    "K=H/(6-12*x**2)"
   ]
  },
  {
   "cell_type": "code",
   "execution_count": 13,
   "id": "2c53b0a8-7711-4a63-9843-574fe6c6011b",
   "metadata": {},
   "outputs": [
    {
     "data": {
      "text/latex": [
       "$\\displaystyle \\frac{144}{y \\left(6 - 12 x^{2}\\right) \\left(8 x^{3} - 36 x + 4 \\sqrt{2} y^{2} \\log{\\left(x + \\frac{\\sqrt{2}}{2} \\right)} - \\sqrt{2} \\cdot \\left(4 y^{2} - 3\\right) \\log{\\left(x - \\frac{\\sqrt{2}}{2} \\right)} - 3 \\sqrt{2} \\log{\\left(x + \\frac{\\sqrt{2}}{2} \\right)}\\right)}$"
      ],
      "text/plain": [
       "144/(y*(6 - 12*x**2)*(8*x**3 - 36*x + 4*sqrt(2)*y**2*log(x + sqrt(2)/2) - sqrt(2)*(4*y**2 - 3)*log(x - sqrt(2)/2) - 3*sqrt(2)*log(x + sqrt(2)/2)))"
      ]
     },
     "execution_count": 13,
     "metadata": {},
     "output_type": "execute_result"
    }
   ],
   "source": [
    "K"
   ]
  },
  {
   "cell_type": "code",
   "execution_count": 14,
   "id": "ac74725e-43b1-41ec-9c84-9ee27b2116cd",
   "metadata": {},
   "outputs": [
    {
     "data": {
      "text/latex": [
       "$\\displaystyle \\frac{144 \\left(- x^{2} + y + 1\\right) \\left(x^{2} + y - 1\\right)}{y \\left(6 - 12 x^{2}\\right) \\left(8 x^{3} - 36 x + 4 \\sqrt{2} y^{2} \\log{\\left(x + \\frac{\\sqrt{2}}{2} \\right)} - \\sqrt{2} \\cdot \\left(4 y^{2} - 3\\right) \\log{\\left(x - \\frac{\\sqrt{2}}{2} \\right)} - 3 \\sqrt{2} \\log{\\left(x + \\frac{\\sqrt{2}}{2} \\right)}\\right)}$"
      ],
      "text/plain": [
       "144*(-x**2 + y + 1)*(x**2 + y - 1)/(y*(6 - 12*x**2)*(8*x**3 - 36*x + 4*sqrt(2)*y**2*log(x + sqrt(2)/2) - sqrt(2)*(4*y**2 - 3)*log(x - sqrt(2)/2) - 3*sqrt(2)*log(x + sqrt(2)/2)))"
      ]
     },
     "execution_count": 14,
     "metadata": {},
     "output_type": "execute_result"
    }
   ],
   "source": [
    "ff=K*fi\n",
    "ff"
   ]
  },
  {
   "cell_type": "markdown",
   "id": "4ee3751e-da33-4754-b3e4-2fbc4fa5925e",
   "metadata": {},
   "source": [
    "# Questão 3 tal talzx"
   ]
  },
  {
   "cell_type": "code",
   "execution_count": 15,
   "id": "6dc5b90a-e55e-4ce8-96fa-fc426da4aeb5",
   "metadata": {},
   "outputs": [
    {
     "data": {
      "text/latex": [
       "$\\displaystyle \\frac{48 \\cdot \\left(2 x \\left(1 - x^{2}\\right) \\left(2 x - \\sqrt{2}\\right) \\left(2 x + \\sqrt{2}\\right) \\left(2 x^{2} - 1\\right) \\left(- 8 x^{3} + 36 x - 4 \\sqrt{2} y^{2} \\log{\\left(x + \\frac{\\sqrt{2}}{2} \\right)} + \\sqrt{2} \\cdot \\left(4 y^{2} - 3\\right) \\log{\\left(x - \\frac{\\sqrt{2}}{2} \\right)} + 3 \\sqrt{2} \\log{\\left(x + \\frac{\\sqrt{2}}{2} \\right)}\\right) - 2 x \\left(2 x - \\sqrt{2}\\right) \\left(2 x + \\sqrt{2}\\right) \\left(- x^{2} + y + 1\\right) \\left(x^{2} + y - 1\\right) \\left(- 8 x^{3} + 36 x - 4 \\sqrt{2} y^{2} \\log{\\left(x + \\frac{\\sqrt{2}}{2} \\right)} + \\sqrt{2} \\cdot \\left(4 y^{2} - 3\\right) \\log{\\left(x - \\frac{\\sqrt{2}}{2} \\right)} + 3 \\sqrt{2} \\log{\\left(x + \\frac{\\sqrt{2}}{2} \\right)}\\right) - \\left(2 x^{2} - 1\\right) \\left(- x^{2} + y + 1\\right) \\left(x^{2} + y - 1\\right) \\left(6 \\cdot \\left(3 - 2 x^{2}\\right) \\left(2 x - \\sqrt{2}\\right) \\left(2 x + \\sqrt{2}\\right) + \\sqrt{2} \\cdot \\left(3 - 4 y^{2}\\right) \\left(2 x - \\sqrt{2}\\right) + \\sqrt{2} \\cdot \\left(2 x + \\sqrt{2}\\right) \\left(4 y^{2} - 3\\right)\\right)\\right)}{y \\left(2 x - \\sqrt{2}\\right) \\left(2 x + \\sqrt{2}\\right) \\left(2 x^{2} - 1\\right)^{2} \\left(- 8 x^{3} + 36 x - 4 \\sqrt{2} y^{2} \\log{\\left(x + \\frac{\\sqrt{2}}{2} \\right)} + \\sqrt{2} \\cdot \\left(4 y^{2} - 3\\right) \\log{\\left(x - \\frac{\\sqrt{2}}{2} \\right)} + 3 \\sqrt{2} \\log{\\left(x + \\frac{\\sqrt{2}}{2} \\right)}\\right)^{2}}$"
      ],
      "text/plain": [
       "48*(2*x*(1 - x**2)*(2*x - sqrt(2))*(2*x + sqrt(2))*(2*x**2 - 1)*(-8*x**3 + 36*x - 4*sqrt(2)*y**2*log(x + sqrt(2)/2) + sqrt(2)*(4*y**2 - 3)*log(x - sqrt(2)/2) + 3*sqrt(2)*log(x + sqrt(2)/2)) - 2*x*(2*x - sqrt(2))*(2*x + sqrt(2))*(-x**2 + y + 1)*(x**2 + y - 1)*(-8*x**3 + 36*x - 4*sqrt(2)*y**2*log(x + sqrt(2)/2) + sqrt(2)*(4*y**2 - 3)*log(x - sqrt(2)/2) + 3*sqrt(2)*log(x + sqrt(2)/2)) - (2*x**2 - 1)*(-x**2 + y + 1)*(x**2 + y - 1)*(6*(3 - 2*x**2)*(2*x - sqrt(2))*(2*x + sqrt(2)) + sqrt(2)*(3 - 4*y**2)*(2*x - sqrt(2)) + sqrt(2)*(2*x + sqrt(2))*(4*y**2 - 3)))/(y*(2*x - sqrt(2))*(2*x + sqrt(2))*(2*x**2 - 1)**2*(-8*x**3 + 36*x - 4*sqrt(2)*y**2*log(x + sqrt(2)/2) + sqrt(2)*(4*y**2 - 3)*log(x - sqrt(2)/2) + 3*sqrt(2)*log(x + sqrt(2)/2))**2)"
      ]
     },
     "execution_count": 15,
     "metadata": {},
     "output_type": "execute_result"
    }
   ],
   "source": [
    "ffdx=smp.diff(ff,x)\n",
    "ffdx.simplify()"
   ]
  },
  {
   "cell_type": "markdown",
   "id": "043c2f90-c113-4f7c-9930-b530452c1f14",
   "metadata": {},
   "source": [
    "# questao talzy"
   ]
  },
  {
   "cell_type": "code",
   "execution_count": 16,
   "id": "38515572-ce47-441d-9e8e-71b987018530",
   "metadata": {},
   "outputs": [
    {
     "data": {
      "text/latex": [
       "$\\displaystyle \\frac{24 \\left(- 8 \\sqrt{2} y^{2} \\left(\\log{\\left(x - \\frac{\\sqrt{2}}{2} \\right)} - \\log{\\left(x + \\frac{\\sqrt{2}}{2} \\right)}\\right) \\left(- x^{2} + y + 1\\right) \\left(x^{2} + y - 1\\right) + 2 y^{2} \\left(- 8 x^{3} + 36 x - 4 \\sqrt{2} y^{2} \\log{\\left(x + \\frac{\\sqrt{2}}{2} \\right)} + \\sqrt{2} \\cdot \\left(4 y^{2} - 3\\right) \\log{\\left(x - \\frac{\\sqrt{2}}{2} \\right)} + 3 \\sqrt{2} \\log{\\left(x + \\frac{\\sqrt{2}}{2} \\right)}\\right) - \\left(- x^{2} + y + 1\\right) \\left(x^{2} + y - 1\\right) \\left(- 8 x^{3} + 36 x - 4 \\sqrt{2} y^{2} \\log{\\left(x + \\frac{\\sqrt{2}}{2} \\right)} + \\sqrt{2} \\cdot \\left(4 y^{2} - 3\\right) \\log{\\left(x - \\frac{\\sqrt{2}}{2} \\right)} + 3 \\sqrt{2} \\log{\\left(x + \\frac{\\sqrt{2}}{2} \\right)}\\right)\\right)}{y^{2} \\cdot \\left(2 x^{2} - 1\\right) \\left(- 8 x^{3} + 36 x - 4 \\sqrt{2} y^{2} \\log{\\left(x + \\frac{\\sqrt{2}}{2} \\right)} + \\sqrt{2} \\cdot \\left(4 y^{2} - 3\\right) \\log{\\left(x - \\frac{\\sqrt{2}}{2} \\right)} + 3 \\sqrt{2} \\log{\\left(x + \\frac{\\sqrt{2}}{2} \\right)}\\right)^{2}}$"
      ],
      "text/plain": [
       "24*(-8*sqrt(2)*y**2*(log(x - sqrt(2)/2) - log(x + sqrt(2)/2))*(-x**2 + y + 1)*(x**2 + y - 1) + 2*y**2*(-8*x**3 + 36*x - 4*sqrt(2)*y**2*log(x + sqrt(2)/2) + sqrt(2)*(4*y**2 - 3)*log(x - sqrt(2)/2) + 3*sqrt(2)*log(x + sqrt(2)/2)) - (-x**2 + y + 1)*(x**2 + y - 1)*(-8*x**3 + 36*x - 4*sqrt(2)*y**2*log(x + sqrt(2)/2) + sqrt(2)*(4*y**2 - 3)*log(x - sqrt(2)/2) + 3*sqrt(2)*log(x + sqrt(2)/2)))/(y**2*(2*x**2 - 1)*(-8*x**3 + 36*x - 4*sqrt(2)*y**2*log(x + sqrt(2)/2) + sqrt(2)*(4*y**2 - 3)*log(x - sqrt(2)/2) + 3*sqrt(2)*log(x + sqrt(2)/2))**2)"
      ]
     },
     "execution_count": 16,
     "metadata": {},
     "output_type": "execute_result"
    }
   ],
   "source": [
    "ffdy=smp.diff(ff,y)\n",
    "ffdy.simplify()"
   ]
  },
  {
   "cell_type": "code",
   "execution_count": 17,
   "id": "9d11dd1b-56b7-4702-bd85-f93237522e3c",
   "metadata": {},
   "outputs": [],
   "source": [
    "talzx=smp.lambdify((x,y),ffdx)"
   ]
  },
  {
   "cell_type": "code",
   "execution_count": 18,
   "id": "dd38ef34-9f67-489f-a724-bc0ed80474c8",
   "metadata": {},
   "outputs": [],
   "source": [
    "talz=smp.lambdify((x,y),ffdy)"
   ]
  }
 ],
 "metadata": {
  "kernelspec": {
   "display_name": "Python 3 (ipykernel)",
   "language": "python",
   "name": "python3"
  },
  "language_info": {
   "codemirror_mode": {
    "name": "ipython",
    "version": 3
   },
   "file_extension": ".py",
   "mimetype": "text/x-python",
   "name": "python",
   "nbconvert_exporter": "python",
   "pygments_lexer": "ipython3",
   "version": "3.9.12"
  }
 },
 "nbformat": 4,
 "nbformat_minor": 5
}
