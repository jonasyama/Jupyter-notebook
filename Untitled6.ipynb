{
 "cells": [
  {
   "cell_type": "code",
   "execution_count": 1,
   "id": "df198732-3c4f-498a-a006-78498a163264",
   "metadata": {},
   "outputs": [],
   "source": [
    "import numpy as np \n",
    "import matplotlib.pyplot as plt\n",
    "import sympy as smp\n",
    "from numpy.linalg import norm\n",
    "from scipy.linalg import eigh\n"
   ]
  },
  {
   "cell_type": "code",
   "execution_count": 2,
   "id": "cc376cfe-faa5-4c7d-b07a-def3187f3675",
   "metadata": {
    "tags": []
   },
   "outputs": [
    {
     "ename": "IndentationError",
     "evalue": "expected an indented block (3518941058.py, line 1)",
     "output_type": "error",
     "traceback": [
      "\u001b[1;36m  Input \u001b[1;32mIn [2]\u001b[1;36m\u001b[0m\n\u001b[1;33m    def setup():\u001b[0m\n\u001b[1;37m                ^\u001b[0m\n\u001b[1;31mIndentationError\u001b[0m\u001b[1;31m:\u001b[0m expected an indented block\n"
     ]
    }
   ],
   "source": [
    "def setup():\n",
    "    #defina eixo de cordenada\n",
    "    x_axis=np.array([1,0])\n",
    "    y_axis=np.array([0,1])\n",
    "    \n",
    "    #defina o modelo\n",
    "    nodes:{1:[0,10],2:[0,0],3:[10,5]}\n",
    "    degrees_of_freedom = { 1:[1,2], 2:[3,4], 3:[5,6] }\n",
    "    elements= { 1:[1,3], 2:[2,3] }\n",
    "    restrained_dofs    = [1, 2, 3, 4]\n",
    "    forces             = { 1:[0,0], 2:[0,0], 3:[0,-200] }\n",
    "    return properties"
   ]
  },
  {
   "cell_type": "code",
   "execution_count": null,
   "id": "4186e4b4-e056-47eb-bc05-3eb5ba2febd9",
   "metadata": {},
   "outputs": [],
   "source": [
    "def get_matrices(properties):\n",
    "    \n",
    "    return M,K,F"
   ]
  },
  {
   "cell_type": "code",
   "execution_count": 3,
   "id": "a8b96e0d-cee6-4000-95d8-bfe1030c7acc",
   "metadata": {},
   "outputs": [],
   "source": [
    "def main():\n",
    "    #descrição do problema\n",
    "    \n",
    "    #achar as matrizes de rigidez\n",
    "    M,K,F=get_matrices(properties)\n",
    "    #frequencias naturais\n",
    "    \n",
    "    #força e deslocamento"
   ]
  },
  {
   "cell_type": "code",
   "execution_count": null,
   "id": "ff38cfbe-cc50-4b17-b9e7-7a79d66e40c5",
   "metadata": {},
   "outputs": [],
   "source": [
    "cont=plt.contour(x1,y1,WW(x1,y1),levels=20)"
   ]
  }
 ],
 "metadata": {
  "kernelspec": {
   "display_name": "Python 3 (ipykernel)",
   "language": "python",
   "name": "python3"
  },
  "language_info": {
   "codemirror_mode": {
    "name": "ipython",
    "version": 3
   },
   "file_extension": ".py",
   "mimetype": "text/x-python",
   "name": "python",
   "nbconvert_exporter": "python",
   "pygments_lexer": "ipython3",
   "version": "3.9.12"
  }
 },
 "nbformat": 4,
 "nbformat_minor": 5
}
