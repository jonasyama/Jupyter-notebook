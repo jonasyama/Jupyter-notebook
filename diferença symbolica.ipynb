{
 "cells": [
  {
   "cell_type": "code",
   "execution_count": 1,
   "id": "1ae35268-9794-419b-a05a-afde89d9fdf2",
   "metadata": {},
   "outputs": [],
   "source": [
    "import numpy as np \n",
    "import sys\n",
    "import matplotlib.pyplot as plt\n",
    "from scipy.ndimage import convolve, generate_binary_structure\n",
    "from sympy import *\n",
    "import sympy as smp"
   ]
  },
  {
   "cell_type": "code",
   "execution_count": 16,
   "id": "8789c9f2-e40f-4a91-86fc-fb4a164336ca",
   "metadata": {},
   "outputs": [],
   "source": [
    "x,y,d,=smp.symbols('x y d')\n",
    "n,i,j=smp.symbols('n i j', int=True)\n",
    "n=6\n",
    "w = smp.MatrixSymbol('w', n, n)\n",
    "w=smp.Matrix(w)\n",
    "p1= smp.symbols('p1', cls=smp.Function)\n",
    "p1=p1(x,y)\n",
    "p1=1\n",
    "d=10000"
   ]
  },
  {
   "cell_type": "code",
   "execution_count": 17,
   "id": "eb5f8579-9a2e-4135-b407-1716e23b0c1d",
   "metadata": {},
   "outputs": [
    {
     "data": {
      "text/latex": [
       "$\\displaystyle \\left[\\begin{array}{cccccc}0 & 0 & - w_{2, 2} & - w_{2, 3} & 0 & 0\\\\0 & 0 & 0 & 0 & 0 & 0\\\\- w_{2, 2} & 0 & w_{2, 2} & w_{2, 3} & 0 & - w_{2, 3}\\\\- w_{3, 2} & 0 & w_{3, 2} & w_{3, 3} & 0 & - w_{3, 3}\\\\0 & 0 & 0 & 0 & 0 & 0\\\\0 & 0 & - w_{3, 2} & - w_{3, 3} & 0 & 0\\end{array}\\right]$"
      ],
      "text/plain": [
       "Matrix([\n",
       "[       0, 0, -w[2, 2], -w[2, 3], 0,        0],\n",
       "[       0, 0,        0,        0, 0,        0],\n",
       "[-w[2, 2], 0,  w[2, 2],  w[2, 3], 0, -w[2, 3]],\n",
       "[-w[3, 2], 0,  w[3, 2],  w[3, 3], 0, -w[3, 3]],\n",
       "[       0, 0,        0,        0, 0,        0],\n",
       "[       0, 0, -w[3, 2], -w[3, 3], 0,        0]])"
      ]
     },
     "execution_count": 17,
     "metadata": {},
     "output_type": "execute_result"
    }
   ],
   "source": [
    "w.row_op(1,lambda i, j: 0)\n",
    "w.col_op(1,lambda i, j: 0)\n",
    "w.col_op(-2,lambda i, j: 0)\n",
    "w.row_op(-2,lambda i, j: 0)\n",
    "\n",
    "\n",
    "for i in range(n):\n",
    "    w[i,0]=-w[i,2]\n",
    "    w[0,i]=-w[2,i]\n",
    "    w[i,-1]=-w[i,-3]\n",
    "    w[-1,i]=-w[-3,i]\n",
    "w[0,0]=0\n",
    "w[0,-1]=0\n",
    "w[-1,0]=0\n",
    "w[-1,-1]=0\n",
    "w"
   ]
  },
  {
   "cell_type": "code",
   "execution_count": 18,
   "id": "431b83c1-4bc6-4b2d-bd46-69a4da7abe29",
   "metadata": {},
   "outputs": [],
   "source": [
    "#w.col_swap(0,2)\n",
    "#w.row_swap(0,2)\n",
    "w[0,0]=0\n",
    "w[0,-1]=0\n",
    "w[-1,0]=0\n",
    "w[-1,-1]=0"
   ]
  },
  {
   "cell_type": "code",
   "execution_count": 19,
   "id": "4108a299-72b9-4477-bc61-a944225d3bfb",
   "metadata": {},
   "outputs": [
    {
     "data": {
      "text/latex": [
       "$\\displaystyle \\left[\\begin{matrix}0 & 0 & 0 & 0 & 0 & 0\\\\0 & 0 & 0 & 0 & 0 & 0\\\\0 & 0 & - 4 w_{2, 2} + w_{2, 3} + w_{3, 2} & w_{2, 2} - 4 w_{2, 3} + w_{3, 3} & 0 & 0\\\\0 & 0 & w_{2, 2} - 4 w_{3, 2} + w_{3, 3} & w_{2, 3} + w_{3, 2} - 4 w_{3, 3} & 0 & 0\\\\0 & 0 & 0 & 0 & 0 & 0\\\\0 & 0 & 0 & 0 & 0 & 0\\end{matrix}\\right]$"
      ],
      "text/plain": [
       "Matrix([\n",
       "[0, 0,                              0,                             0, 0, 0],\n",
       "[0, 0,                              0,                             0, 0, 0],\n",
       "[0, 0, -4*w[2, 2] + w[2, 3] + w[3, 2], w[2, 2] - 4*w[2, 3] + w[3, 3], 0, 0],\n",
       "[0, 0,  w[2, 2] - 4*w[3, 2] + w[3, 3], w[2, 3] + w[3, 2] - 4*w[3, 3], 0, 0],\n",
       "[0, 0,                              0,                             0, 0, 0],\n",
       "[0, 0,                              0,                             0, 0, 0]])"
      ]
     },
     "execution_count": 19,
     "metadata": {},
     "output_type": "execute_result"
    }
   ],
   "source": [
    "A=zeros(n)\n",
    "\n",
    "def lap(w):\n",
    "    for i in range(2,n-2):\n",
    "        for j in range(2,n-2):\n",
    "            A[i,j]=-4*w[i,j]\n",
    "            A[i,j]+=w[i-1,j]\n",
    "            A[i,j]+=w[i+1,j]\n",
    "            A[i,j]+=w[i,j-1]\n",
    "            A[i,j]+=w[i,j+1]\n",
    "    return A\n",
    "                  \n",
    "lap(w)"
   ]
  },
  {
   "cell_type": "code",
   "execution_count": 20,
   "id": "7f9425d2-87cd-45ee-9784-5ee135cb24a6",
   "metadata": {},
   "outputs": [],
   "source": [
    "p=ones(n-4)\n",
    "P=p1*p/d"
   ]
  },
  {
   "cell_type": "code",
   "execution_count": 21,
   "id": "98ae53c2-13cd-4b7e-95ac-7ce179d94737",
   "metadata": {},
   "outputs": [
    {
     "data": {
      "text/latex": [
       "$\\displaystyle \\left[\\begin{matrix}0 & 0 & 0 & 0 & 0 & 0\\\\0 & 0 & 0 & 0 & 0 & 0\\\\0 & 0 & - 4 w_{2, 2} + w_{2, 3} + w_{3, 2} + \\frac{1}{10000} & w_{2, 2} - 4 w_{2, 3} + w_{3, 3} + \\frac{1}{10000} & 0 & 0\\\\0 & 0 & w_{2, 2} - 4 w_{3, 2} + w_{3, 3} + \\frac{1}{10000} & w_{2, 3} + w_{3, 2} - 4 w_{3, 3} + \\frac{1}{10000} & 0 & 0\\\\0 & 0 & 0 & 0 & 0 & 0\\\\0 & 0 & 0 & 0 & 0 & 0\\end{matrix}\\right]$"
      ],
      "text/plain": [
       "Matrix([\n",
       "[0, 0,                                        0,                                       0, 0, 0],\n",
       "[0, 0,                                        0,                                       0, 0, 0],\n",
       "[0, 0, -4*w[2, 2] + w[2, 3] + w[3, 2] + 1/10000, w[2, 2] - 4*w[2, 3] + w[3, 3] + 1/10000, 0, 0],\n",
       "[0, 0,  w[2, 2] - 4*w[3, 2] + w[3, 3] + 1/10000, w[2, 3] + w[3, 2] - 4*w[3, 3] + 1/10000, 0, 0],\n",
       "[0, 0,                                        0,                                       0, 0, 0],\n",
       "[0, 0,                                        0,                                       0, 0, 0]])"
      ]
     },
     "execution_count": 21,
     "metadata": {},
     "output_type": "execute_result"
    }
   ],
   "source": [
    "for i in range(2,n-2):\n",
    "        for j in range(2,n-2):\n",
    "            A[i,j]=A[i,j]+P[i-2,j-2]\n",
    "A"
   ]
  },
  {
   "cell_type": "code",
   "execution_count": 23,
   "id": "423cf9e9-31dc-42b2-b0af-7681549ee484",
   "metadata": {},
   "outputs": [
    {
     "name": "stdout",
     "output_type": "stream",
     "text": [
      "-4*w[2, 2] + w[2, 3] + w[3, 2] + 1/10000\n",
      "w[2, 2] - 4*w[2, 3] + w[3, 3] + 1/10000\n",
      "w[2, 2] - 4*w[3, 2] + w[3, 3] + 1/10000\n",
      "w[2, 3] + w[3, 2] - 4*w[3, 3] + 1/10000\n"
     ]
    }
   ],
   "source": [
    "Eq=A.reshape(1,n**2)\n",
    "for i in range(len(Eq)):\n",
    "    if Eq[i]!=0:\n",
    "        print(Eq[i])\n"
   ]
  },
  {
   "cell_type": "code",
   "execution_count": 9,
   "id": "4d897a60-bbd2-4506-a604-866d4dfe7e53",
   "metadata": {},
   "outputs": [
    {
     "data": {
      "text/latex": [
       "$\\displaystyle w_{4, 5} + w_{5, 4} - 4 w_{5, 5} + 0.0001$"
      ],
      "text/plain": [
       "w[4, 5] + w[5, 4] - 4*w[5, 5] + 0.0001"
      ]
     },
     "execution_count": 9,
     "metadata": {},
     "output_type": "execute_result"
    }
   ],
   "source": [
    "-4*w[2, 2] + w[2, 3] + w[3, 2] + 1/10000\n",
    "w[2, 2] - 4*w[2, 3] + w[2, 4] + w[3, 3] + 1/10000\n",
    "w[2, 3] - 4*w[2, 4] + w[2, 5] + w[3, 4] + 1/10000\n",
    "w[2, 4] - 4*w[2, 5] + w[3, 5] + 1/10000\n",
    "w[2, 2] - 4*w[3, 2] + w[3, 3] + w[4, 2] + 1/10000\n",
    "w[2, 3] + w[3, 2] - 4*w[3, 3] + w[3, 4] + w[4, 3] + 1/10000\n",
    "w[2, 4] + w[3, 3] - 4*w[3, 4] + w[3, 5] + w[4, 4] + 1/10000\n",
    "w[2, 5] + w[3, 4] - 4*w[3, 5] + w[4, 5] + 1/10000\n",
    "w[3, 2] - 4*w[4, 2] + w[4, 3] + w[5, 2] + 1/10000\n",
    "w[3, 3] + w[4, 2] - 4*w[4, 3] + w[4, 4] + w[5, 3] + 1/10000\n",
    "w[3, 4] + w[4, 3] - 4*w[4, 4] + w[4, 5] + w[5, 4] + 1/10000\n",
    "w[3, 5] + w[4, 4] - 4*w[4, 5] + w[5, 5] + 1/10000\n",
    "w[4, 2] - 4*w[5, 2] + w[5, 3] + 1/10000\n",
    "w[4, 3] + w[5, 2] - 4*w[5, 3] + w[5, 4] + 1/10000\n",
    "w[4, 4] + w[5, 3] - 4*w[5, 4] + w[5, 5] + 1/10000\n",
    "w[4, 5] + w[5, 4] - 4*w[5, 5] + 1/10000"
   ]
  },
  {
   "cell_type": "code",
   "execution_count": 42,
   "id": "18da10d2-4e48-45f4-bfe7-984ec8b63fd4",
   "metadata": {},
   "outputs": [
    {
     "ename": "IndexError",
     "evalue": "Index out of range: a[1]",
     "output_type": "error",
     "traceback": [
      "\u001b[1;31m---------------------------------------------------------------------------\u001b[0m",
      "\u001b[1;31mIndexError\u001b[0m                                Traceback (most recent call last)",
      "Input \u001b[1;32mIn [42]\u001b[0m, in \u001b[0;36m<cell line: 11>\u001b[1;34m()\u001b[0m\n\u001b[0;32m      8\u001b[0m x3\u001b[38;5;241m=\u001b[39mx[\u001b[38;5;241m20\u001b[39m]\n\u001b[0;32m      9\u001b[0m x4\u001b[38;5;241m=\u001b[39mx[\u001b[38;5;241m21\u001b[39m]\n\u001b[1;32m---> 11\u001b[0m \u001b[43msmp\u001b[49m\u001b[38;5;241;43m.\u001b[39;49m\u001b[43msolve\u001b[49m\u001b[43m(\u001b[49m\u001b[43m[\u001b[49m\u001b[43mx1\u001b[49m\u001b[43m,\u001b[49m\u001b[43mx2\u001b[49m\u001b[43m,\u001b[49m\u001b[43mx3\u001b[49m\u001b[43m,\u001b[49m\u001b[43mx4\u001b[49m\u001b[43m]\u001b[49m\u001b[43m,\u001b[49m\u001b[43m[\u001b[49m\u001b[43mw\u001b[49m\u001b[43m[\u001b[49m\u001b[38;5;241;43m2\u001b[39;49m\u001b[43m,\u001b[49m\u001b[38;5;241;43m2\u001b[39;49m\u001b[43m]\u001b[49m\u001b[43m]\u001b[49m\u001b[43m)\u001b[49m\n",
      "File \u001b[1;32m~\\anaconda3\\lib\\site-packages\\sympy\\solvers\\solvers.py:1108\u001b[0m, in \u001b[0;36msolve\u001b[1;34m(f, *symbols, **flags)\u001b[0m\n\u001b[0;32m   1106\u001b[0m     solution \u001b[38;5;241m=\u001b[39m _solve(f[\u001b[38;5;241m0\u001b[39m], \u001b[38;5;241m*\u001b[39msymbols, \u001b[38;5;241m*\u001b[39m\u001b[38;5;241m*\u001b[39mflags)\n\u001b[0;32m   1107\u001b[0m \u001b[38;5;28;01melse\u001b[39;00m:\n\u001b[1;32m-> 1108\u001b[0m     solution \u001b[38;5;241m=\u001b[39m _solve_system(f, symbols, \u001b[38;5;241m*\u001b[39m\u001b[38;5;241m*\u001b[39mflags)\n\u001b[0;32m   1110\u001b[0m \u001b[38;5;66;03m#\u001b[39;00m\n\u001b[0;32m   1111\u001b[0m \u001b[38;5;66;03m# postprocessing\u001b[39;00m\n\u001b[0;32m   1112\u001b[0m \u001b[38;5;66;03m###########################################################################\u001b[39;00m\n\u001b[0;32m   1113\u001b[0m \u001b[38;5;66;03m# Restore masked-off objects\u001b[39;00m\n\u001b[0;32m   1114\u001b[0m \u001b[38;5;28;01mif\u001b[39;00m non_inverts:\n",
      "File \u001b[1;32m~\\anaconda3\\lib\\site-packages\\sympy\\solvers\\solvers.py:1768\u001b[0m, in \u001b[0;36m_solve_system\u001b[1;34m(exprs, symbols, **flags)\u001b[0m\n\u001b[0;32m   1766\u001b[0m subsyms \u001b[38;5;241m=\u001b[39m \u001b[38;5;28mlist\u001b[39m(\u001b[38;5;28msorted\u001b[39m(subsyms, key \u001b[38;5;241m=\u001b[39m \u001b[38;5;28;01mlambda\u001b[39;00m x: sym_indices[x]))\n\u001b[0;32m   1767\u001b[0m flags[\u001b[38;5;124m'\u001b[39m\u001b[38;5;124m_split\u001b[39m\u001b[38;5;124m'\u001b[39m] \u001b[38;5;241m=\u001b[39m \u001b[38;5;28;01mFalse\u001b[39;00m  \u001b[38;5;66;03m# skip split step\u001b[39;00m\n\u001b[1;32m-> 1768\u001b[0m subsol \u001b[38;5;241m=\u001b[39m _solve_system(subexpr, subsyms, \u001b[38;5;241m*\u001b[39m\u001b[38;5;241m*\u001b[39mflags)\n\u001b[0;32m   1769\u001b[0m \u001b[38;5;28;01mif\u001b[39;00m \u001b[38;5;129;01mnot\u001b[39;00m \u001b[38;5;28misinstance\u001b[39m(subsol, \u001b[38;5;28mlist\u001b[39m):\n\u001b[0;32m   1770\u001b[0m     subsol \u001b[38;5;241m=\u001b[39m [subsol]\n",
      "File \u001b[1;32m~\\anaconda3\\lib\\site-packages\\sympy\\solvers\\solvers.py:1817\u001b[0m, in \u001b[0;36m_solve_system\u001b[1;34m(exprs, symbols, **flags)\u001b[0m\n\u001b[0;32m   1815\u001b[0m \u001b[38;5;28;01mtry\u001b[39;00m:\n\u001b[0;32m   1816\u001b[0m     j \u001b[38;5;241m=\u001b[39m monom\u001b[38;5;241m.\u001b[39mindex(\u001b[38;5;241m1\u001b[39m)\n\u001b[1;32m-> 1817\u001b[0m     matrix[i, j] \u001b[38;5;241m=\u001b[39m coeff\n\u001b[0;32m   1818\u001b[0m \u001b[38;5;28;01mexcept\u001b[39;00m \u001b[38;5;167;01mValueError\u001b[39;00m:\n\u001b[0;32m   1819\u001b[0m     matrix[i, m] \u001b[38;5;241m=\u001b[39m \u001b[38;5;241m-\u001b[39mcoeff\n",
      "File \u001b[1;32m~\\anaconda3\\lib\\site-packages\\sympy\\matrices\\repmatrix.py:400\u001b[0m, in \u001b[0;36mMutableRepMatrix.__setitem__\u001b[1;34m(self, key, value)\u001b[0m\n\u001b[0;32m    360\u001b[0m \u001b[38;5;28;01mdef\u001b[39;00m \u001b[38;5;21m__setitem__\u001b[39m(\u001b[38;5;28mself\u001b[39m, key, value):\n\u001b[0;32m    361\u001b[0m     \u001b[38;5;124;03m\"\"\"\u001b[39;00m\n\u001b[0;32m    362\u001b[0m \n\u001b[0;32m    363\u001b[0m \u001b[38;5;124;03m    Examples\u001b[39;00m\n\u001b[1;32m   (...)\u001b[0m\n\u001b[0;32m    398\u001b[0m \u001b[38;5;124;03m    [2, 2, 4, 2]])\u001b[39;00m\n\u001b[0;32m    399\u001b[0m \u001b[38;5;124;03m    \"\"\"\u001b[39;00m\n\u001b[1;32m--> 400\u001b[0m     rv \u001b[38;5;241m=\u001b[39m \u001b[38;5;28;43mself\u001b[39;49m\u001b[38;5;241;43m.\u001b[39;49m\u001b[43m_setitem\u001b[49m\u001b[43m(\u001b[49m\u001b[43mkey\u001b[49m\u001b[43m,\u001b[49m\u001b[43m \u001b[49m\u001b[43mvalue\u001b[49m\u001b[43m)\u001b[49m\n\u001b[0;32m    401\u001b[0m     \u001b[38;5;28;01mif\u001b[39;00m rv \u001b[38;5;129;01mis\u001b[39;00m \u001b[38;5;129;01mnot\u001b[39;00m \u001b[38;5;28;01mNone\u001b[39;00m:\n\u001b[0;32m    402\u001b[0m         i, j, value \u001b[38;5;241m=\u001b[39m rv\n",
      "File \u001b[1;32m~\\anaconda3\\lib\\site-packages\\sympy\\matrices\\matrices.py:1195\u001b[0m, in \u001b[0;36mMatrixBase._setitem\u001b[1;34m(self, key, value)\u001b[0m\n\u001b[0;32m   1192\u001b[0m \u001b[38;5;28;01mfrom\u001b[39;00m \u001b[38;5;21;01m.\u001b[39;00m\u001b[38;5;21;01mdense\u001b[39;00m \u001b[38;5;28;01mimport\u001b[39;00m Matrix\n\u001b[0;32m   1194\u001b[0m is_slice \u001b[38;5;241m=\u001b[39m \u001b[38;5;28misinstance\u001b[39m(key, \u001b[38;5;28mslice\u001b[39m)\n\u001b[1;32m-> 1195\u001b[0m i, j \u001b[38;5;241m=\u001b[39m key \u001b[38;5;241m=\u001b[39m \u001b[38;5;28;43mself\u001b[39;49m\u001b[38;5;241;43m.\u001b[39;49m\u001b[43mkey2ij\u001b[49m\u001b[43m(\u001b[49m\u001b[43mkey\u001b[49m\u001b[43m)\u001b[49m\n\u001b[0;32m   1196\u001b[0m is_mat \u001b[38;5;241m=\u001b[39m \u001b[38;5;28misinstance\u001b[39m(value, MatrixBase)\n\u001b[0;32m   1197\u001b[0m \u001b[38;5;28;01mif\u001b[39;00m \u001b[38;5;28misinstance\u001b[39m(i, \u001b[38;5;28mslice\u001b[39m) \u001b[38;5;129;01mor\u001b[39;00m \u001b[38;5;28misinstance\u001b[39m(j, \u001b[38;5;28mslice\u001b[39m):\n",
      "File \u001b[1;32m~\\anaconda3\\lib\\site-packages\\sympy\\matrices\\matrices.py:1857\u001b[0m, in \u001b[0;36mMatrixBase.key2ij\u001b[1;34m(self, key)\u001b[0m\n\u001b[0;32m   1855\u001b[0m     \u001b[38;5;28;01mif\u001b[39;00m \u001b[38;5;129;01mnot\u001b[39;00m \u001b[38;5;28mlen\u001b[39m(key) \u001b[38;5;241m==\u001b[39m \u001b[38;5;241m2\u001b[39m:\n\u001b[0;32m   1856\u001b[0m         \u001b[38;5;28;01mraise\u001b[39;00m \u001b[38;5;167;01mTypeError\u001b[39;00m(\u001b[38;5;124m'\u001b[39m\u001b[38;5;124mkey must be a sequence of length 2\u001b[39m\u001b[38;5;124m'\u001b[39m)\n\u001b[1;32m-> 1857\u001b[0m     \u001b[38;5;28;01mreturn\u001b[39;00m [a2idx_(i, n) \u001b[38;5;28;01mif\u001b[39;00m \u001b[38;5;129;01mnot\u001b[39;00m \u001b[38;5;28misinstance\u001b[39m(i, \u001b[38;5;28mslice\u001b[39m) \u001b[38;5;28;01melse\u001b[39;00m i\n\u001b[0;32m   1858\u001b[0m             \u001b[38;5;28;01mfor\u001b[39;00m i, n \u001b[38;5;129;01min\u001b[39;00m \u001b[38;5;28mzip\u001b[39m(key, \u001b[38;5;28mself\u001b[39m\u001b[38;5;241m.\u001b[39mshape)]\n\u001b[0;32m   1859\u001b[0m \u001b[38;5;28;01melif\u001b[39;00m \u001b[38;5;28misinstance\u001b[39m(key, \u001b[38;5;28mslice\u001b[39m):\n\u001b[0;32m   1860\u001b[0m     \u001b[38;5;28;01mreturn\u001b[39;00m key\u001b[38;5;241m.\u001b[39mindices(\u001b[38;5;28mlen\u001b[39m(\u001b[38;5;28mself\u001b[39m))[:\u001b[38;5;241m2\u001b[39m]\n",
      "File \u001b[1;32m~\\anaconda3\\lib\\site-packages\\sympy\\matrices\\matrices.py:1857\u001b[0m, in \u001b[0;36m<listcomp>\u001b[1;34m(.0)\u001b[0m\n\u001b[0;32m   1855\u001b[0m     \u001b[38;5;28;01mif\u001b[39;00m \u001b[38;5;129;01mnot\u001b[39;00m \u001b[38;5;28mlen\u001b[39m(key) \u001b[38;5;241m==\u001b[39m \u001b[38;5;241m2\u001b[39m:\n\u001b[0;32m   1856\u001b[0m         \u001b[38;5;28;01mraise\u001b[39;00m \u001b[38;5;167;01mTypeError\u001b[39;00m(\u001b[38;5;124m'\u001b[39m\u001b[38;5;124mkey must be a sequence of length 2\u001b[39m\u001b[38;5;124m'\u001b[39m)\n\u001b[1;32m-> 1857\u001b[0m     \u001b[38;5;28;01mreturn\u001b[39;00m [\u001b[43ma2idx_\u001b[49m\u001b[43m(\u001b[49m\u001b[43mi\u001b[49m\u001b[43m,\u001b[49m\u001b[43m \u001b[49m\u001b[43mn\u001b[49m\u001b[43m)\u001b[49m \u001b[38;5;28;01mif\u001b[39;00m \u001b[38;5;129;01mnot\u001b[39;00m \u001b[38;5;28misinstance\u001b[39m(i, \u001b[38;5;28mslice\u001b[39m) \u001b[38;5;28;01melse\u001b[39;00m i\n\u001b[0;32m   1858\u001b[0m             \u001b[38;5;28;01mfor\u001b[39;00m i, n \u001b[38;5;129;01min\u001b[39;00m \u001b[38;5;28mzip\u001b[39m(key, \u001b[38;5;28mself\u001b[39m\u001b[38;5;241m.\u001b[39mshape)]\n\u001b[0;32m   1859\u001b[0m \u001b[38;5;28;01melif\u001b[39;00m \u001b[38;5;28misinstance\u001b[39m(key, \u001b[38;5;28mslice\u001b[39m):\n\u001b[0;32m   1860\u001b[0m     \u001b[38;5;28;01mreturn\u001b[39;00m key\u001b[38;5;241m.\u001b[39mindices(\u001b[38;5;28mlen\u001b[39m(\u001b[38;5;28mself\u001b[39m))[:\u001b[38;5;241m2\u001b[39m]\n",
      "File \u001b[1;32m~\\anaconda3\\lib\\site-packages\\sympy\\matrices\\common.py:3257\u001b[0m, in \u001b[0;36ma2idx\u001b[1;34m(j, n)\u001b[0m\n\u001b[0;32m   3255\u001b[0m         j \u001b[38;5;241m+\u001b[39m\u001b[38;5;241m=\u001b[39m n\n\u001b[0;32m   3256\u001b[0m     \u001b[38;5;28;01mif\u001b[39;00m \u001b[38;5;129;01mnot\u001b[39;00m (j \u001b[38;5;241m>\u001b[39m\u001b[38;5;241m=\u001b[39m \u001b[38;5;241m0\u001b[39m \u001b[38;5;129;01mand\u001b[39;00m j \u001b[38;5;241m<\u001b[39m n):\n\u001b[1;32m-> 3257\u001b[0m         \u001b[38;5;28;01mraise\u001b[39;00m \u001b[38;5;167;01mIndexError\u001b[39;00m(\u001b[38;5;124m\"\u001b[39m\u001b[38;5;124mIndex out of range: a[\u001b[39m\u001b[38;5;132;01m%s\u001b[39;00m\u001b[38;5;124m]\u001b[39m\u001b[38;5;124m\"\u001b[39m \u001b[38;5;241m%\u001b[39m (j,))\n\u001b[0;32m   3258\u001b[0m \u001b[38;5;28;01mreturn\u001b[39;00m \u001b[38;5;28mint\u001b[39m(j)\n",
      "\u001b[1;31mIndexError\u001b[0m: Index out of range: a[1]"
     ]
    }
   ],
   "source": [
    "x = dict()\n",
    "for i in range(len(Eq)):\n",
    "    if Eq[i]!=0:\n",
    "        x[i] = Eq[i]\n",
    "\n",
    "x1=x[14]\n",
    "x2=x[15]\n",
    "x3=x[20]\n",
    "x4=x[21]\n",
    "\n",
    "smp.solve([x1,x2,x3,x4],[w[2,2]])"
   ]
  },
  {
   "cell_type": "code",
   "execution_count": 37,
   "id": "3d295457-fe40-47f0-8865-0d3eec32fb59",
   "metadata": {},
   "outputs": [
    {
     "ename": "ValueError",
     "evalue": "\nExpecting a Symbol but got w[2, 2]",
     "output_type": "error",
     "traceback": [
      "\u001b[1;31m---------------------------------------------------------------------------\u001b[0m",
      "\u001b[1;31mValueError\u001b[0m                                Traceback (most recent call last)",
      "Input \u001b[1;32mIn [37]\u001b[0m, in \u001b[0;36m<cell line: 1>\u001b[1;34m()\u001b[0m\n\u001b[1;32m----> 1\u001b[0m \u001b[43msmp\u001b[49m\u001b[38;5;241;43m.\u001b[39;49m\u001b[43mlinear_eq_to_matrix\u001b[49m\u001b[43m(\u001b[49m\u001b[43mx1\u001b[49m\u001b[43m,\u001b[49m\u001b[43m \u001b[49m\u001b[43mw\u001b[49m\u001b[43m[\u001b[49m\u001b[38;5;241;43m2\u001b[39;49m\u001b[43m,\u001b[49m\u001b[38;5;241;43m2\u001b[39;49m\u001b[43m]\u001b[49m\u001b[43m)\u001b[49m\n",
      "File \u001b[1;32m~\\anaconda3\\lib\\site-packages\\sympy\\solvers\\solveset.py:2564\u001b[0m, in \u001b[0;36mlinear_eq_to_matrix\u001b[1;34m(equations, *symbols)\u001b[0m\n\u001b[0;32m   2562\u001b[0m \u001b[38;5;28;01mfor\u001b[39;00m i \u001b[38;5;129;01min\u001b[39;00m symbols:\n\u001b[0;32m   2563\u001b[0m     \u001b[38;5;28;01mif\u001b[39;00m \u001b[38;5;129;01mnot\u001b[39;00m \u001b[38;5;28misinstance\u001b[39m(i, Symbol):\n\u001b[1;32m-> 2564\u001b[0m         \u001b[38;5;28;01mraise\u001b[39;00m \u001b[38;5;167;01mValueError\u001b[39;00m(filldedent(\u001b[38;5;124m'''\u001b[39m\n\u001b[0;32m   2565\u001b[0m \u001b[38;5;124m        Expecting a Symbol but got \u001b[39m\u001b[38;5;132;01m%s\u001b[39;00m\n\u001b[0;32m   2566\u001b[0m \u001b[38;5;124m        \u001b[39m\u001b[38;5;124m'''\u001b[39m \u001b[38;5;241m%\u001b[39m i))\n\u001b[0;32m   2568\u001b[0m \u001b[38;5;28;01mif\u001b[39;00m has_dups(symbols):\n\u001b[0;32m   2569\u001b[0m     \u001b[38;5;28;01mraise\u001b[39;00m \u001b[38;5;167;01mValueError\u001b[39;00m(\u001b[38;5;124m'\u001b[39m\u001b[38;5;124mSymbols must be unique\u001b[39m\u001b[38;5;124m'\u001b[39m)\n",
      "\u001b[1;31mValueError\u001b[0m: \nExpecting a Symbol but got w[2, 2]"
     ]
    }
   ],
   "source": [
    "smp.linear_eq_to_matrix(x1, w[2,2])"
   ]
  },
  {
   "cell_type": "code",
   "execution_count": null,
   "id": "31a1519e-be17-45cc-b17b-8098f4f69127",
   "metadata": {},
   "outputs": [],
   "source": [
    "for i in range(len(x)):"
   ]
  },
  {
   "cell_type": "code",
   "execution_count": null,
   "id": "9779c490-e9a9-411e-9a5f-b3877c5e780a",
   "metadata": {},
   "outputs": [],
   "source": []
  }
 ],
 "metadata": {
  "kernelspec": {
   "display_name": "Python 3 (ipykernel)",
   "language": "python",
   "name": "python3"
  },
  "language_info": {
   "codemirror_mode": {
    "name": "ipython",
    "version": 3
   },
   "file_extension": ".py",
   "mimetype": "text/x-python",
   "name": "python",
   "nbconvert_exporter": "python",
   "pygments_lexer": "ipython3",
   "version": "3.9.12"
  }
 },
 "nbformat": 4,
 "nbformat_minor": 5
}
