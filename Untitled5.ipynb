{
 "cells": [
  {
   "cell_type": "code",
   "execution_count": 77,
   "id": "5b9b4e70-668e-4425-93b8-c4d89958c59f",
   "metadata": {},
   "outputs": [],
   "source": [
    "import numpy as np \n",
    "import sys\n",
    "import matplotlib.pyplot as plt\n",
    "import sympy as smp\n",
    "from scipy.ndimage import convolve, generate_binary_structure\n",
    "from sympy import *"
   ]
  },
  {
   "cell_type": "code",
   "execution_count": 2,
   "id": "fac0f4e8-e83d-445f-8e32-6fb7622250c9",
   "metadata": {},
   "outputs": [],
   "source": [
    "np.set_printoptions(edgeitems=127)"
   ]
  },
  {
   "cell_type": "code",
   "execution_count": 3,
   "id": "05d53630-3db7-4696-a8b4-605eec7a42ce",
   "metadata": {
    "tags": []
   },
   "outputs": [],
   "source": [
    "a=1\n",
    "n=5\n",
    "b=1\n",
    "x,y=smp.symbols('x y')\n",
    "i,j=smp.symbols('i j', int=True)\n",
    "p= smp.symbols('p', cls=smp.Function)\n",
    "p=smp.sin(x*smp.pi/a)*smp.sin(y*smp.pi/b)\n",
    "P=smp.lambdify([x,y],p)\n",
    "x1=np.linspace(0,a,n+2)\n",
    "y1=np.linspace(0,b,n+2)\n",
    "dx = x1[1]-x1[0]\n",
    "dy = y1[1]-y1[0]"
   ]
  },
  {
   "cell_type": "code",
   "execution_count": 4,
   "id": "626764c1-4d83-43dd-8668-4ba2077a8e4d",
   "metadata": {},
   "outputs": [
    {
     "data": {
      "text/plain": [
       "array([[0.00000000e+00, 0.00000000e+00, 0.00000000e+00, 0.00000000e+00,\n",
       "        0.00000000e+00, 0.00000000e+00, 0.00000000e+00],\n",
       "       [0.00000000e+00, 2.50000000e-01, 4.33012702e-01, 5.00000000e-01,\n",
       "        4.33012702e-01, 2.50000000e-01, 6.12323400e-17],\n",
       "       [0.00000000e+00, 4.33012702e-01, 7.50000000e-01, 8.66025404e-01,\n",
       "        7.50000000e-01, 4.33012702e-01, 1.06057524e-16],\n",
       "       [0.00000000e+00, 5.00000000e-01, 8.66025404e-01, 1.00000000e+00,\n",
       "        8.66025404e-01, 5.00000000e-01, 1.22464680e-16],\n",
       "       [0.00000000e+00, 4.33012702e-01, 7.50000000e-01, 8.66025404e-01,\n",
       "        7.50000000e-01, 4.33012702e-01, 1.06057524e-16],\n",
       "       [0.00000000e+00, 2.50000000e-01, 4.33012702e-01, 5.00000000e-01,\n",
       "        4.33012702e-01, 2.50000000e-01, 6.12323400e-17],\n",
       "       [0.00000000e+00, 6.12323400e-17, 1.06057524e-16, 1.22464680e-16,\n",
       "        1.06057524e-16, 6.12323400e-17, 1.49975978e-32]])"
      ]
     },
     "execution_count": 4,
     "metadata": {},
     "output_type": "execute_result"
    }
   ],
   "source": [
    "xv, yv = np.meshgrid(x1, y1)\n",
    "p=P(xv,yv)\n",
    "p.reshape(7,7)"
   ]
  },
  {
   "cell_type": "code",
   "execution_count": 5,
   "id": "0e6ff346-2d9c-480a-8e3d-9c2a7868e81f",
   "metadata": {},
   "outputs": [],
   "source": [
    "main_diag = -2*np.ones(n-1)\n",
    "off_diag = np.ones(n-2)\n",
    "derivative_matrix = (np.diag(main_diag) + np.diag(off_diag, k=1)+ np.diag(off_diag, k=-1))/dx**2\n",
    "x2_matrix = np.diag((10*x1[1:-1])**2)\n",
    "LHS_matrix = derivative_matrix #+ x2_matrix "
   ]
  },
  {
   "cell_type": "markdown",
   "id": "b9becf4b-8dd0-472e-be2d-6a0dc68d072f",
   "metadata": {},
   "source": [
    "condições de contorno"
   ]
  },
  {
   "cell_type": "code",
   "execution_count": 25,
   "id": "a7bed2d8-1cac-4c49-992b-8af08446d0fa",
   "metadata": {},
   "outputs": [
    {
     "data": {
      "text/plain": [
       "array([[ 1., -0., -1., -1., -1., -0.,  1.],\n",
       "       [-0.,  0.,  0.,  0.,  0.,  0., -0.],\n",
       "       [-1.,  0.,  1.,  1.,  1.,  0., -1.],\n",
       "       [-1.,  0.,  1.,  1.,  1.,  0., -1.],\n",
       "       [-1.,  0.,  1.,  1.,  1.,  0., -1.],\n",
       "       [-0.,  0.,  0.,  0.,  0.,  0., -0.],\n",
       "       [ 1., -0., -1., -1., -1., -0.,  1.]])"
      ]
     },
     "execution_count": 25,
     "metadata": {},
     "output_type": "execute_result"
    }
   ],
   "source": [
    "mi=np.ones((7,7))\n",
    "mi[1,:]=0\n",
    "mi[:,1]=0\n",
    "mi[:,-2]=0\n",
    "mi[-2:]=0\n",
    "mi[0,:]=-mi[2,:]\n",
    "mi[-1,:]=-mi[-3,:]\n",
    "mi[:,0]=-mi[:,2]\n",
    "mi[:,-1]=-mi[:,-3]\n",
    "\n",
    "mi"
   ]
  },
  {
   "cell_type": "code",
   "execution_count": 26,
   "id": "47fe7bb4-9f20-4029-a806-c380c79cff50",
   "metadata": {},
   "outputs": [
    {
     "data": {
      "text/plain": [
       "<matplotlib.contour.QuadContourSet at 0x17752cb5400>"
      ]
     },
     "execution_count": 26,
     "metadata": {},
     "output_type": "execute_result"
    },
    {
     "data": {
      "image/png": "[encoded data removed]",
      "text/plain": [
       "<Figure size 432x288 with 1 Axes>"
      ]
     },
     "metadata": {
      "needs_background": "light"
     },
     "output_type": "display_data"
    }
   ],
   "source": [
    "plt.contourf(xv, yv, P(xv,yv), 30)"
   ]
  },
  {
   "cell_type": "code",
   "execution_count": 31,
   "id": "716f5737-5f4d-4b61-bd92-cb764849de77",
   "metadata": {},
   "outputs": [
    {
     "data": {
      "text/plain": [
       "array([[ 6.,  1., -4., -5., -4.,  1.,  0.],\n",
       "       [ 1.,  0., -1., -1., -1.,  0.,  0.],\n",
       "       [-4.,  0.,  4.,  5.,  4.,  0.,  0.],\n",
       "       [-3.,  1.,  5.,  6.,  5.,  1.,  0.],\n",
       "       [-4.,  1.,  6.,  7.,  6.,  1.,  0.],\n",
       "       [-1.,  0.,  1.,  1.,  1.,  0.,  0.],\n",
       "       [ 0.,  0.,  0.,  0.,  0.,  0.,  0.]])"
      ]
     },
     "execution_count": 31,
     "metadata": {},
     "output_type": "execute_result"
    }
   ],
   "source": [
    "A=np.zeros((len(x1),len(y1)))\n",
    "\n",
    "\n",
    "for i in range(0,6):\n",
    "    for j in range(0,6):\n",
    "        A[i][j]=4*mi[i][j]-mi[i+1][j]+mi[i-1][i]+mi[i][j+1]+mi[i][j-1]\n",
    "A"
   ]
  },
  {
   "cell_type": "code",
   "execution_count": 30,
   "id": "bf5b1365-e1b9-45e9-aeb0-dcd91d50ca14",
   "metadata": {},
   "outputs": [
    {
     "name": "stdout",
     "output_type": "stream",
     "text": [
      "hi\n",
      "hi\n",
      "hi\n",
      "hi\n"
     ]
    }
   ],
   "source": [
    "for i in range(1,5):\n",
    "    print('hi')"
   ]
  },
  {
   "cell_type": "code",
   "execution_count": 32,
   "id": "43769c9d-e70b-434d-a0f1-afba682c375d",
   "metadata": {},
   "outputs": [
    {
     "data": {
      "text/plain": [
       "array([[ 1., -0., -1., -1., -1., -0.,  1.],\n",
       "       [-0.,  0.,  0.,  0.,  0.,  0., -0.],\n",
       "       [-1.,  0.,  1.,  1.,  1.,  0., -1.],\n",
       "       [-1.,  0.,  1.,  1.,  1.,  0., -1.],\n",
       "       [-1.,  0.,  1.,  1.,  1.,  0., -1.],\n",
       "       [-0.,  0.,  0.,  0.,  0.,  0., -0.],\n",
       "       [ 1., -0., -1., -1., -1., -0.,  1.]])"
      ]
     },
     "execution_count": 32,
     "metadata": {},
     "output_type": "execute_result"
    }
   ],
   "source": [
    "cu=np.round(mi,2)\n",
    "np.savetxt('oi',np.round(mi,2))\n",
    "cu"
   ]
  },
  {
   "cell_type": "code",
   "execution_count": 33,
   "id": "597365e7-60e9-423c-90dd-e66a4088736d",
   "metadata": {},
   "outputs": [],
   "source": [
    "mi[1,:]=0\n",
    "mi[:,1]=0\n",
    "mi[:,-2]=0\n",
    "mi[-2:]=0\n",
    "mi[0,:]=-mi[2,:]\n",
    "mi[-1,:]=-mi[-3,:]\n",
    "mi[:,0]=-mi[:,2]\n",
    "mi[:,-1]=-mi[:,-3]\n",
    "mi[0,0]=0\n",
    "mi[0,-1]=0\n",
    "mi[-1,0]=0\n",
    "mi[-1,-1]=0"
   ]
  },
  {
   "cell_type": "code",
   "execution_count": 34,
   "id": "f0bf7f0c-34f9-432a-8c05-459c473d7546",
   "metadata": {},
   "outputs": [
    {
     "data": {
      "text/plain": [
       "array([[ 0., -0., -1., -1., -1., -0.,  0.],\n",
       "       [-0.,  0.,  0.,  0.,  0.,  0., -0.],\n",
       "       [-1.,  0.,  1.,  1.,  1.,  0., -1.],\n",
       "       [-1.,  0.,  1.,  1.,  1.,  0., -1.],\n",
       "       [-1.,  0.,  1.,  1.,  1.,  0., -1.],\n",
       "       [-0.,  0.,  0.,  0.,  0.,  0., -0.],\n",
       "       [ 0., -0., -1., -1., -1., -0.,  0.]])"
      ]
     },
     "execution_count": 34,
     "metadata": {},
     "output_type": "execute_result"
    }
   ],
   "source": [
    "cu=np.round(mi,2)\n",
    "cu"
   ]
  },
  {
   "cell_type": "code",
   "execution_count": 41,
   "id": "96576586-8500-462c-89db-942b0ebaff4d",
   "metadata": {},
   "outputs": [
    {
     "ename": "ValueError",
     "evalue": "setting an array element with a sequence.",
     "output_type": "error",
     "traceback": [
      "\u001b[1;31m---------------------------------------------------------------------------\u001b[0m",
      "\u001b[1;31mTypeError\u001b[0m                                 Traceback (most recent call last)",
      "\u001b[1;31mTypeError\u001b[0m: float() argument must be a string or a number, not 'list'",
      "\nThe above exception was the direct cause of the following exception:\n",
      "\u001b[1;31mValueError\u001b[0m                                Traceback (most recent call last)",
      "Input \u001b[1;32mIn [41]\u001b[0m, in \u001b[0;36m<cell line: 2>\u001b[1;34m()\u001b[0m\n\u001b[0;32m      1\u001b[0m A\u001b[38;5;241m=\u001b[39mnp\u001b[38;5;241m.\u001b[39mzeros((\u001b[38;5;28mlen\u001b[39m(x1),\u001b[38;5;28mlen\u001b[39m(y1)))\n\u001b[1;32m----> 2\u001b[0m A[i][j]\u001b[38;5;241m=\u001b[39m[(\u001b[38;5;241m4\u001b[39m\u001b[38;5;241m*\u001b[39mmi[i][j]),(\u001b[38;5;241m-\u001b[39mmi[i\u001b[38;5;241m+\u001b[39m\u001b[38;5;241m1\u001b[39m][j]),\u001b[38;5;241m+\u001b[39m(mi[i\u001b[38;5;241m-\u001b[39m\u001b[38;5;241m1\u001b[39m][i]),(\u001b[38;5;241m+\u001b[39mmi[i][j\u001b[38;5;241m+\u001b[39m\u001b[38;5;241m1\u001b[39m]),(\u001b[38;5;241m+\u001b[39mmi[i][j\u001b[38;5;241m-\u001b[39m\u001b[38;5;241m1\u001b[39m])]\n",
      "\u001b[1;31mValueError\u001b[0m: setting an array element with a sequence."
     ]
    }
   ],
   "source": [
    "A=np.zeros((len(x1),len(y1)))\n",
    "c[][j]=[(4*mi[i][j]),(-mi[i+1][j]),+(mi[i-1][i]),(+mi[i][j+1]),(+mi[i][j-1])]\n"
   ]
  },
  {
   "cell_type": "code",
   "execution_count": 23,
   "id": "dd6b4b05-524c-49c7-b875-e7cfc8449501",
   "metadata": {},
   "outputs": [
    {
     "data": {
      "text/plain": [
       "array([[ 0.       , -0.       , -0.75     , -0.8660254, -0.75     ,\n",
       "        -0.       ,  0.       ],\n",
       "       [-0.       ,  0.       ,  0.       ,  0.       ,  0.       ,\n",
       "         0.       , -0.       ],\n",
       "       [-0.75     ,  0.       ,  0.75     ,  0.8660254,  0.75     ,\n",
       "         0.       , -0.75     ],\n",
       "       [-0.8660254,  0.       ,  0.8660254,  1.       ,  0.8660254,\n",
       "         0.       , -0.8660254],\n",
       "       [-0.75     ,  0.       ,  0.75     ,  0.8660254,  0.75     ,\n",
       "         0.       , -0.75     ],\n",
       "       [-0.       ,  0.       ,  0.       ,  0.       ,  0.       ,\n",
       "         0.       , -0.       ],\n",
       "       [ 0.       , -0.       , -0.75     , -0.8660254, -0.75     ,\n",
       "        -0.       ,  0.       ]])"
      ]
     },
     "execution_count": 23,
     "metadata": {},
     "output_type": "execute_result"
    }
   ],
   "source": []
  },
  {
   "cell_type": "code",
   "execution_count": 82,
   "id": "83a4d687-d579-4689-805b-c0eaf73a5f2b",
   "metadata": {},
   "outputs": [
    {
     "data": {
      "text/latex": [
       "$\\displaystyle \\left[\\begin{matrix}a_{0} & 1 & 1\\\\2 & 2 & 2\\end{matrix}\\right]$"
      ],
      "text/plain": [
       "Matrix([\n",
       "[a0, 1, 1],\n",
       "[ 2, 2, 2]])"
      ]
     },
     "execution_count": 82,
     "metadata": {},
     "output_type": "execute_result"
    }
   ],
   "source": [
    "c=smp.symbols(['a0:%d'%n])\n",
    "C=np.ones((3,3))\n",
    "D=Matrix([[c[0][0],1,1],[2,2,2]])\n",
    "D"
   ]
  },
  {
   "cell_type": "code",
   "execution_count": 89,
   "id": "57017dec-5866-4fdb-982a-c72118a46e4f",
   "metadata": {},
   "outputs": [
    {
     "data": {
      "text/latex": [
       "$\\displaystyle A$"
      ],
      "text/plain": [
       "A"
      ]
     },
     "execution_count": 89,
     "metadata": {},
     "output_type": "execute_result"
    }
   ],
   "source": [
    "A = sp.MatrixSymbol('A', 4, 3)\n",
    "A"
   ]
  },
  {
   "cell_type": "code",
   "execution_count": 91,
   "id": "6ba4c2a1-90a4-4e4a-a6f9-e1033538b23d",
   "metadata": {},
   "outputs": [
    {
     "data": {
      "text/latex": [
       "$\\displaystyle \\left[\\begin{array}{ccc}2 A_{0, 0} & 2 A_{0, 1} & 2 A_{0, 2}\\\\2 A_{1, 0} & 2 A_{1, 1} & 2 A_{1, 2}\\\\2 A_{2, 0} & 2 A_{2, 1} & 2 A_{2, 2}\\\\2 A_{3, 0} & 2 A_{3, 1} & 2 A_{3, 2}\\end{array}\\right]$"
      ],
      "text/plain": [
       "Matrix([\n",
       "[2*A[0, 0], 2*A[0, 1], 2*A[0, 2]],\n",
       "[2*A[1, 0], 2*A[1, 1], 2*A[1, 2]],\n",
       "[2*A[2, 0], 2*A[2, 1], 2*A[2, 2]],\n",
       "[2*A[3, 0], 2*A[3, 1], 2*A[3, 2]]])"
      ]
     },
     "execution_count": 91,
     "metadata": {},
     "output_type": "execute_result"
    }
   ],
   "source": [
    "2*sp.Matrix(A)"
   ]
  },
  {
   "cell_type": "code",
   "execution_count": null,
   "id": "a373bf6f-318a-44cc-aedc-4f01697075a7",
   "metadata": {},
   "outputs": [],
   "source": []
  }
 ],
 "metadata": {
  "kernelspec": {
   "display_name": "Python 3 (ipykernel)",
   "language": "python",
   "name": "python3"
  },
  "language_info": {
   "codemirror_mode": {
    "name": "ipython",
    "version": 3
   },
   "file_extension": ".py",
   "mimetype": "text/x-python",
   "name": "python",
   "nbconvert_exporter": "python",
   "pygments_lexer": "ipython3",
   "version": "3.9.12"
  }
 },
 "nbformat": 4,
 "nbformat_minor": 5
}
