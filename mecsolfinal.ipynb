{
 "cells": [
  {
   "cell_type": "code",
   "execution_count": 1,
   "id": "2f41e799-18f4-44ab-bd5d-2d3b7499b768",
   "metadata": {},
   "outputs": [],
   "source": [
    "import numpy as np \n",
    "import matplotlib.pyplot as plt\n",
    "import sympy as smp\n",
    "from sympy.plotting import plot\n",
    "import plotly.graph_objects as go\n",
    "from numpy import trapz\n"
   ]
  },
  {
   "cell_type": "code",
   "execution_count": 2,
   "id": "c986fff8-5061-43a4-9c34-614382bc54a4",
   "metadata": {},
   "outputs": [],
   "source": [
    "x,y,a,b,c,alfa,beta, sigma,lambd,kf,A,am,sigmay =smp.symbols('x y a b c α β σ γ k_f A amax σ_y')"
   ]
  },
  {
   "cell_type": "markdown",
   "id": "cb85bbbb-b0f4-41ea-816f-78724d40c3e3",
   "metadata": {},
   "source": [
    "### Tensão por Ilgris no furo eliptico\n"
   ]
  },
  {
   "cell_type": "code",
   "execution_count": 88,
   "id": "39197f0e-4625-4bf3-96d7-5f416105a598",
   "metadata": {
    "tags": []
   },
   "outputs": [
    {
     "data": {
      "text/plain": [
       "21.0"
      ]
     },
     "execution_count": 88,
     "metadata": {},
     "output_type": "execute_result"
    }
   ],
   "source": [
    "a=1\n",
    "b=0.004*1+0.096\n",
    "w=200\n",
    "t=9\n",
    "sigma=1\n",
    "smax=sigma*(1+2*a/b)\n",
    "smax"
   ]
  },
  {
   "cell_type": "markdown",
   "id": "a9e8e35a-2f0a-40df-9627-549e232958ad",
   "metadata": {},
   "source": [
    "### Tensão segundo o Artigo"
   ]
  },
  {
   "cell_type": "code",
   "execution_count": 89,
   "id": "ce46b0ae-47ff-4c88-8d92-9e8812215550",
   "metadata": {},
   "outputs": [
    {
     "data": {
      "text/latex": [
       "$\\displaystyle \\frac{0.009 x + \\left(0.8 x - 0.8 \\sqrt{x^{2} - 0.99}\\right) \\left(x^{2} - 0.99\\right)}{\\left(0.81 x^{2} - 0.8019\\right) \\sqrt{x^{2} - 0.99}} + 1$"
      ],
      "text/plain": [
       "(0.009*x + (0.8*x - 0.8*sqrt(x**2 - 0.99))*(x**2 - 0.99))/((0.81*x**2 - 0.8019)*sqrt(x**2 - 0.99)) + 1"
      ]
     },
     "execution_count": 89,
     "metadata": {},
     "output_type": "execute_result"
    }
   ],
   "source": [
    "sigmay=1+((a**2-2*a*b)*(x-smp.sqrt(x**2-a**2+b**2))*(x**2-a**2+b**2)+a*b**2*(a-b)*x)/((a-b)**2*(x**2-a**2+b**2)*smp.sqrt(x**2-a**2+b**2))\n",
    "sigmay"
   ]
  },
  {
   "cell_type": "code",
   "execution_count": 90,
   "id": "6204a02b-18e4-439e-af35-1e5a840249d7",
   "metadata": {},
   "outputs": [],
   "source": [
    "Sy=smp.lambdify(x,sigmay)"
   ]
  },
  {
   "cell_type": "code",
   "execution_count": 91,
   "id": "6da962c8-44ba-4051-b645-af3c8d7b8ed4",
   "metadata": {},
   "outputs": [
    {
     "data": {
      "text/plain": [
       "20.999999999999734"
      ]
     },
     "execution_count": 91,
     "metadata": {},
     "output_type": "execute_result"
    }
   ],
   "source": [
    "Sy(a)\n",
    "#tensão x=a (fim do entalho)"
   ]
  },
  {
   "cell_type": "code",
   "execution_count": 92,
   "id": "f109eb1b-2842-4823-9ac0-4c2f84e5a9ba",
   "metadata": {},
   "outputs": [
    {
     "data": {
      "text/plain": [
       "array([1.   , 1.001, 1.002, ..., 4.997, 4.998, 4.999])"
      ]
     },
     "execution_count": 92,
     "metadata": {},
     "output_type": "execute_result"
    }
   ],
   "source": [
    "X=np.arange(a,5,0.001)\n",
    "X\n",
    "# X indo de a ate 5 a cada 0.001"
   ]
  },
  {
   "cell_type": "code",
   "execution_count": 93,
   "id": "e05013fc-c95d-497e-ae85-ff0b659bcd3d",
   "metadata": {},
   "outputs": [
    {
     "data": {
      "text/plain": [
       "Text(0, 0.5, 'σy(mPa)')"
      ]
     },
     "execution_count": 93,
     "metadata": {},
     "output_type": "execute_result"
    },
    {
     "data": {
      "image/png": "[encoded data removed]",
      "text/plain": [
       "<Figure size 432x288 with 1 Axes>"
      ]
     },
     "metadata": {
      "needs_background": "light"
     },
     "output_type": "display_data"
    }
   ],
   "source": [
    "plt.plot(X,Sy(X))\n",
    "plt.xlabel('x(mm)')\n",
    "plt.ylabel('σy(mPa)')"
   ]
  },
  {
   "cell_type": "code",
   "execution_count": 94,
   "id": "41f0e277-358f-4f33-bd87-2448a5f7c372",
   "metadata": {
    "tags": []
   },
   "outputs": [],
   "source": [
    "Pref=np.zeros(len(X))\n",
    "S=Sy(X)\n",
    "P=np.zeros(len(X))\n",
    "A=np.zeros(len(X))\n",
    "D=np.zeros(len(X))\n",
    "for i in range(len(X)-1):\n",
    "    P[i]=(S[i]+S[i+1])/2*(X[1]-X[0])\n",
    "    Pref[i]=1*(X[1]-X[0])\n",
    "    D[i]=(X[i]+X[i+1])/2-X[0]\n",
    "    A[i]=X[i+1]-X[0]\n",
    "    \n",
    "#parametros P,A,D,PRef"
   ]
  },
  {
   "cell_type": "code",
   "execution_count": 95,
   "id": "826d65f7-7fd5-4920-a735-83c04af2ba32",
   "metadata": {
    "tags": []
   },
   "outputs": [
    {
     "data": {
      "text/plain": [
       "array([0.01924845, 0.01629503, 0.01421836, ..., 0.00102065, 0.00102064,\n",
       "       0.        ])"
      ]
     },
     "execution_count": 95,
     "metadata": {},
     "output_type": "execute_result"
    }
   ],
   "source": [
    "P\n"
   ]
  },
  {
   "cell_type": "code",
   "execution_count": 96,
   "id": "11e25ae9-6d4a-447e-bc29-aa406f3bba0f",
   "metadata": {
    "tags": []
   },
   "outputs": [
    {
     "data": {
      "text/plain": [
       "array([0.001, 0.001, 0.001, ..., 0.001, 0.001, 0.   ])"
      ]
     },
     "execution_count": 96,
     "metadata": {},
     "output_type": "execute_result"
    }
   ],
   "source": [
    "Pref"
   ]
  },
  {
   "cell_type": "code",
   "execution_count": 97,
   "id": "256059bd-f4f1-406c-a4b7-0a445f519870",
   "metadata": {
    "tags": []
   },
   "outputs": [
    {
     "data": {
      "text/plain": [
       "array([5.0000e-04, 1.5000e-03, 2.5000e-03, ..., 3.9975e+00, 3.9985e+00,\n",
       "       0.0000e+00])"
      ]
     },
     "execution_count": 97,
     "metadata": {},
     "output_type": "execute_result"
    }
   ],
   "source": [
    "D"
   ]
  },
  {
   "cell_type": "code",
   "execution_count": 98,
   "id": "4ef03a1a-9f70-42f9-ba9e-3e3070d85ace",
   "metadata": {},
   "outputs": [
    {
     "data": {
      "text/plain": [
       "array([1.000e-03, 2.000e-03, 3.000e-03, ..., 3.998e+00, 3.999e+00,\n",
       "       0.000e+00])"
      ]
     },
     "execution_count": 98,
     "metadata": {},
     "output_type": "execute_result"
    }
   ],
   "source": [
    "A"
   ]
  },
  {
   "attachments": {
    "ebf1e270-39a2-4fe2-99b7-ee7fd12ca6a8.png": {
     "image/png": "[encoded data removed]"
    }
   },
   "cell_type": "markdown",
   "id": "3e049358-e7fe-4bd4-92b1-153c4440a2ba",
   "metadata": {},
   "source": [
    "![image.png](attachment:ebf1e270-39a2-4fe2-99b7-ee7fd12ca6a8.png)"
   ]
  },
  {
   "cell_type": "code",
   "execution_count": 99,
   "id": "de67672d-02b8-495f-9384-5c83fdabf288",
   "metadata": {
    "tags": []
   },
   "outputs": [],
   "source": [
    "f0=0.46+6.06*(A/w)+0.84*(1-(A/w)**5)+0.66*(A/w)**2*(1-(A/w))**1.5\n",
    "f1=-3.52*(A/w)**2\n",
    "f2=6.17-28.22*(A/w)+34.54*(A/w)**2-14.39*(A/w)**3-(1-(A/w))**1.5-5.88*(1-(A/w))**5-2.64*(A/w)**2*(1-(A/(w)))**2\n",
    "f3=-6.63+25.6*(A/w)-31.04*(A/w)**2+14.41*(A/w)**3+2*(1-(A/(w)))**5+5.04*(1-(A/(w)))**5+1.98*(A/w)**2*(1-(A/(w)))**2"
   ]
  },
  {
   "cell_type": "code",
   "execution_count": 100,
   "id": "67bf1a2d-9d0d-4a86-a2ec-0a0f0ac89fb1",
   "metadata": {
    "tags": []
   },
   "outputs": [
    {
     "name": "stderr",
     "output_type": "stream",
     "text": [
      "C:\\Users\\Jonas\\AppData\\Local\\Temp\\ipykernel_25508\\2521512924.py:1: RuntimeWarning: invalid value encountered in true_divide\n",
      "  ki=P/(t*np.sqrt(np.pi*A))*2*(f0+f1*(D/A)+f2*(D/A)**2+f3*(D/A)**3)/((1-A/w)**1.5*(1-(D/A)**2)**1.5)\n"
     ]
    }
   ],
   "source": [
    "ki=P/(t*np.sqrt(np.pi*A))*2*(f0+f1*(D/A)+f2*(D/A)**2+f3*(D/A)**3)/((1-A/w)**1.5*(1-(D/A)**2)**1.5)"
   ]
  },
  {
   "cell_type": "code",
   "execution_count": 101,
   "id": "c8a55ba0-a815-4df7-9900-041f1170a88e",
   "metadata": {
    "tags": []
   },
   "outputs": [
    {
     "name": "stderr",
     "output_type": "stream",
     "text": [
      "C:\\Users\\Jonas\\AppData\\Local\\Temp\\ipykernel_25508\\3856500670.py:1: RuntimeWarning: invalid value encountered in true_divide\n",
      "  kiref=Pref/(t*np.sqrt(np.pi*A))*2*(f0+f1*(D/A)+f2*(D/A)**2+f3*(D/A)**3)/((1-A/w)**1.5*(1-(D/A)**2)**1.5)\n"
     ]
    }
   ],
   "source": [
    "kiref=Pref/(t*np.sqrt(np.pi*A))*2*(f0+f1*(D/A)+f2*(D/A)**2+f3*(D/A)**3)/((1-A/w)**1.5*(1-(D/A)**2)**1.5)"
   ]
  },
  {
   "cell_type": "code",
   "execution_count": 102,
   "id": "61221353-96a8-426f-91f9-7c377fd45a4f",
   "metadata": {},
   "outputs": [
    {
     "data": {
      "text/plain": [
       "array([ 0.13791309,  0.16949086,  0.20122393, ..., 16.46514301,\n",
       "       16.4692139 ,         nan])"
      ]
     },
     "execution_count": 102,
     "metadata": {},
     "output_type": "execute_result"
    }
   ],
   "source": [
    "ki"
   ]
  },
  {
   "cell_type": "code",
   "execution_count": 103,
   "id": "dac841fe-775d-418e-9bd2-96453c36e201",
   "metadata": {},
   "outputs": [
    {
     "data": {
      "text/plain": [
       "array([7.16489364e-03, 1.04013853e-02, 1.41524052e-02, ...,\n",
       "       1.61320213e+01, 1.61361445e+01,            nan])"
      ]
     },
     "execution_count": 103,
     "metadata": {},
     "output_type": "execute_result"
    }
   ],
   "source": [
    "kiref"
   ]
  },
  {
   "cell_type": "code",
   "execution_count": 104,
   "id": "148c25d9-be85-4d61-8f21-6733d93888d3",
   "metadata": {},
   "outputs": [],
   "source": [
    "kgr=ki/kiref"
   ]
  },
  {
   "cell_type": "code",
   "execution_count": 105,
   "id": "1dae23b6-f0d4-447e-b6ea-7199f872071d",
   "metadata": {},
   "outputs": [
    {
     "data": {
      "text/plain": [
       "array([19.24844922, 16.29502783, 14.21835559, ...,  1.02064972,\n",
       "        1.0206412 ,         nan])"
      ]
     },
     "execution_count": 105,
     "metadata": {},
     "output_type": "execute_result"
    }
   ],
   "source": [
    "kgr"
   ]
  },
  {
   "cell_type": "code",
   "execution_count": 106,
   "id": "e85e82b2-4e61-4d0e-8e76-f3ffd1d008ec",
   "metadata": {},
   "outputs": [
    {
     "data": {
      "text/plain": [
       "Text(0, 0.5, 'Kgr(mPa)')"
      ]
     },
     "execution_count": 106,
     "metadata": {},
     "output_type": "execute_result"
    },
    {
     "data": {
      "image/png": "[encoded data removed]",
      "text/plain": [
       "<Figure size 432x288 with 1 Axes>"
      ]
     },
     "metadata": {
      "needs_background": "light"
     },
     "output_type": "display_data"
    }
   ],
   "source": [
    "plt.plot(X,kgr)\n",
    "plt.xlabel('x(mm)')\n",
    "plt.ylabel('Kgr(mPa)')"
   ]
  },
  {
   "attachments": {
    "1dcac3fc-f5d1-44c3-8a06-cd1a9f671bc7.png": {
     "image/png": "[encoded data removed]"
    }
   },
   "cell_type": "markdown",
   "id": "65d2050d-234f-4f19-8a0c-4acf339ece9c",
   "metadata": {},
   "source": [
    "![image.png](attachment:1dcac3fc-f5d1-44c3-8a06-cd1a9f671bc7.png)"
   ]
  },
  {
   "cell_type": "code",
   "execution_count": 119,
   "id": "500b8977-3fa4-4955-aeae-be31000edd02",
   "metadata": {
    "tags": []
   },
   "outputs": [],
   "source": [
    "dkgr=np.zeros(len(X))\n",
    "for i in range(len(X)):\n",
    "    dkgr[i]=(kgr[i]-kgr[i-1])/(A[i]-A[i-1])"
   ]
  },
  {
   "cell_type": "code",
   "execution_count": 120,
   "id": "28f7b0a7-bc06-4fce-83ff-d24f462e147e",
   "metadata": {},
   "outputs": [
    {
     "data": {
      "text/plain": [
       "array([            nan, -2.95342139e+03, -2.07667224e+03, ...,\n",
       "       -8.52753023e-03, -8.52219664e-03,             nan])"
      ]
     },
     "execution_count": 120,
     "metadata": {},
     "output_type": "execute_result"
    }
   ],
   "source": [
    "dkgr"
   ]
  },
  {
   "cell_type": "code",
   "execution_count": 121,
   "id": "de8cb77d-d2d8-4e45-b492-c79520a96eb4",
   "metadata": {},
   "outputs": [
    {
     "data": {
      "text/plain": [
       "Text(0, 0.5, \"Kgr'(mPa)\")"
      ]
     },
     "execution_count": 121,
     "metadata": {},
     "output_type": "execute_result"
    },
    {
     "data": {
      "image/png": "[encoded data removed]",
      "text/plain": [
       "<Figure size 432x288 with 1 Axes>"
      ]
     },
     "metadata": {
      "needs_background": "light"
     },
     "output_type": "display_data"
    }
   ],
   "source": [
    "plt.plot(X,dkgr)\n",
    "plt.xlabel('x(mm)')\n",
    "plt.ylabel(\"Kgr'(mPa)\")"
   ]
  },
  {
   "cell_type": "code",
   "execution_count": 122,
   "id": "1ed9acd1-72cd-4664-b104-8933051799bc",
   "metadata": {},
   "outputs": [],
   "source": [
    "a0=0.2\n",
    "gama=2"
   ]
  },
  {
   "cell_type": "code",
   "execution_count": 123,
   "id": "f17445c6-357e-4786-91a2-b25658fe8b12",
   "metadata": {
    "tags": []
   },
   "outputs": [
    {
     "name": "stderr",
     "output_type": "stream",
     "text": [
      "C:\\Users\\Jonas\\AppData\\Local\\Temp\\ipykernel_25508\\4237808484.py:1: RuntimeWarning: divide by zero encountered in true_divide\n",
      "  fi=kgr+2*A*(1+(a0/A)**(gama/2))*dkgr\n",
      "C:\\Users\\Jonas\\AppData\\Local\\Temp\\ipykernel_25508\\4237808484.py:1: RuntimeWarning: invalid value encountered in multiply\n",
      "  fi=kgr+2*A*(1+(a0/A)**(gama/2))*dkgr\n"
     ]
    }
   ],
   "source": [
    "fi=kgr+2*A*(1+(a0/A)**(gama/2))*dkgr"
   ]
  },
  {
   "cell_type": "code",
   "execution_count": 124,
   "id": "433b39b9-8103-4958-bf63-97d3702ad868",
   "metadata": {},
   "outputs": [
    {
     "data": {
      "text/plain": [
       "array([        nan, -1.1769e+03, -8.2890e+02, -6.1560e+02, -4.7560e+02,\n",
       "       -3.7890e+02, -3.0930e+02, -2.5750e+02, -2.1800e+02, -1.8710e+02,\n",
       "       -1.6250e+02, -1.4260e+02, -1.2620e+02, -1.1260e+02, -1.0110e+02,\n",
       "       -9.1400e+01, -8.3100e+01, -7.5900e+01, -6.9600e+01, -6.4100e+01,\n",
       "       -5.9300e+01, -5.5000e+01, -5.1200e+01, -4.7800e+01, -4.4700e+01,\n",
       "       -4.2000e+01, -3.9500e+01, -3.7200e+01, -3.5100e+01, -3.3200e+01,\n",
       "       -3.1500e+01, -2.9900e+01, -2.8400e+01, -2.7100e+01, -2.5800e+01,\n",
       "       -2.4600e+01, -2.3500e+01, -2.2500e+01, -2.1600e+01, -2.0700e+01,\n",
       "       -1.9900e+01, -1.9100e+01, -1.8400e+01, -1.7700e+01, -1.7000e+01,\n",
       "       -1.6400e+01, -1.5800e+01, -1.5300e+01, -1.4800e+01, -1.4300e+01,\n",
       "       -1.3800e+01, -1.3400e+01, -1.3000e+01, -1.2600e+01, -1.2200e+01,\n",
       "       -1.1800e+01, -1.1500e+01, -1.1100e+01, -1.0800e+01, -1.0500e+01,\n",
       "       -1.0200e+01, -1.0000e+01, -9.7000e+00, -9.4000e+00, -9.2000e+00,\n",
       "       -9.0000e+00, -8.7000e+00, -8.5000e+00, -8.3000e+00, -8.1000e+00,\n",
       "       -7.9000e+00, -7.7000e+00, -7.5000e+00, -7.4000e+00, -7.2000e+00,\n",
       "       -7.0000e+00, -6.9000e+00, -6.7000e+00, -6.6000e+00, -6.4000e+00,\n",
       "       -6.3000e+00, -6.2000e+00, -6.0000e+00, -5.9000e+00, -5.8000e+00,\n",
       "       -5.7000e+00, -5.6000e+00, -5.5000e+00, -5.3000e+00, -5.2000e+00,\n",
       "       -5.1000e+00, -5.0000e+00, -4.9000e+00, -4.9000e+00, -4.8000e+00,\n",
       "       -4.7000e+00, -4.6000e+00, -4.5000e+00, -4.4000e+00, -4.3000e+00,\n",
       "       -4.3000e+00, -4.2000e+00, -4.1000e+00, -4.0000e+00, -4.0000e+00,\n",
       "       -3.9000e+00, -3.8000e+00, -3.8000e+00, -3.7000e+00, -3.7000e+00,\n",
       "       -3.6000e+00, -3.5000e+00, -3.5000e+00, -3.4000e+00, -3.4000e+00,\n",
       "       -3.3000e+00, -3.3000e+00, -3.2000e+00, -3.2000e+00, -3.1000e+00,\n",
       "       -3.1000e+00, -3.0000e+00, -3.0000e+00, -2.9000e+00, -2.9000e+00,\n",
       "       -2.8000e+00, -2.8000e+00, -2.7000e+00, -2.7000e+00, -2.7000e+00,\n",
       "       -2.6000e+00, -2.6000e+00, -2.6000e+00, -2.5000e+00, -2.5000e+00,\n",
       "       -2.4000e+00, -2.4000e+00, -2.4000e+00, -2.3000e+00, -2.3000e+00,\n",
       "       -2.3000e+00, -2.2000e+00, -2.2000e+00, -2.2000e+00, -2.2000e+00,\n",
       "       -2.1000e+00, -2.1000e+00, -2.1000e+00, -2.0000e+00, -2.0000e+00,\n",
       "       -2.0000e+00, -2.0000e+00, -1.9000e+00, -1.9000e+00, -1.9000e+00,\n",
       "       -1.8000e+00, -1.8000e+00, -1.8000e+00, -1.8000e+00, -1.8000e+00,\n",
       "       -1.7000e+00, -1.7000e+00, -1.7000e+00, -1.7000e+00, -1.6000e+00,\n",
       "       -1.6000e+00, -1.6000e+00, -1.6000e+00, -1.6000e+00, -1.5000e+00,\n",
       "       -1.5000e+00, -1.5000e+00, -1.5000e+00, -1.5000e+00, -1.4000e+00,\n",
       "       -1.4000e+00, -1.4000e+00, -1.4000e+00, -1.4000e+00, -1.3000e+00,\n",
       "       -1.3000e+00, -1.3000e+00, -1.3000e+00, -1.3000e+00, -1.3000e+00,\n",
       "       -1.2000e+00, -1.2000e+00, -1.2000e+00, -1.2000e+00, -1.2000e+00,\n",
       "       -1.2000e+00, -1.2000e+00, -1.1000e+00, -1.1000e+00, -1.1000e+00,\n",
       "       -1.1000e+00, -1.1000e+00, -1.1000e+00, -1.1000e+00, -1.0000e+00])"
      ]
     },
     "execution_count": 124,
     "metadata": {},
     "output_type": "execute_result"
    }
   ],
   "source": [
    "fi[0:200].round(1)"
   ]
  },
  {
   "cell_type": "code",
   "execution_count": 113,
   "id": "88e09fcb-aabe-48bb-acc3-5fc0cb7fb8c6",
   "metadata": {},
   "outputs": [
    {
     "data": {
      "text/plain": [
       "[<matplotlib.lines.Line2D at 0x24273b65b20>]"
      ]
     },
     "execution_count": 113,
     "metadata": {},
     "output_type": "execute_result"
    },
    {
     "data": {
      "image/png": "[encoded data removed]",
      "text/plain": [
       "<Figure size 432x288 with 1 Axes>"
      ]
     },
     "metadata": {
      "needs_background": "light"
     },
     "output_type": "display_data"
    }
   ],
   "source": [
    "plt.plot(X,fi)"
   ]
  },
  {
   "cell_type": "code",
   "execution_count": 114,
   "id": "102f7c0c-4800-4ab5-bf3c-be2afbd51928",
   "metadata": {
    "tags": []
   },
   "outputs": [
    {
     "ename": "IndexError",
     "evalue": "index 4000 is out of bounds for axis 0 with size 4000",
     "output_type": "error",
     "traceback": [
      "\u001b[1;31m---------------------------------------------------------------------------\u001b[0m",
      "\u001b[1;31mIndexError\u001b[0m                                Traceback (most recent call last)",
      "Input \u001b[1;32mIn [114]\u001b[0m, in \u001b[0;36m<cell line: 2>\u001b[1;34m()\u001b[0m\n\u001b[0;32m      1\u001b[0m raiz\u001b[38;5;241m=\u001b[39mnp\u001b[38;5;241m.\u001b[39mzeros(\u001b[38;5;28mlen\u001b[39m(X))\n\u001b[0;32m      2\u001b[0m \u001b[38;5;28;01mfor\u001b[39;00m i \u001b[38;5;129;01min\u001b[39;00m \u001b[38;5;28mrange\u001b[39m(\u001b[38;5;28mlen\u001b[39m(X)):\n\u001b[1;32m----> 3\u001b[0m     raiz[i]\u001b[38;5;241m=\u001b[39mfi[i]\u001b[38;5;241m*\u001b[39m\u001b[43mfi\u001b[49m\u001b[43m[\u001b[49m\u001b[43mi\u001b[49m\u001b[38;5;241;43m+\u001b[39;49m\u001b[38;5;241;43m1\u001b[39;49m\u001b[43m]\u001b[49m\n",
      "\u001b[1;31mIndexError\u001b[0m: index 4000 is out of bounds for axis 0 with size 4000"
     ]
    }
   ],
   "source": [
    "raiz=np.zeros(len(X))\n",
    "for i in range(len(X)):\n",
    "    raiz[i]=fi[i]*fi[i+1]"
   ]
  },
  {
   "cell_type": "code",
   "execution_count": 115,
   "id": "5e9879b3-e4d3-4ef0-9035-4bb0a210d495",
   "metadata": {},
   "outputs": [
    {
     "data": {
      "text/plain": [
       "352"
      ]
     },
     "execution_count": 115,
     "metadata": {},
     "output_type": "execute_result"
    }
   ],
   "source": [
    "sol=np.where(raiz<0)[0]\n",
    "nmax=sol[0]\n",
    "nmax"
   ]
  },
  {
   "cell_type": "code",
   "execution_count": 116,
   "id": "8cf38933-72eb-4cfb-be79-8e7ae6c2d1d6",
   "metadata": {
    "tags": []
   },
   "outputs": [
    {
     "ename": "IndexError",
     "evalue": "index 4000 is out of bounds for axis 0 with size 4000",
     "output_type": "error",
     "traceback": [
      "\u001b[1;31m---------------------------------------------------------------------------\u001b[0m",
      "\u001b[1;31mIndexError\u001b[0m                                Traceback (most recent call last)",
      "Input \u001b[1;32mIn [116]\u001b[0m, in \u001b[0;36m<cell line: 2>\u001b[1;34m()\u001b[0m\n\u001b[0;32m      1\u001b[0m amax\u001b[38;5;241m=\u001b[39mnp\u001b[38;5;241m.\u001b[39mzeros(\u001b[38;5;28mlen\u001b[39m(X))\n\u001b[0;32m      2\u001b[0m \u001b[38;5;28;01mfor\u001b[39;00m i \u001b[38;5;129;01min\u001b[39;00m \u001b[38;5;28mrange\u001b[39m(\u001b[38;5;28mlen\u001b[39m(X)):\n\u001b[1;32m----> 3\u001b[0m     amax[i]\u001b[38;5;241m=\u001b[39mA[i]\u001b[38;5;241m-\u001b[39mfi[i]\u001b[38;5;241m*\u001b[39m(A[\u001b[38;5;241m1\u001b[39m]\u001b[38;5;241m-\u001b[39mA[\u001b[38;5;241m0\u001b[39m])\u001b[38;5;241m/\u001b[39m(\u001b[43mfi\u001b[49m\u001b[43m[\u001b[49m\u001b[43mi\u001b[49m\u001b[38;5;241;43m+\u001b[39;49m\u001b[38;5;241;43m1\u001b[39;49m\u001b[43m]\u001b[49m\u001b[38;5;241m-\u001b[39mfi[i])\n",
      "\u001b[1;31mIndexError\u001b[0m: index 4000 is out of bounds for axis 0 with size 4000"
     ]
    }
   ],
   "source": [
    "amax=np.zeros(len(X))\n",
    "for i in range(len(X)):\n",
    "    amax[i]=A[i]-fi[i]*(A[1]-A[0])/(fi[i+1]-fi[i])"
   ]
  },
  {
   "cell_type": "code",
   "execution_count": 117,
   "id": "fa5a5246-f9d0-48fa-9f39-1db74e760efd",
   "metadata": {
    "tags": []
   },
   "outputs": [
    {
     "data": {
      "text/plain": [
       "0.35341143873709385"
      ]
     },
     "execution_count": 117,
     "metadata": {},
     "output_type": "execute_result"
    }
   ],
   "source": [
    "Amax=amax[nmax]\n",
    "Amax"
   ]
  },
  {
   "cell_type": "code",
   "execution_count": 85,
   "id": "e2c20224-068d-4699-80e9-77047b0b6131",
   "metadata": {},
   "outputs": [
    {
     "data": {
      "text/plain": [
       "array([0.03791356, 0.03939395, 0.04087418, 0.04235424, 0.0438341 ,\n",
       "       0.04531374, 0.04679312, 0.04827222, 0.04975103, 0.05122951,\n",
       "       0.05270764, 0.05418539, 0.05566276, 0.0571397 , 0.05861619,\n",
       "       0.06009221, 0.06156775, 0.06304276, 0.06451724, 0.06599116,\n",
       "       0.06746448, 0.0689372 , 0.07040929, 0.07188072, 0.07335147,\n",
       "       0.07482152, 0.07629085, 0.07775943, 0.07922724, 0.08069425,\n",
       "       0.08216046, 0.08362583, 0.08509034, 0.08655396, 0.08801669,\n",
       "       0.08947849, 0.09093934, 0.09239923, 0.09385813, 0.09531601,\n",
       "       0.09677286, 0.09822866, 0.09968338, 0.10113701, 0.10258951,\n",
       "       0.10404088, 0.10549108, 0.10694011, 0.10838793, 0.10983453,\n",
       "       0.11127989, 0.11272398, 0.11416679, 0.1156083 , 0.11704847,\n",
       "       0.11848731, 0.11992477, 0.12136086, 0.12279553, 0.12422878,\n",
       "       0.12566058, 0.12709092, 0.12851978, 0.12994712, 0.13137295,\n",
       "       0.13279723, 0.13421995, 0.13564108, 0.13706061, 0.13847852,\n",
       "       0.13989479, 0.14130941, 0.14272234, 0.14413358, 0.1455431 ,\n",
       "       0.14695089, 0.14835692, 0.14976118, 0.15116365, 0.15256431,\n",
       "       0.15396315, 0.15536014, 0.15675526, 0.15814851, 0.15953985,\n",
       "       0.16092928, 0.16231677, 0.1637023 , 0.16508587, 0.16646744,\n",
       "       0.16784701, 0.16922455, 0.17060005, 0.17197349, 0.17334486,\n",
       "       0.17471413, 0.17608128, 0.17744631, 0.1788092 , 0.18016992,\n",
       "       0.18152846, 0.1828848 , 0.18423893, 0.18559082, 0.18694047,\n",
       "       0.18828786, 0.18963297, 0.19097577, 0.19231627, 0.19365443,\n",
       "       0.19499025, 0.19632371, 0.19765478, 0.19898346, 0.20030973,\n",
       "       0.20163357, 0.20295497, 0.20427391, 0.20559038, 0.20690435,\n",
       "       0.20821582, 0.20952476, 0.21083117, 0.21213503, 0.21343631,\n",
       "       0.21473501, 0.21603112, 0.2173246 , 0.21861546, 0.21990367,\n",
       "       0.22118922, 0.2224721 , 0.22375229, 0.22502977, 0.22630453,\n",
       "       0.22757655, 0.22884583, 0.23011234, 0.23137607, 0.23263701,\n",
       "       0.23389515, 0.23515045, 0.23640293, 0.23765255, 0.2388993 ,\n",
       "       0.24014318, 0.24138416, 0.24262223, 0.24385738, 0.24508959,\n",
       "       0.24631886, 0.24754516, 0.24876848, 0.24998881, 0.25120614,\n",
       "       0.25242045, 0.25363172, 0.25483995, 0.25604512, 0.25724721,\n",
       "       0.25844622, 0.25964213, 0.26083493, 0.2620246 , 0.26321113,\n",
       "       0.26439451, 0.26557472, 0.26675175, 0.26792559, 0.26909623,\n",
       "       0.27026365, 0.27142784, 0.27258879, 0.27374648, 0.2749009 ,\n",
       "       0.27605204, 0.27719989, 0.27834443, 0.27948566, 0.28062355,\n",
       "       0.2817581 , 0.28288929, 0.28401712, 0.28514157, 0.28626263,\n",
       "       0.28738028, 0.28849451, 0.28960532, 0.29071269, 0.2918166 ,\n",
       "       0.29291706, 0.29401403, 0.29510752, 0.29619752, 0.297284  ,\n",
       "       0.29836695, 0.29944638, 0.30052226, 0.30159458, 0.30266334,\n",
       "       0.30372851, 0.3047901 , 0.30584808, 0.30690246, 0.3079532 ,\n",
       "       0.30900032, 0.31004378, 0.31108359, 0.31211973, 0.31315219,\n",
       "       0.31418096, 0.31520603, 0.31622739, 0.31724503, 0.31825893,\n",
       "       0.31926909, 0.32027549, 0.32127813, 0.322277  , 0.32327208,\n",
       "       0.32426336, 0.32525084, 0.3262345 , 0.32721433, 0.32819032,\n",
       "       0.32916247, 0.33013076, 0.33109518, 0.33205573, 0.33301238,\n",
       "       0.33396514, 0.33491399, 0.33585892, 0.33679993, 0.337737  ,\n",
       "       0.33867012, 0.33959928, 0.34052448, 0.3414457 , 0.34236294,\n",
       "       0.34327618, 0.34418541, 0.34509064, 0.34599184, 0.346889  ,\n",
       "       0.34778212, 0.3486712 , 0.34955621, 0.35043715, 0.35131401])"
      ]
     },
     "execution_count": 85,
     "metadata": {},
     "output_type": "execute_result"
    }
   ],
   "source": [
    "amax[0:250]"
   ]
  },
  {
   "cell_type": "code",
   "execution_count": 86,
   "id": "1a736168-55a8-4a88-bbe5-3a30285302f3",
   "metadata": {},
   "outputs": [],
   "source": [
    "kf=kgr*(1+(a0/Amax)**(gama/2))**(1/gama)/np.sqrt(a0/Amax)"
   ]
  },
  {
   "attachments": {
    "8d5d9924-e25a-44b2-89be-40308453feb2.png": {
     "image/png": "[encoded data removed]"
    }
   },
   "cell_type": "markdown",
   "id": "4eb28bfe-1c1a-4f89-84ad-dac88b89ec68",
   "metadata": {},
   "source": [
    "![image.png](attachment:8d5d9924-e25a-44b2-89be-40308453feb2.png)"
   ]
  },
  {
   "cell_type": "code",
   "execution_count": 87,
   "id": "6012f873-67b0-4aa5-a325-ccf2d8743f3d",
   "metadata": {},
   "outputs": [
    {
     "data": {
      "text/plain": [
       "array([10.89188793, 10.73900836, 10.59065474, 10.44663774, 10.3067782 ,\n",
       "       10.17090643, 10.03886162,  9.91049127,  9.78565067,  9.66420242,\n",
       "        9.54601596,  9.43096721,  9.31893812,  9.20981635,  9.10349492,\n",
       "        8.9998719 ,  8.89885013,  8.80033695,  8.70424393,  8.61048665,\n",
       "        8.51898446,  8.42966031,  8.34244052,  8.25725463,  8.17403519,\n",
       "        8.09271765,  8.01324017,  7.93554351,  7.85957087,  7.7852678 ,\n",
       "        7.71258204,  7.64146346,  7.57186391,  7.50373717,  7.4370388 ,\n",
       "        7.37172612,  7.30775807,  7.24509517,  7.18369943,  7.12353428,\n",
       "        7.06456452,  7.00675625,  6.95007679,  6.89449468,  6.83997955,\n",
       "        6.78650216,  6.73403426,  6.68254862,  6.63201895,  6.58241987,\n",
       "        6.53372687,  6.48591627,  6.4389652 ,  6.39285154,  6.34755391,\n",
       "        6.30305165,  6.25932475,  6.21635387,  6.17412029,  6.13260589,\n",
       "        6.09179312,  6.05166499,  6.01220503,  5.97339729,  5.93522633,\n",
       "        5.89767715,  5.86073524,  5.82438649,  5.78861725,  5.75341426,\n",
       "        5.71876466,  5.68465595,  5.65107603,  5.6180131 ,  5.58545576,\n",
       "        5.55339288,  5.52181369,  5.4907077 ,  5.46006472,  5.42987486,\n",
       "        5.40012847,  5.3708162 ,  5.34192893,  5.3134578 ,  5.28539421,\n",
       "        5.25772974,  5.23045625,  5.20356577,  5.17705058,  5.15090313,\n",
       "        5.12511608,  5.09968229,  5.07459478,  5.04984677,  5.02543165,\n",
       "        5.00134296,  4.97757442,  4.9541199 ,  4.93097342,  4.90812916])"
      ]
     },
     "execution_count": 87,
     "metadata": {},
     "output_type": "execute_result"
    }
   ],
   "source": [
    "kf[0:100]"
   ]
  },
  {
   "cell_type": "code",
   "execution_count": 41,
   "id": "5caaf6b3-f862-4d35-bd7a-ad4109f3d662",
   "metadata": {},
   "outputs": [
    {
     "data": {
      "text/plain": [
       "[<matplotlib.lines.Line2D at 0x24272742100>]"
      ]
     },
     "execution_count": 41,
     "metadata": {},
     "output_type": "execute_result"
    },
    {
     "data": {
      "image/png": "[encoded data removed]",
      "text/plain": [
       "<Figure size 432x288 with 1 Axes>"
      ]
     },
     "metadata": {
      "needs_background": "light"
     },
     "output_type": "display_data"
    }
   ],
   "source": [
    "plt.plot(X,kf)\n",
    "plt.plot(X,kgr)"
   ]
  },
  {
   "cell_type": "code",
   "execution_count": 42,
   "id": "3dc550c4-d108-4e1c-9597-17a62d4dd398",
   "metadata": {},
   "outputs": [
    {
     "data": {
      "text/plain": [
       "array([1.   , 1.001, 1.002, 1.003, 1.004, 1.005, 1.006, 1.007, 1.008,\n",
       "       1.009, 1.01 , 1.011, 1.012, 1.013, 1.014, 1.015, 1.016, 1.017,\n",
       "       1.018, 1.019, 1.02 , 1.021, 1.022, 1.023, 1.024, 1.025, 1.026,\n",
       "       1.027, 1.028, 1.029, 1.03 , 1.031, 1.032, 1.033, 1.034, 1.035,\n",
       "       1.036, 1.037, 1.038, 1.039, 1.04 , 1.041, 1.042, 1.043, 1.044,\n",
       "       1.045, 1.046, 1.047, 1.048, 1.049, 1.05 , 1.051, 1.052, 1.053,\n",
       "       1.054, 1.055, 1.056, 1.057, 1.058, 1.059, 1.06 , 1.061, 1.062,\n",
       "       1.063, 1.064, 1.065, 1.066, 1.067, 1.068, 1.069, 1.07 , 1.071,\n",
       "       1.072, 1.073, 1.074, 1.075, 1.076, 1.077, 1.078, 1.079, 1.08 ,\n",
       "       1.081, 1.082, 1.083, 1.084, 1.085, 1.086, 1.087, 1.088, 1.089,\n",
       "       1.09 , 1.091, 1.092, 1.093, 1.094, 1.095, 1.096, 1.097, 1.098,\n",
       "       1.099])"
      ]
     },
     "execution_count": 42,
     "metadata": {},
     "output_type": "execute_result"
    }
   ],
   "source": [
    "X[0:100]"
   ]
  },
  {
   "cell_type": "code",
   "execution_count": 43,
   "id": "1ba1e671-0566-4d73-ac70-9882a68e1530",
   "metadata": {},
   "outputs": [
    {
     "data": {
      "text/plain": [
       "array([0.001, 0.002, 0.003, 0.004, 0.005, 0.006, 0.007, 0.008, 0.009,\n",
       "       0.01 , 0.011, 0.012, 0.013, 0.014, 0.015, 0.016, 0.017, 0.018,\n",
       "       0.019, 0.02 , 0.021, 0.022, 0.023, 0.024, 0.025, 0.026, 0.027,\n",
       "       0.028, 0.029, 0.03 , 0.031, 0.032, 0.033, 0.034, 0.035, 0.036,\n",
       "       0.037, 0.038, 0.039, 0.04 , 0.041, 0.042, 0.043, 0.044, 0.045,\n",
       "       0.046, 0.047, 0.048, 0.049, 0.05 , 0.051, 0.052, 0.053, 0.054,\n",
       "       0.055, 0.056, 0.057, 0.058, 0.059, 0.06 , 0.061, 0.062, 0.063,\n",
       "       0.064, 0.065, 0.066, 0.067, 0.068, 0.069, 0.07 , 0.071, 0.072,\n",
       "       0.073, 0.074, 0.075, 0.076, 0.077, 0.078, 0.079, 0.08 , 0.081,\n",
       "       0.082, 0.083, 0.084, 0.085, 0.086, 0.087, 0.088, 0.089, 0.09 ,\n",
       "       0.091, 0.092, 0.093, 0.094, 0.095, 0.096, 0.097, 0.098, 0.099,\n",
       "       0.1  ])"
      ]
     },
     "execution_count": 43,
     "metadata": {},
     "output_type": "execute_result"
    }
   ],
   "source": [
    "A[0:100]"
   ]
  },
  {
   "cell_type": "code",
   "execution_count": 44,
   "id": "ea0a4c1e-f204-4ecc-bd3b-07698676342c",
   "metadata": {},
   "outputs": [
    {
     "data": {
      "text/plain": [
       "array([0.0437854 , 0.06267174, 0.08409487, 0.10559071, 0.1267584 ,\n",
       "       0.14748869, 0.16774969, 0.18753667, 0.20685614, 0.22571955,\n",
       "       0.2441406 , 0.26213388, 0.27971424, 0.2968964 , 0.31369474,\n",
       "       0.33012322, 0.34619531, 0.36192398, 0.37732167, 0.39240032,\n",
       "       0.40717137, 0.42164576, 0.43583399, 0.44974609, 0.46339168,\n",
       "       0.47677995, 0.48991972, 0.50281942, 0.51548716, 0.52793066,\n",
       "       0.54015736, 0.55217439, 0.56398857, 0.57560645, 0.58703433,\n",
       "       0.59827825, 0.609344  , 0.62023715, 0.63096305, 0.64152686,\n",
       "       0.65193351, 0.66218777, 0.67229421, 0.68225725, 0.69208111,\n",
       "       0.70176989, 0.71132751, 0.72075778, 0.73006434, 0.73925072,\n",
       "       0.74832031, 0.7572764 , 0.76612213, 0.77486056, 0.78349464,\n",
       "       0.79202721, 0.80046102, 0.80879873, 0.81704289, 0.82519598,\n",
       "       0.83326041, 0.84123849, 0.84913246, 0.85694449, 0.86467667,\n",
       "       0.87233106, 0.87990959, 0.88741419, 0.8948467 , 0.9022089 ,\n",
       "       0.90950253, 0.91672927, 0.92389073, 0.9309885 , 0.93802411,\n",
       "       0.94499905, 0.95191474, 0.95877259, 0.96557396, 0.97232016,\n",
       "       0.97901246, 0.98565211, 0.99224032, 0.99877824, 1.00526703,\n",
       "       1.01170779, 1.01810158, 1.02444945, 1.03075243, 1.03701149,\n",
       "       1.04322759, 1.04940167, 1.05553464, 1.06162738, 1.06768075,\n",
       "       1.07369559, 1.07967272, 1.08561292, 1.09151697, 1.09738562])"
      ]
     },
     "execution_count": 44,
     "metadata": {},
     "output_type": "execute_result"
    }
   ],
   "source": [
    "ki[0:100]"
   ]
  },
  {
   "cell_type": "code",
   "execution_count": 118,
   "id": "c1703a6f-ccc5-42ee-bdab-7a8e4d21fa83",
   "metadata": {},
   "outputs": [
    {
     "data": {
      "text/plain": [
       "2.7842404033844463"
      ]
     },
     "execution_count": 118,
     "metadata": {},
     "output_type": "execute_result"
    }
   ],
   "source": [
    "kf[nmax]"
   ]
  },
  {
   "cell_type": "code",
   "execution_count": 46,
   "id": "d63b15ec-5508-4ba4-aa17-b5fb8be6acd7",
   "metadata": {},
   "outputs": [
    {
     "data": {
      "text/plain": [
       "array([-85.77601363, -83.23664849, -80.80350003, -78.47087806,\n",
       "       -76.23346199, -74.08627271, -72.02464698, -70.04421389,\n",
       "       -68.14087348, -66.31077703, -64.550309  , -62.85607053,\n",
       "       -61.22486421, -59.65368007, -58.13968269, -56.68019938,\n",
       "       -55.27270921, -53.91483287, -52.60432341, -51.33905753,\n",
       "       -50.11702766, -48.93633453, -47.7951803 , -46.69186226,\n",
       "       -45.62476684, -44.59236422, -43.59320317, -42.62590632,\n",
       "       -41.68916575, -40.78173891, -39.90244472, -39.05016005,\n",
       "       -38.22381637, -37.4223966 , -36.64493225, -35.89050065,\n",
       "       -35.15822244, -34.44725913, -33.75681093, -33.08611459,\n",
       "       -32.4344415 , -31.80109576, -31.18541255, -30.58675643,\n",
       "       -30.00451982, -29.43812159, -28.88700569, -28.35063988,\n",
       "       -27.82851452, -27.32014146, -26.82505296, -26.34280068,\n",
       "       -25.87295477, -25.41510292, -24.96884956, -24.53381502,\n",
       "       -24.10963482, -23.69595894, -23.29245113, -22.89878827,\n",
       "       -22.51465982, -22.13976715, -21.77382308, -21.41655135,\n",
       "       -21.0676861 , -20.72697143, -20.39416095, -20.06901738,\n",
       "       -19.75131215, -19.44082501, -19.13734367, -18.84066349,\n",
       "       -18.55058713, -18.26692424, -17.98949119, -17.71811078,\n",
       "       -17.45261196, -17.1928296 , -16.93860424, -16.68978186,\n",
       "       -16.44621366, -16.20775584, -15.97426944, -15.74562011,\n",
       "       -15.52167793, -15.30231727, -15.0874166 , -14.87685832,\n",
       "       -14.67052864, -14.46831741, -14.270118  , -14.07582715,\n",
       "       -13.88534486, -13.69857427, -13.51542152, -13.33579566,\n",
       "       -13.15960855, -12.98677474, -12.81721138, -12.65083813])"
      ]
     },
     "execution_count": 46,
     "metadata": {},
     "output_type": "execute_result"
    }
   ],
   "source": [
    "dkgr[0:100]"
   ]
  },
  {
   "cell_type": "code",
   "execution_count": 47,
   "id": "5c827d5d-4ead-455b-b090-4c347d11fb08",
   "metadata": {},
   "outputs": [
    {
     "data": {
      "text/plain": [
       "1.8226744780108393"
      ]
     },
     "execution_count": 47,
     "metadata": {},
     "output_type": "execute_result"
    }
   ],
   "source": [
    "sum(ki[0:nmax])/sum(kiref[0:nmax])"
   ]
  },
  {
   "cell_type": "code",
   "execution_count": 48,
   "id": "efe954bf-babf-4baf-b4ec-83ed23b9b573",
   "metadata": {},
   "outputs": [
    {
     "data": {
      "text/plain": [
       "4.897689793355526"
      ]
     },
     "execution_count": 48,
     "metadata": {},
     "output_type": "execute_result"
    }
   ],
   "source": [
    "sum(P[0:10000])\n"
   ]
  },
  {
   "cell_type": "code",
   "execution_count": 49,
   "id": "0b318192-9a95-4cd2-a523-44dd52c5f843",
   "metadata": {},
   "outputs": [],
   "source": [
    "pacum=np.zeros(len(X))\n",
    "prefacum=np.zeros(len(X))\n",
    "for i in range(len(X)):\n",
    "    pacum=sum(P[0:i])\n",
    "    prefacum=sum(Pref[0:i])"
   ]
  },
  {
   "cell_type": "code",
   "execution_count": 50,
   "id": "95a8de14-a55d-4087-ad5c-e12bf977e0c8",
   "metadata": {
    "tags": []
   },
   "outputs": [
    {
     "ename": "NameError",
     "evalue": "name 'tt' is not defined",
     "output_type": "error",
     "traceback": [
      "\u001b[1;31m---------------------------------------------------------------------------\u001b[0m",
      "\u001b[1;31mNameError\u001b[0m                                 Traceback (most recent call last)",
      "Input \u001b[1;32mIn [50]\u001b[0m, in \u001b[0;36m<cell line: 1>\u001b[1;34m()\u001b[0m\n\u001b[1;32m----> 1\u001b[0m \u001b[43mtt\u001b[49m\n",
      "\u001b[1;31mNameError\u001b[0m: name 'tt' is not defined"
     ]
    }
   ],
   "source": [
    "tt"
   ]
  },
  {
   "cell_type": "code",
   "execution_count": null,
   "id": "9a67e541-8cc4-4712-b931-a7802d648713",
   "metadata": {},
   "outputs": [],
   "source": [
    "P[0:200].round(5)"
   ]
  },
  {
   "cell_type": "code",
   "execution_count": null,
   "id": "213b6b92-3021-4dbc-8dc6-8d2ebce07286",
   "metadata": {},
   "outputs": [],
   "source": [
    "kif=sum(P)/(t*np.sqrt(np.pi*A))*2*(f0+f1*(D/A)+f2*(D/A)**2+f3*(D/A)**3)/((1-A/w)**1.5*(1-(D/A)**2)**1.5)"
   ]
  },
  {
   "cell_type": "code",
   "execution_count": null,
   "id": "e6856f1f-ddfd-48ad-aa7d-f4f15349a96c",
   "metadata": {},
   "outputs": [],
   "source": [
    "kif"
   ]
  },
  {
   "cell_type": "code",
   "execution_count": null,
   "id": "5a72dd08-daa7-4016-9edc-d8e068e1b095",
   "metadata": {},
   "outputs": [],
   "source": [
    "sumP=np.zeros(len(X))\n",
    "sumPr=np.zeros(len(X))\n",
    "for i in range(len(X)):\n",
    "    sumP[i]=sum(P[0:i])\n",
    "    sumPr[i]=sum(Pref[0:i])\n",
    "sumPr[0:100]"
   ]
  },
  {
   "cell_type": "code",
   "execution_count": null,
   "id": "f382f4a5-a89d-4c51-b5e5-f4a894aa99c9",
   "metadata": {
    "tags": []
   },
   "outputs": [],
   "source": [
    "kif=sumP/(t*np.sqrt(np.pi*A))*2*(f0+f1*(D/A)+f2*(D/A)**2+f3*(D/A)**3)/((1-A/w)**1.5*(1-(D/A)**2)**1.5)"
   ]
  },
  {
   "cell_type": "code",
   "execution_count": null,
   "id": "e9504657-9bfd-42f9-8cc8-1adf7d014653",
   "metadata": {
    "tags": []
   },
   "outputs": [],
   "source": [
    "kifr=sumPr/(t*np.sqrt(np.pi*A))*2*(f0+f1*(D/A)+f2*(D/A)**2+f3*(D/A)**3)/((1-A/w)**1.5*(1-(D/A)**2)**1.5)"
   ]
  },
  {
   "cell_type": "code",
   "execution_count": null,
   "id": "6b00fa32-8e04-463c-9915-0b7c03995138",
   "metadata": {
    "tags": []
   },
   "outputs": [],
   "source": [
    "kgrf=kif/kifr"
   ]
  },
  {
   "cell_type": "code",
   "execution_count": null,
   "id": "75241128-cc61-4df4-99fd-2e9a9ec9ed36",
   "metadata": {},
   "outputs": [],
   "source": [
    "plt.plot(X,kgrf)"
   ]
  },
  {
   "cell_type": "code",
   "execution_count": null,
   "id": "ae79d1d1-a6f4-4760-b61e-d81781b8b746",
   "metadata": {},
   "outputs": [],
   "source": [
    "kgrf[0:200].round(2)"
   ]
  },
  {
   "cell_type": "code",
   "execution_count": null,
   "id": "6a2fef8f-5157-408a-a449-fd773ad7dd7d",
   "metadata": {},
   "outputs": [],
   "source": [
    "kf[nmax]"
   ]
  },
  {
   "cell_type": "code",
   "execution_count": null,
   "id": "9f4384f9-87de-4992-a3a2-8bea2fd39dbc",
   "metadata": {},
   "outputs": [],
   "source": [
    "\n"
   ]
  }
 ],
 "metadata": {
  "kernelspec": {
   "display_name": "Python 3 (ipykernel)",
   "language": "python",
   "name": "python3"
  },
  "language_info": {
   "codemirror_mode": {
    "name": "ipython",
    "version": 3
   },
   "file_extension": ".py",
   "mimetype": "text/x-python",
   "name": "python",
   "nbconvert_exporter": "python",
   "pygments_lexer": "ipython3",
   "version": "3.9.12"
  }
 },
 "nbformat": 4,
 "nbformat_minor": 5
}
