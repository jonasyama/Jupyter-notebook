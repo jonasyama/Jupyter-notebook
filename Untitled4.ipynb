{
 "cells": [
  {
   "cell_type": "code",
   "execution_count": 1,
   "id": "642e3b77-1648-402f-9032-6acaf7bc172c",
   "metadata": {},
   "outputs": [],
   "source": [
    "import numpy as np \n",
    "import matplotlib.pyplot as plt\n",
    "import sympy as smp"
   ]
  },
  {
   "cell_type": "code",
   "execution_count": 2,
   "id": "3d963d1c-32a2-42ab-a82a-14fbe9b17f68",
   "metadata": {},
   "outputs": [
    {
     "data": {
      "text/latex": [
       "$\\displaystyle \\left(c_{1} \\cosh{\\left(\\frac{\\pi n x}{a} \\right)} + c_{3} \\sinh{\\left(\\frac{\\pi n x}{a} \\right)} + \\frac{\\pi c_{2} n y \\sinh{\\left(\\frac{\\pi n x}{a} \\right)}}{b} + \\frac{\\pi c_{4} n y \\cosh{\\left(\\frac{\\pi n x}{a} \\right)}}{b}\\right) \\left(c_{5} \\cosh{\\left(\\frac{\\pi n y}{b} \\right)} + c_{7} \\sinh{\\left(\\frac{\\pi n y}{b} \\right)} + \\frac{\\pi c_{6} n y \\sinh{\\left(\\frac{\\pi n y}{b} \\right)}}{b} + \\frac{\\pi c_{8} n y \\cosh{\\left(\\frac{\\pi n y}{b} \\right)}}{b}\\right)$"
      ],
      "text/plain": [
       "(c1*cosh(pi*n*x/a) + c3*sinh(pi*n*x/a) + pi*c2*n*y*sinh(pi*n*x/a)/b + pi*c4*n*y*cosh(pi*n*x/a)/b)*(c5*cosh(pi*n*y/b) + c7*sinh(pi*n*y/b) + pi*c6*n*y*sinh(pi*n*y/b)/b + pi*c8*n*y*cosh(pi*n*y/b)/b)"
      ]
     },
     "execution_count": 2,
     "metadata": {},
     "output_type": "execute_result"
    }
   ],
   "source": [
    "x,y,a,b,p,wm,v,d,E,f,h,alfa,c1,c2,c3,c4,c5,c6,c7,c8 =smp.symbols('x y a b p wm v D E f h alfa c1 c2 c3 c4 c5 c6 c7 c8')\n",
    "m,n,i,j=smp.symbols('m n i j', int=True)\n",
    "w,p,mx,my,mxy= smp.symbols('w p mx my mxy', cls=smp.Function)\n",
    "alfa=n*smp.pi/b*y\n",
    "alfa1=n*smp.pi/a*x\n",
    "w=w(x,y)\n",
    "p=p(x,y)\n",
    "mx=mx(x,y)\n",
    "my=my(x,y)\n",
    "mxy=mxy(x,y)\n",
    "wx=(c1*smp.cosh(alfa1)+c2*alfa*smp.sinh(alfa1)+c3*smp.sinh(alfa1)+c4*alfa*smp.cosh(alfa1))\n",
    "wy=(c5*smp.cosh(alfa)+c6*alfa*smp.sinh(alfa)+c7*smp.sinh(alfa)+c8*alfa*smp.cosh(alfa))\n",
    "w=wx*wy\n",
    "w"
   ]
  },
  {
   "cell_type": "code",
   "execution_count": 3,
   "id": "d4d06cd6-c1da-4165-a090-dbe43e60ffb5",
   "metadata": {},
   "outputs": [
    {
     "data": {
      "text/plain": [
       "[(c5*cosh(pi*n*y/b) + c7*sinh(pi*n*y/b) + pi*c6*n*y*sinh(pi*n*y/b)/b + pi*c8*n*y*cosh(pi*n*y/b)/b)*(pi*c1*n*sinh(pi*n*x/a)/a + pi*c3*n*cosh(pi*n*x/a)/a + pi**2*c2*n**2*y*cosh(pi*n*x/a)/(a*b) + pi**2*c4*n**2*y*sinh(pi*n*x/a)/(a*b)),\n",
       " (pi*c2*n*sinh(pi*n*x/a)/b + pi*c4*n*cosh(pi*n*x/a)/b)*(c5*cosh(pi*n*y/b) + c7*sinh(pi*n*y/b) + pi*c6*n*y*sinh(pi*n*y/b)/b + pi*c8*n*y*cosh(pi*n*y/b)/b) + (c1*cosh(pi*n*x/a) + c3*sinh(pi*n*x/a) + pi*c2*n*y*sinh(pi*n*x/a)/b + pi*c4*n*y*cosh(pi*n*x/a)/b)*(pi*c5*n*sinh(pi*n*y/b)/b + pi*c6*n*sinh(pi*n*y/b)/b + pi*c7*n*cosh(pi*n*y/b)/b + pi*c8*n*cosh(pi*n*y/b)/b + pi**2*c6*n**2*y*cosh(pi*n*y/b)/b**2 + pi**2*c8*n**2*y*sinh(pi*n*y/b)/b**2),\n",
       " (c5*cosh(pi*n*y/b) + c7*sinh(pi*n*y/b) + pi*c6*n*y*sinh(pi*n*y/b)/b + pi*c8*n*y*cosh(pi*n*y/b)/b)*(pi**2*c1*n**2*cosh(pi*n*x/a)/a**2 + pi**2*c3*n**2*sinh(pi*n*x/a)/a**2 + pi**3*c2*n**3*y*sinh(pi*n*x/a)/(a**2*b) + pi**3*c4*n**3*y*cosh(pi*n*x/a)/(a**2*b)),\n",
       " 2*(pi*c2*n*sinh(pi*n*x/a)/b + pi*c4*n*cosh(pi*n*x/a)/b)*(pi*c5*n*sinh(pi*n*y/b)/b + pi*c6*n*sinh(pi*n*y/b)/b + pi*c7*n*cosh(pi*n*y/b)/b + pi*c8*n*cosh(pi*n*y/b)/b + pi**2*c6*n**2*y*cosh(pi*n*y/b)/b**2 + pi**2*c8*n**2*y*sinh(pi*n*y/b)/b**2) + (c1*cosh(pi*n*x/a) + c3*sinh(pi*n*x/a) + pi*c2*n*y*sinh(pi*n*x/a)/b + pi*c4*n*y*cosh(pi*n*x/a)/b)*(pi**2*c5*n**2*cosh(pi*n*y/b)/b**2 + 2*pi**2*c6*n**2*cosh(pi*n*y/b)/b**2 + pi**2*c7*n**2*sinh(pi*n*y/b)/b**2 + 2*pi**2*c8*n**2*sinh(pi*n*y/b)/b**2 + pi**3*c6*n**3*y*sinh(pi*n*y/b)/b**3 + pi**3*c8*n**3*y*cosh(pi*n*y/b)/b**3),\n",
       " (2*pi**3*c2*n**3*sinh(pi*n*x/a)/(a**2*b) + 2*pi**3*c4*n**3*cosh(pi*n*x/a)/(a**2*b))*(pi*c5*n*sinh(pi*n*y/b)/b + pi*c6*n*sinh(pi*n*y/b)/b + pi*c7*n*cosh(pi*n*y/b)/b + pi*c8*n*cosh(pi*n*y/b)/b + pi**2*c6*n**2*y*cosh(pi*n*y/b)/b**2 + pi**2*c8*n**2*y*sinh(pi*n*y/b)/b**2) + (pi**2*c1*n**2*cosh(pi*n*x/a)/a**2 + pi**2*c3*n**2*sinh(pi*n*x/a)/a**2 + pi**3*c2*n**3*y*sinh(pi*n*x/a)/(a**2*b) + pi**3*c4*n**3*y*cosh(pi*n*x/a)/(a**2*b))*(pi**2*c5*n**2*cosh(pi*n*y/b)/b**2 + 2*pi**2*c6*n**2*cosh(pi*n*y/b)/b**2 + pi**2*c7*n**2*sinh(pi*n*y/b)/b**2 + 2*pi**2*c8*n**2*sinh(pi*n*y/b)/b**2 + pi**3*c6*n**3*y*sinh(pi*n*y/b)/b**3 + pi**3*c8*n**3*y*cosh(pi*n*y/b)/b**3),\n",
       " (c5*cosh(pi*n*y/b) + c7*sinh(pi*n*y/b) + pi*c6*n*y*sinh(pi*n*y/b)/b + pi*c8*n*y*cosh(pi*n*y/b)/b)*(pi**3*c1*n**3*sinh(pi*n*x/a)/a**3 + pi**3*c3*n**3*cosh(pi*n*x/a)/a**3 + pi**4*c2*n**4*y*cosh(pi*n*x/a)/(a**3*b) + pi**4*c4*n**4*y*sinh(pi*n*x/a)/(a**3*b)),\n",
       " (pi*c2*n*sinh(pi*n*x/a)/b + pi*c4*n*cosh(pi*n*x/a)/b)*(pi**2*c5*n**2*cosh(pi*n*y/b)/b**2 + 2*pi**2*c6*n**2*cosh(pi*n*y/b)/b**2 + pi**2*c7*n**2*sinh(pi*n*y/b)/b**2 + 2*pi**2*c8*n**2*sinh(pi*n*y/b)/b**2 + pi**3*c6*n**3*y*sinh(pi*n*y/b)/b**3 + pi**3*c8*n**3*y*cosh(pi*n*y/b)/b**3) + (2*pi*c2*n*sinh(pi*n*x/a)/b + 2*pi*c4*n*cosh(pi*n*x/a)/b)*(pi**2*c5*n**2*cosh(pi*n*y/b)/b**2 + 2*pi**2*c6*n**2*cosh(pi*n*y/b)/b**2 + pi**2*c7*n**2*sinh(pi*n*y/b)/b**2 + 2*pi**2*c8*n**2*sinh(pi*n*y/b)/b**2 + pi**3*c6*n**3*y*sinh(pi*n*y/b)/b**3 + pi**3*c8*n**3*y*cosh(pi*n*y/b)/b**3) + (c1*cosh(pi*n*x/a) + c3*sinh(pi*n*x/a) + pi*c2*n*y*sinh(pi*n*x/a)/b + pi*c4*n*y*cosh(pi*n*x/a)/b)*(pi**3*c5*n**3*sinh(pi*n*y/b)/b**3 + 3*pi**3*c6*n**3*sinh(pi*n*y/b)/b**3 + pi**3*c7*n**3*cosh(pi*n*y/b)/b**3 + 3*pi**3*c8*n**3*cosh(pi*n*y/b)/b**3 + pi**4*c6*n**4*y*cosh(pi*n*y/b)/b**4 + pi**4*c8*n**4*y*sinh(pi*n*y/b)/b**4),\n",
       " (c5*cosh(pi*n*y/b) + c7*sinh(pi*n*y/b) + pi*c6*n*y*sinh(pi*n*y/b)/b + pi*c8*n*y*cosh(pi*n*y/b)/b)*(pi**4*c1*n**4*cosh(pi*n*x/a)/a**4 + pi**4*c3*n**4*sinh(pi*n*x/a)/a**4 + pi**5*c2*n**5*y*sinh(pi*n*x/a)/(a**4*b) + pi**5*c4*n**5*y*cosh(pi*n*x/a)/(a**4*b)),\n",
       " 2*(pi*c2*n*sinh(pi*n*x/a)/b + pi*c4*n*cosh(pi*n*x/a)/b)*(pi**3*c5*n**3*sinh(pi*n*y/b)/b**3 + 3*pi**3*c6*n**3*sinh(pi*n*y/b)/b**3 + pi**3*c7*n**3*cosh(pi*n*y/b)/b**3 + 3*pi**3*c8*n**3*cosh(pi*n*y/b)/b**3 + pi**4*c6*n**4*y*cosh(pi*n*y/b)/b**4 + pi**4*c8*n**4*y*sinh(pi*n*y/b)/b**4) + (2*pi*c2*n*sinh(pi*n*x/a)/b + 2*pi*c4*n*cosh(pi*n*x/a)/b)*(pi**3*c5*n**3*sinh(pi*n*y/b)/b**3 + 3*pi**3*c6*n**3*sinh(pi*n*y/b)/b**3 + pi**3*c7*n**3*cosh(pi*n*y/b)/b**3 + 3*pi**3*c8*n**3*cosh(pi*n*y/b)/b**3 + pi**4*c6*n**4*y*cosh(pi*n*y/b)/b**4 + pi**4*c8*n**4*y*sinh(pi*n*y/b)/b**4) + (c1*cosh(pi*n*x/a) + c3*sinh(pi*n*x/a) + pi*c2*n*y*sinh(pi*n*x/a)/b + pi*c4*n*y*cosh(pi*n*x/a)/b)*(pi**4*c5*n**4*cosh(pi*n*y/b)/b**4 + 4*pi**4*c6*n**4*cosh(pi*n*y/b)/b**4 + pi**4*c7*n**4*sinh(pi*n*y/b)/b**4 + 4*pi**4*c8*n**4*sinh(pi*n*y/b)/b**4 + pi**5*c6*n**5*y*sinh(pi*n*y/b)/b**5 + pi**5*c8*n**5*y*cosh(pi*n*y/b)/b**5)]"
      ]
     },
     "execution_count": 3,
     "metadata": {},
     "output_type": "execute_result"
    }
   ],
   "source": [
    "def derivadas(w):\n",
    "    dwdx=smp.diff(w,x)\n",
    "    dwdy=smp.diff(w,y)\n",
    "    dwdx2=smp.diff(dwdx,x)\n",
    "    dwdy2=smp.diff(dwdy,y)\n",
    "    dwdx3=smp.diff(dwdx2,x)\n",
    "    dwdy3=smp.diff(dwdy2,y)\n",
    "    dwdx2y2=smp.diff((smp.diff(dwdy2,x)),x)\n",
    "    dwdx4=smp.diff(dwdx3,x)\n",
    "    dwdy4=smp.diff(dwdy3,y)\n",
    "    return [dwdx,dwdy,dwdx2,dwdy2,dwdx2y2,dwdx3,dwdy3,dwdx4,dwdy4]\n",
    "sol=derivadas(w)\n",
    "sol\n"
   ]
  },
  {
   "cell_type": "markdown",
   "id": "eccb2d38-821f-400f-9155-2a94f01ea1f9",
   "metadata": {},
   "source": [
    "condição de apoio em x"
   ]
  },
  {
   "cell_type": "code",
   "execution_count": null,
   "id": "8be336c8-a5fb-454a-a949-fa3482a3cebc",
   "metadata": {},
   "outputs": [],
   "source": []
  },
  {
   "cell_type": "code",
   "execution_count": 4,
   "id": "818e0fc3-8d4c-44e5-8019-685e31e26ac8",
   "metadata": {},
   "outputs": [
    {
     "data": {
      "text/latex": [
       "$\\displaystyle 5 v y^{2} + 5 x^{2}$"
      ],
      "text/plain": [
       "5*v*y**2 + 5*x**2"
      ]
     },
     "execution_count": 4,
     "metadata": {},
     "output_type": "execute_result"
    }
   ],
   "source": [
    "p=10\n",
    "px2=smp.integrate(smp.integrate(p,x),x)\n",
    "py2=smp.integrate(smp.integrate(p,y),y)\n",
    "Mxx=px2+v*py2\n",
    "Mxx\n"
   ]
  },
  {
   "cell_type": "markdown",
   "id": "85f94809-408e-4e81-9345-4071889853b8",
   "metadata": {},
   "source": [
    "wx0=w.subs([(x,0)])\n",
    "wxa=w.subs([(x,a)])\n",
    "wxa"
   ]
  },
  {
   "cell_type": "code",
   "execution_count": 5,
   "id": "be68de88-90a1-44e1-a8fa-301bf7926d57",
   "metadata": {},
   "outputs": [],
   "source": [
    "wy0=w.subs([(y,0)])\n",
    "wyb=w.subs([(y,b)])\n",
    "wx0=w.subs([(x,0)])\n",
    "wxa=w.subs([(x,a)])\n",
    "mx=1/d*(sol[3]+v*sol[4])\n",
    "my=1/d*(sol[4]+v*sol[3])\n",
    "mx0=mx.subs([(x,0)])\n",
    "mxa=mx.subs([(x,a)])\n",
    "my0=mx.subs([(y,0)])\n",
    "myb=mx.subs([(y,b)])\n",
    "\n"
   ]
  },
  {
   "cell_type": "code",
   "execution_count": 6,
   "id": "033e4efe-f4d3-43cc-8f66-3e1b88955380",
   "metadata": {},
   "outputs": [],
   "source": [
    "#sols=smp.solve([wx0,wxa,wy0,wyb,mx0,mxa,my0,myb],[c1,c2,c3,c4,c5,c6,c7,c8])"
   ]
  },
  {
   "cell_type": "code",
   "execution_count": 7,
   "id": "376be1fc-c99b-478c-a07a-f8b3ab170867",
   "metadata": {},
   "outputs": [
    {
     "data": {
      "text/plain": [
       "<function sympy.integrals.integrals.integrate(*args, meijerg=None, conds='piecewise', risch=None, heurisch=None, manual=None, **kwargs)>"
      ]
     },
     "execution_count": 7,
     "metadata": {},
     "output_type": "execute_result"
    }
   ],
   "source": [
    "E2=smp.diff(mxy,y)+smp.diff(mx,x) #qx\n",
    "E3=smp.diff(mxy,x)+smp.diff(my,y) #qy\n",
    "smp.integrate"
   ]
  },
  {
   "cell_type": "code",
   "execution_count": 8,
   "id": "9041ebda-71da-473b-9d9e-bc29991c2831",
   "metadata": {},
   "outputs": [],
   "source": [
    "s= derivadas(w)\n",
    "s\n",
    "p=10"
   ]
  },
  {
   "cell_type": "code",
   "execution_count": 9,
   "id": "a542f2b6-7ece-4b61-9cc2-e19c7c45203e",
   "metadata": {},
   "outputs": [
    {
     "data": {
      "text/latex": [
       "$\\displaystyle \\frac{5 x^{2} y^{2}}{2}$"
      ],
      "text/plain": [
       "5*x**2*y**2/2"
      ]
     },
     "execution_count": 9,
     "metadata": {},
     "output_type": "execute_result"
    }
   ],
   "source": [
    "pp=smp.integrate(smp.integrate(smp.integrate(smp.integrate(p,x),y),x),y)\n",
    "pp"
   ]
  },
  {
   "cell_type": "code",
   "execution_count": 10,
   "id": "6a67c045-22bd-4579-bc7a-f308b0cdccbf",
   "metadata": {},
   "outputs": [
    {
     "data": {
      "text/latex": [
       "$\\displaystyle D$"
      ],
      "text/plain": [
       "D"
      ]
     },
     "execution_count": 10,
     "metadata": {},
     "output_type": "execute_result"
    }
   ],
   "source": [
    "d"
   ]
  },
  {
   "cell_type": "code",
   "execution_count": null,
   "id": "2cb0ff93-be56-4539-9b7e-56c54455c251",
   "metadata": {},
   "outputs": [],
   "source": []
  }
 ],
 "metadata": {
  "kernelspec": {
   "display_name": "Python 3 (ipykernel)",
   "language": "python",
   "name": "python3"
  },
  "language_info": {
   "codemirror_mode": {
    "name": "ipython",
    "version": 3
   },
   "file_extension": ".py",
   "mimetype": "text/x-python",
   "name": "python",
   "nbconvert_exporter": "python",
   "pygments_lexer": "ipython3",
   "version": "3.9.12"
  }
 },
 "nbformat": 4,
 "nbformat_minor": 5
}
