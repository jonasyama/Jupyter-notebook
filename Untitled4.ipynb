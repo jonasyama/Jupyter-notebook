{
 "cells": [
  {
   "cell_type": "code",
   "execution_count": 1,
   "id": "56584c47-55c7-4daa-b5b1-d2c941aa5152",
   "metadata": {},
   "outputs": [],
   "source": [
    "import numpy as np \n",
    "import matplotlib.pyplot as plt\n",
    "import sympy as smp\n",
    "from sympy.plotting import plot\n",
    "import plotly.graph_objects as go\n",
    "from numpy import trapz"
   ]
  },
  {
   "cell_type": "code",
   "execution_count": 2,
   "id": "8d78ef94-0967-40d6-95a7-a993ecee37a9",
   "metadata": {},
   "outputs": [],
   "source": [
    "x,y,a,b,c,alfa,beta, sigma,lambd,kf,A,am,sigmay =smp.symbols('x y a b c α β σ γ k_f A amax σ_y')"
   ]
  },
  {
   "cell_type": "code",
   "execution_count": 5,
   "id": "842f0624-6a59-4d48-a0c3-54a90e4be228",
   "metadata": {},
   "outputs": [],
   "source": [
    "x=c*smp.cosh(alfa)*smp.cos(beta)\n",
    "y=c*smp.sinh(alfa)*smp.sin(beta)"
   ]
  },
  {
   "cell_type": "code",
   "execution_count": 7,
   "id": "62e5473e-a97a-4ea4-b868-0d591c0985c1",
   "metadata": {},
   "outputs": [
    {
     "data": {
      "text/latex": [
       "$\\displaystyle c \\cos{\\left(β \\right)} \\cosh{\\left(α \\right)}$"
      ],
      "text/plain": [
       "c*cos(β)*cosh(α)"
      ]
     },
     "execution_count": 7,
     "metadata": {},
     "output_type": "execute_result"
    }
   ],
   "source": [
    "x"
   ]
  },
  {
   "cell_type": "code",
   "execution_count": 8,
   "id": "b1c10301-9c5d-4adb-8b25-4b7375bcdb98",
   "metadata": {},
   "outputs": [
    {
     "data": {
      "text/latex": [
       "$\\displaystyle c \\sin{\\left(β \\right)} \\sinh{\\left(α \\right)}$"
      ],
      "text/plain": [
       "c*sin(β)*sinh(α)"
      ]
     },
     "execution_count": 8,
     "metadata": {},
     "output_type": "execute_result"
    }
   ],
   "source": [
    "y"
   ]
  },
  {
   "cell_type": "code",
   "execution_count": 11,
   "id": "450f4f38-239e-4276-934f-8456fd6da9c4",
   "metadata": {},
   "outputs": [],
   "source": [
    "a=1\n",
    "b=0.004*73+0.096"
   ]
  },
  {
   "cell_type": "code",
   "execution_count": 25,
   "id": "78c246ad-07fe-4b55-9af7-0eb2a3b483d4",
   "metadata": {},
   "outputs": [],
   "source": [
    "arad=smp.atanh(b/a)\n",
    "alfa=smp.atanh(b/a)*180/smp.pi"
   ]
  },
  {
   "cell_type": "code",
   "execution_count": 26,
   "id": "87892db1-7b48-49a5-a4ef-b96485902961",
   "metadata": {},
   "outputs": [
    {
     "data": {
      "text/latex": [
       "$\\displaystyle 23.4593804469474$"
      ],
      "text/plain": [
       "23.4593804469474"
      ]
     },
     "execution_count": 26,
     "metadata": {},
     "output_type": "execute_result"
    }
   ],
   "source": [
    "alfa.evalf()"
   ]
  },
  {
   "attachments": {
    "e2d409e5-e663-445f-aab9-253bcf1f2897.png": {
     "image/png": "[encoded data removed]"
    }
   },
   "cell_type": "markdown",
   "id": "ee57a88c-d0bc-4f0e-b0ff-9f56cff9f776",
   "metadata": {},
   "source": [
    "![image.png](attachment:e2d409e5-e663-445f-aab9-253bcf1f2897.png)"
   ]
  },
  {
   "cell_type": "code",
   "execution_count": 27,
   "id": "309867d7-1a76-4127-85be-29643a2cd99b",
   "metadata": {},
   "outputs": [],
   "source": [
    "c=1"
   ]
  },
  {
   "cell_type": "code",
   "execution_count": 32,
   "id": "75cf5f63-4d38-4856-8693-85bd32daaff9",
   "metadata": {},
   "outputs": [],
   "source": [
    "x=c*smp.cosh(arad)*smp.cos(beta)\n",
    "y=c*smp.sinh(arad)*smp.sin(beta)"
   ]
  },
  {
   "cell_type": "code",
   "execution_count": 38,
   "id": "4460f30d-9cf5-4fcb-ba20-c928dacbfe9f",
   "metadata": {},
   "outputs": [
    {
     "data": {
      "text/plain": [
       "0.5862277557685731"
      ]
     },
     "execution_count": 38,
     "metadata": {},
     "output_type": "execute_result"
    }
   ],
   "source": [
    "xx=smp.lambdify(beta,x)\n",
    "xx(1)"
   ]
  },
  {
   "cell_type": "code",
   "execution_count": 34,
   "id": "c9852295-6a3c-45cf-a761-e124b8247c68",
   "metadata": {},
   "outputs": [],
   "source": [
    "X=np.linspace(0,100,1000)\n",
    "Y=np.linspace(0,100,1000)"
   ]
  },
  {
   "cell_type": "code",
   "execution_count": 59,
   "id": "259fa35f-2c06-4659-93d7-ab5f45e084a8",
   "metadata": {},
   "outputs": [],
   "source": [
    "sigma=1*smp.exp(2*0.40944)*((1+smp.exp(-2*0.40944)*smp.sinh(2*0.40944))/(smp.cosh(2*0.40944)-smp.cos(2*beta))-1)\n",
    "S=smp.lambdify(beta,sigma)"
   ]
  },
  {
   "cell_type": "code",
   "execution_count": 64,
   "id": "79d8dd04-c0e4-4cd6-81aa-2ff6bafafff0",
   "metadata": {},
   "outputs": [
    {
     "name": "stderr",
     "output_type": "stream",
     "text": [
      "C:\\Users\\Jonas\\AppData\\Local\\Temp\\ipykernel_700\\4212112262.py:2: RuntimeWarning: divide by zero encountered in true_divide\n",
      "  beta=np.arctan(my/mx)\n",
      "C:\\Users\\Jonas\\AppData\\Local\\Temp\\ipykernel_700\\4212112262.py:2: RuntimeWarning: invalid value encountered in true_divide\n",
      "  beta=np.arctan(my/mx)\n"
     ]
    }
   ],
   "source": [
    "mx,my=np.meshgrid(X,Y)\n",
    "beta=np.arctan(my/mx)"
   ]
  },
  {
   "cell_type": "code",
   "execution_count": 60,
   "id": "99bb1d4c-be31-4bfc-8367-50e4230e7e1d",
   "metadata": {},
   "outputs": [
    {
     "data": {
      "text/plain": [
       "<matplotlib.contour.QuadContourSet at 0x264b87b6c40>"
      ]
     },
     "execution_count": 65,
     "metadata": {},
     "output_type": "execute_result"
    },
    {
     "data": {
      "image/png": "[encoded data removed]",
      "text/plain": [
       "<Figure size 432x288 with 1 Axes>"
      ]
     },
     "metadata": {
      "needs_background": "light"
     },
     "output_type": "display_data"
    }
   ],
   "source": [
    "plt.contourf(mx,my,S(mx/my))"
   ]
  },
  {
   "cell_type": "code",
   "execution_count": null,
   "id": "78a4248a-e8a2-4505-9b3f-c16534b3059d",
   "metadata": {},
   "outputs": [],
   "source": []
  }
 ],
 "metadata": {
  "kernelspec": {
   "display_name": "Python 3 (ipykernel)",
   "language": "python",
   "name": "python3"
  },
  "language_info": {
   "codemirror_mode": {
    "name": "ipython",
    "version": 3
   },
   "file_extension": ".py",
   "mimetype": "text/x-python",
   "name": "python",
   "nbconvert_exporter": "python",
   "pygments_lexer": "ipython3",
   "version": "3.9.12"
  }
 },
 "nbformat": 4,
 "nbformat_minor": 5
}
