{
 "cells": [
  {
   "cell_type": "code",
   "execution_count": 1,
   "id": "b0ca60b7-999e-40f5-a928-35a5846c83b5",
   "metadata": {},
   "outputs": [],
   "source": [
    "import numpy as np \n",
    "import matplotlib.pyplot as plt\n",
    "import sympy as smp"
   ]
  },
  {
   "cell_type": "code",
   "execution_count": 2,
   "id": "c0f3d89b-e221-4a22-b72b-79d204d67aa2",
   "metadata": {},
   "outputs": [],
   "source": [
    "x,r,theta,R,p,v,d,E,h,f,c1,c2,c3,q =smp.symbols('x r θ R p v d E h f c1 c2 c3 q')"
   ]
  },
  {
   "cell_type": "code",
   "execution_count": 3,
   "id": "5dc6b6c4-6d8c-45b6-97e6-3ea49bf2e5fc",
   "metadata": {},
   "outputs": [
    {
     "data": {
      "text/plain": [
       "58593.74999999999"
      ]
     },
     "execution_count": 3,
     "metadata": {},
     "output_type": "execute_result"
    }
   ],
   "source": [
    "E=25000000\n",
    "r=1\n",
    "R=5\n",
    "v=0.2\n",
    "h=0.3\n",
    "d=E*h**3/(12*(1-v**2))\n",
    "p=10\n",
    "d"
   ]
  },
  {
   "cell_type": "markdown",
   "id": "75123481-5902-46a5-81c4-32b6a9308d7d",
   "metadata": {},
   "source": [
    "#### O carregamento triangular fora do furo é dado em cordenadas polares por"
   ]
  },
  {
   "cell_type": "code",
   "execution_count": 4,
   "id": "b768748d-3c8b-4880-bb83-ef5042f34fde",
   "metadata": {},
   "outputs": [
    {
     "data": {
      "text/latex": [
       "$\\displaystyle \\frac{5 x}{2} - \\frac{5}{2}$"
      ],
      "text/plain": [
       "5*x/2 - 5/2"
      ]
     },
     "execution_count": 4,
     "metadata": {},
     "output_type": "execute_result"
    }
   ],
   "source": [
    "f=(x-r)*p/(R-r)\n",
    "f"
   ]
  },
  {
   "cell_type": "markdown",
   "id": "843465c6-32c5-4fa7-a798-f77de3a815e1",
   "metadata": {},
   "source": [
    "### o volume do carregamento para um raio r é dado por papa goudin:"
   ]
  },
  {
   "cell_type": "code",
   "execution_count": 5,
   "id": "9f01e02e-f237-4f76-a39a-7a5afbac418b",
   "metadata": {},
   "outputs": [
    {
     "data": {
      "text/latex": [
       "$\\displaystyle 2 \\pi x \\left(0.666666666666667 x + 0.333333333333333\\right) \\left(\\frac{5 x}{2} - \\frac{5}{2}\\right)$"
      ],
      "text/plain": [
       "2*pi*x*(0.666666666666667*x + 0.333333333333333)*(5*x/2 - 5/2)"
      ]
     },
     "execution_count": 5,
     "metadata": {},
     "output_type": "execute_result"
    }
   ],
   "source": [
    "F= f*(r+2/3*(x-r))*2*smp.pi*x\n",
    "F"
   ]
  },
  {
   "cell_type": "code",
   "execution_count": 6,
   "id": "ca9ecd69-0e62-4744-b01a-c911d3f64c6c",
   "metadata": {},
   "outputs": [],
   "source": [
    "q=F/(2*smp.pi*x)\n"
   ]
  },
  {
   "cell_type": "code",
   "execution_count": 7,
   "id": "6f82a6e4-81c4-424a-adf5-3b03649b2790",
   "metadata": {},
   "outputs": [
    {
     "data": {
      "text/latex": [
       "$\\displaystyle 0.25 c_{1} x^{2} + c_{2} \\log{\\left(x \\right)} + c_{3} + 3.79259259259259 \\cdot 10^{-7} x^{5} - 4.44444444444444 \\cdot 10^{-7} x^{4} - 1.58024691358025 \\cdot 10^{-6} x^{3}$"
      ],
      "text/plain": [
       "0.25*c1*x**2 + c2*log(x) + c3 + 3.79259259259259e-7*x**5 - 4.44444444444444e-7*x**4 - 1.58024691358025e-6*x**3"
      ]
     },
     "execution_count": 7,
     "metadata": {},
     "output_type": "execute_result"
    }
   ],
   "source": [
    "int1=smp.integrate(q/d,x)\n",
    "int2=smp.integrate(x*(int1),x)\n",
    "int3=smp.integrate(1/x*(int2),x)\n",
    "w=int3+1/4*c1*x**2+c2*smp.ln(x)+c3\n",
    "w"
   ]
  },
  {
   "cell_type": "code",
   "execution_count": null,
   "id": "d223b7fd-888f-4677-8f0b-6d76c03ac373",
   "metadata": {},
   "outputs": [],
   "source": []
  },
  {
   "cell_type": "code",
   "execution_count": 8,
   "id": "dd68a483-ea85-48d2-b614-66dcf938b050",
   "metadata": {},
   "outputs": [
    {
     "data": {
      "text/latex": [
       "$\\displaystyle 6.25 c_{1} + c_{2} \\log{\\left(5 \\right)} + c_{3} + 0.000709876543209877$"
      ],
      "text/plain": [
       "6.25*c1 + c2*log(5) + c3 + 0.000709876543209877"
      ]
     },
     "execution_count": 8,
     "metadata": {},
     "output_type": "execute_result"
    }
   ],
   "source": [
    "wr=w.subs([(x,R)])\n",
    "nabla2=smp.diff((smp.diff(w,x)),x)+1/x*(smp.diff(w,x))\n",
    "qr=-d*smp.diff(nabla2,x)\n",
    "q0=qr.subs([(x,r)])\n",
    "m=-d*(smp.diff((smp.diff(w,x)),x)+1/x*v*(smp.diff(w,x)))\n",
    "mr=m.subs([(x,R)])\n",
    "\n",
    "\n",
    "m0=m.subs([(x,r)])\n",
    "\n",
    "wr"
   ]
  },
  {
   "cell_type": "code",
   "execution_count": 9,
   "id": "ac8617cb-3aa1-4077-bfaa-57ed69b1de0d",
   "metadata": {},
   "outputs": [
    {
     "data": {
      "text/plain": [
       "{c1: -0.00139151275720165, c2: -0.00105382716049383, c3: 0.00968314757455195}"
      ]
     },
     "execution_count": 9,
     "metadata": {},
     "output_type": "execute_result"
    }
   ],
   "source": [
    "sols=smp.solve([wr,m0,mr],[c1,c2,c3])\n",
    "sols"
   ]
  },
  {
   "cell_type": "code",
   "execution_count": 10,
   "id": "08dd85fa-d2e6-4747-9449-b872aa11c632",
   "metadata": {},
   "outputs": [
    {
     "data": {
      "text/latex": [
       "$\\displaystyle - \\frac{117187.5 c_{2}}{x^{3}} - 1.33333333333333 x^{2} + 0.625 x + 0.555555555555556 - \\frac{58593.75 \\cdot \\left(0.5 c_{1} - \\frac{c_{2}}{x^{2}} + 7.58518518518519 \\cdot 10^{-6} x^{3} - 5.33333333333333 \\cdot 10^{-6} x^{2} - 9.48148148148148 \\cdot 10^{-6} x\\right)}{x} + \\frac{58593.75 \\cdot \\left(0.5 c_{1} x + \\frac{c_{2}}{x} + 1.8962962962963 \\cdot 10^{-6} x^{4} - 1.77777777777778 \\cdot 10^{-6} x^{3} - 4.74074074074074 \\cdot 10^{-6} x^{2}\\right)}{x^{2}}$"
      ],
      "text/plain": [
       "-117187.5*c2/x**3 - 1.33333333333333*x**2 + 0.625*x + 0.555555555555556 - 58593.75*(0.5*c1 - c2/x**2 + 7.58518518518519e-6*x**3 - 5.33333333333333e-6*x**2 - 9.48148148148148e-6*x)/x + 58593.75*(0.5*c1*x + c2/x + 1.8962962962963e-6*x**4 - 1.77777777777778e-6*x**3 - 4.74074074074074e-6*x**2)/x**2"
      ]
     },
     "execution_count": 10,
     "metadata": {},
     "output_type": "execute_result"
    }
   ],
   "source": [
    "nabla2=smp.diff((smp.diff(w,x)),x)+1/x*(smp.diff(w,x))\n",
    "qr=-d*smp.diff(nabla2,x)\n",
    "qr"
   ]
  },
  {
   "cell_type": "code",
   "execution_count": 11,
   "id": "1c2d9bd4-c2d9-4f0d-83e4-c0b0d482bdbc",
   "metadata": {},
   "outputs": [
    {
     "data": {
      "text/latex": [
       "$\\displaystyle 3.79259259259259 \\cdot 10^{-7} x^{5} - 4.44444444444444 \\cdot 10^{-7} x^{4} - 1.58024691358025 \\cdot 10^{-6} x^{3} - 0.000347878189300412 x^{2} - 0.00105382716049383 \\log{\\left(x \\right)} + 0.00968314757455195$"
      ],
      "text/plain": [
       "3.79259259259259e-7*x**5 - 4.44444444444444e-7*x**4 - 1.58024691358025e-6*x**3 - 0.000347878189300412*x**2 - 0.00105382716049383*log(x) + 0.00968314757455195"
      ]
     },
     "execution_count": 11,
     "metadata": {},
     "output_type": "execute_result"
    }
   ],
   "source": [
    "C1= sols[c1]\n",
    "C2=sols[c2]\n",
    "C3= sols[c3]\n",
    "wf=w.subs([(c3,C3),(c1,C1),(c2,C2)])\n",
    "Mr=-d*(smp.diff((smp.diff(wf,x)),x)+1/x*v*(smp.diff(wf,x)))\n",
    "wf"
   ]
  },
  {
   "cell_type": "code",
   "execution_count": 12,
   "id": "3f23a7ba-27a5-4498-834c-fc5922883951",
   "metadata": {},
   "outputs": [],
   "source": [
    "W=smp.lambdify([x],wf)\n",
    "MR=smp.lambdify([x],Mr)"
   ]
  },
  {
   "cell_type": "code",
   "execution_count": 45,
   "id": "9743d764-c816-4ca2-a586-5ca4b1ec6d7d",
   "metadata": {},
   "outputs": [
    {
     "data": {
      "text/plain": [
       "[<matplotlib.lines.Line2D at 0x2753b1e3130>]"
      ]
     },
     "execution_count": 45,
     "metadata": {},
     "output_type": "execute_result"
    },
    {
     "data": {
      "image/png": "[encoded data removed]",
      "text/plain": [
       "<Figure size 432x288 with 1 Axes>"
      ]
     },
     "metadata": {
      "needs_background": "light"
     },
     "output_type": "display_data"
    }
   ],
   "source": [
    "r1=np.linspace(1,5,500)\n",
    "t=np.linspace(0,2*np.pi,500)\n",
    "plt.plot(r1,-W(r1))"
   ]
  },
  {
   "cell_type": "code",
   "execution_count": 53,
   "id": "8b61d81b-3f84-4782-a83c-18f81d1dd56d",
   "metadata": {},
   "outputs": [
    {
     "data": {
      "text/plain": [
       "<matplotlib.colorbar.Colorbar at 0x2753bf556a0>"
      ]
     },
     "execution_count": 53,
     "metadata": {},
     "output_type": "execute_result"
    },
    {
     "data": {
      "image/png": "[encoded data removed]",
      "text/plain": [
       "<Figure size 432x288 with 2 Axes>"
      ]
     },
     "metadata": {
      "needs_background": "light"
     },
     "output_type": "display_data"
    }
   ],
   "source": [
    "ax=plt.subplot(projection='polar')\n",
    "ra, th = np.meshgrid(r1, t)\n",
    "x1=ra*np.cos(th)\n",
    "y1=ra*np.sin(th)\n",
    "plt.contourf(x1,y1,MR(ra))\n",
    "plt.colorbar()"
   ]
  },
  {
   "cell_type": "code",
   "execution_count": 47,
   "id": "8390deb9-def6-4777-8d7f-17afbf724cf1",
   "metadata": {},
   "outputs": [
    {
     "data": {
      "text/plain": [
       "[<matplotlib.lines.Line2D at 0x2753b222370>]"
      ]
     },
     "execution_count": 47,
     "metadata": {},
     "output_type": "execute_result"
    }
   ],
   "source": [
    "ax.plot(r1,t)"
   ]
  },
  {
   "cell_type": "code",
   "execution_count": null,
   "id": "b921fcdc-0cd8-4dee-8d31-058bac2fa845",
   "metadata": {},
   "outputs": [],
   "source": []
  }
 ],
 "metadata": {
  "kernelspec": {
   "display_name": "Python 3 (ipykernel)",
   "language": "python",
   "name": "python3"
  },
  "language_info": {
   "codemirror_mode": {
    "name": "ipython",
    "version": 3
   },
   "file_extension": ".py",
   "mimetype": "text/x-python",
   "name": "python",
   "nbconvert_exporter": "python",
   "pygments_lexer": "ipython3",
   "version": "3.9.12"
  }
 },
 "nbformat": 4,
 "nbformat_minor": 5
}
